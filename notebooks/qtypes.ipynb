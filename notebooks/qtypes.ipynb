{
 "cells": [
  {
   "cell_type": "code",
   "execution_count": 16,
   "metadata": {},
   "outputs": [],
   "source": [
    "import enum\n",
    "from collections import defaultdict\n",
    "\n",
    "import spacy\n",
    "from tqdm import tqdm"
   ]
  },
  {
   "cell_type": "code",
   "execution_count": 97,
   "metadata": {},
   "outputs": [],
   "source": [
    "import editdistance\n",
    "import sys\n",
    "\n",
    "rn = ['ii', 'iii', 'iv', 'v', 'vi', 'vii', 'viii', 'ix', 'x', 'xi', 'xii', 'xiii',\n",
    "                 'xiv', 'xv', 'xvi', 'xvii', 'xviii', 'xix', 'xx', 'xxi', 'xxii']\n",
    "\n",
    "rome_numbers = dict(zip(rn, range(2, 23)))\n",
    "\n",
    "def numbers_from(s):\n",
    "    res = set()\n",
    "    for w in s.split():\n",
    "        w = w.lower()\n",
    "        if w.isdecimal():\n",
    "            res.add(w)\n",
    "        if w in rome_numbers:\n",
    "            res.add(rome_numbers[w])\n",
    "    return res                 \n",
    "                 \n",
    "                 \n",
    "def is_number(s):\n",
    "    return s.lower() in rome_numbers or s.isdecimal()\n",
    "                     \n",
    "def scaled_editdist(ans, cor):\n",
    "    ans = ans.lower()\n",
    "    cor = cor.lower()\n",
    "    \n",
    "    return editdistance.eval(ans, cor) / len(cor)\n",
    "    \n",
    "def single_match(a, c):\n",
    "    numbers_c = numbers_from(c)\n",
    "    numbers_a = numbers_from(a)\n",
    "        \n",
    "    return numbers_a == numbers_c and scaled_editdist(a, c) < 0.5\n",
    "        \n",
    "def match(ans, cor):\n",
    "    return any(single_match(ans, c) for c in cor)"
   ]
  },
  {
   "cell_type": "code",
   "execution_count": 17,
   "metadata": {},
   "outputs": [],
   "source": [
    "nlp = spacy.load(\"pl_core_news_md\")"
   ]
  },
  {
   "cell_type": "code",
   "execution_count": 18,
   "metadata": {},
   "outputs": [],
   "source": [
    "with open(\"/home/jdworzans/projects/chatbots/data/task2_questions_with_answers.tsv\", \"rt\") as f:\n",
    "    content = f.read()"
   ]
  },
  {
   "cell_type": "code",
   "execution_count": 20,
   "metadata": {},
   "outputs": [],
   "source": [
    "questions_answers = []\n",
    "for l in content.splitlines():\n",
    "    question, *answers = l.split(\"\\t\")\n",
    "    questions_answers.append((question, answers))"
   ]
  },
  {
   "cell_type": "code",
   "execution_count": 21,
   "metadata": {},
   "outputs": [],
   "source": [
    "class QuestionType(enum.Enum):\n",
    "    UNKNOWN = 0\n",
    "    YES_NO = 1\n",
    "    SELECT = 2\n",
    "    NAME = 3"
   ]
  },
  {
   "cell_type": "code",
   "execution_count": 22,
   "metadata": {},
   "outputs": [],
   "source": [
    "def determine_type(q: str):\n",
    "    doc: spacy.tokens.Doc = nlp(q)\n",
    "    last_sentence: spacy.tokens.Span = list(doc.sents)[-1]\n",
    "    czy_count = 0\n",
    "    for token in last_sentence:\n",
    "        if token.lemma_ == \"czy\":\n",
    "            czy_count += 1\n",
    "    if czy_count > 0:\n",
    "        if czy_count == 1 and last_sentence[0].lemma_ == \"czy\":\n",
    "            return QuestionType.YES_NO\n",
    "        else:\n",
    "            return QuestionType.SELECT\n",
    "    if q.startswith(\"Jak nazywa\"):\n",
    "        return QuestionType.NAME\n",
    "    return QuestionType.UNKNOWN"
   ]
  },
  {
   "cell_type": "code",
   "execution_count": 23,
   "metadata": {},
   "outputs": [],
   "source": [
    "qa_groups = defaultdict(list)"
   ]
  },
  {
   "cell_type": "code",
   "execution_count": 24,
   "metadata": {},
   "outputs": [
    {
     "name": "stderr",
     "output_type": "stream",
     "text": [
      "100%|██████████| 3500/3500 [00:35<00:00, 99.38it/s] \n"
     ]
    }
   ],
   "source": [
    "for q, answers in tqdm(questions_answers):\n",
    "    group = determine_type(q)\n",
    "    qa_groups[group].append((q, answers))"
   ]
  },
  {
   "cell_type": "code",
   "execution_count": 26,
   "metadata": {},
   "outputs": [
    {
     "name": "stdout",
     "output_type": "stream",
     "text": [
      "QuestionType.NAME 616\n",
      "QuestionType.UNKNOWN 2361\n",
      "QuestionType.YES_NO 292\n",
      "QuestionType.SELECT 231\n"
     ]
    }
   ],
   "source": [
    "for group, qa_group in qa_groups.items():\n",
    "    print(group, len(qa_group))"
   ]
  },
  {
   "attachments": {},
   "cell_type": "markdown",
   "metadata": {},
   "source": [
    "# checks"
   ]
  },
  {
   "cell_type": "code",
   "execution_count": 27,
   "metadata": {},
   "outputs": [
    {
     "name": "stdout",
     "output_type": "stream",
     "text": [
      "W zdaniu: „Szybko przeskoczył przez płot” który wyraz jest przysłówkiem? ['szybko']\n",
      "Ile medali zdobyli Polacy na Mistrzostwach Świata w lekkiej atletyce w 2013 roku w Moskwie? ['trzy', '3']\n",
      "Wskaż przyimek w zdaniu „Idę do szkoły”. ['do']\n",
      "Które miasto jest stolicą Meksyku? ['Meksyk']\n",
      "Ku czci której greckiej bogini organizowane były panatenaje? ['Atena']\n",
      "Miłosz, Żeromski, Reymont – który z nich nie dostał Nagrody Nobla? ['Żeromski']\n",
      "Który rozbiór Polski nastąpił w 1772 roku? ['pierwszy', '1']\n",
      "Jaki pseudonim nosił Stanisław Wiechecki? ['Wiech']\n",
      "Ile razy w ciągu życia kwitną agawy? ['raz', '1']\n",
      "W filmie „Dyktator” Charlie Chaplin zagrał podwójną rolę. A kto był scenarzystą i reżyserem tego filmu? ['Charlie Chaplin']\n",
      "A2, A3, A4 – który z tych arkuszy papieru ma najmniejsze wymiary? ['A4']\n",
      "Którą wielką literą alfabetu oznacza się stałą grawitacji Newtona? ['G']\n",
      "Jak w szachach nazywa się ruch powodujący bezpośrednie zagrożenie króla? ['szach']\n",
      "Etna, Stromboli, Tambora – który wulkan nie wznosi się we Włoszech? ['Tambora']\n",
      "Jaką literą był oznaczany pierwszy model forda? ['T']\n",
      "Który wyraz w zdaniu „ten dom jest wysoki” jest przymiotnikiem? ['wysoki']\n",
      "Jak brzmi dopełniacz liczby pojedynczej rzeczownika muzeum? ['muzeum']\n",
      "Jak brzmi dopełniacz słowa kakao? ['kakao']\n",
      "Którą literę w alfabecie Morse'a oznaczają trzy kropki? ['S']\n",
      "Proszę podać dopełniacz liczby mnogiej słowa kobza? ['kobz']\n",
      "Czyją twarz miał Stańczyk na obrazie Jana Matejki? ['Jana Matejki']\n",
      "Jakim międzynarodowym skrótem oznacza się na mapach wschód? ['E']\n",
      "Na jakiej szerokości geograficznej leży równik? ['zero', '0']\n",
      "Pieter Bruegel Starszy miał dwóch synów. Proszę podać imię jednego z nich. ['Pieter', 'Jan']\n",
      "Twórcą obrazu „Dama z łasiczką” jest Leonardo da Vinci. A kto namalował „Damę z gronostajem”? ['Leonardo da Vinci']\n"
     ]
    }
   ],
   "source": [
    "for q, answers in qa_groups[QuestionType.UNKNOWN]:\n",
    "    if any(answer.lower() in q.lower() for answer in answers):\n",
    "        print(q, answers)"
   ]
  },
  {
   "cell_type": "code",
   "execution_count": 29,
   "metadata": {},
   "outputs": [
    {
     "name": "stdout",
     "output_type": "stream",
     "text": [
      "Czy bulaj i iluminator są tym samym? ['nie']\n",
      "1246 to liczba parzysta? ['tak']\n"
     ]
    }
   ],
   "source": [
    "for q, answers in qa_groups[QuestionType.UNKNOWN]:\n",
    "    if any(answer.lower() in {\"tak\", \"nie\"} for answer in answers):\n",
    "        print(q, answers)"
   ]
  },
  {
   "cell_type": "code",
   "execution_count": 34,
   "metadata": {},
   "outputs": [
    {
     "name": "stdout",
     "output_type": "stream",
     "text": [
      "Czy choroba Heinego-Medina i dziecięce porażenie to ta sama choroba? ['wokół głowy']\n"
     ]
    }
   ],
   "source": [
    "for q, answers in qa_groups[QuestionType.YES_NO]:\n",
    "    if all(answer.lower() not in {\"tak\", \"nie\"} for answer in answers):\n",
    "        print(q, answers)"
   ]
  },
  {
   "cell_type": "code",
   "execution_count": 35,
   "metadata": {},
   "outputs": [
    {
     "name": "stdout",
     "output_type": "stream",
     "text": [
      "Wyspy Zielonego Przylądka leżą bliżej Afryki czy Azji? ['Kto śpiewa piosenkę z czołówki M jak miłość?']\n",
      "Co ile lat odradzał się z popiołów mityczny feniks – co 50, co 500 czy co 5000 lat? ['co 500 lat']\n",
      "Miesiąc miodowy to okres przed czy po ślubie? ['przed ślubem']\n",
      "Czy trybun ludowy był w starożytnym Rzymie urzędnikiem broniącym plebsu czy ministrem spraw zagranicznych? ['urzędnikiem broniącym spraw plebsu']\n",
      "Kiedy powstał w Nowym Jorku wieżowiec Chryslera: przed I wojną światową czy po niej? ['po I wojnie światowej']\n",
      "Która liczba jest większa: milion milionów czy tysiąc miliardów? ['są równe']\n",
      "Wołyń leży na Litwie, Ukrainie czy Białorusi? ['na Ukrainie']\n",
      "Który liczba jest większa: pierwiastek kwadratowy z 9 czy pierwiastek sześcienny z 27? ['są równe']\n",
      "Który stopień jest wyższy: pułkownik czy komandor? ['są równe']\n",
      "Premiera „Dziadów” w reżyserii Wyspiańskiego miała miejsce w XIX czy XX wieku? ['w XX', '20']\n",
      "Film „Zemsta Sithów” opowiada o Rycerzach Okrągłego Stołu czy rycerzach Jedi? ['o rycerzach Jedi']\n",
      "Co jest większe: litr czy jeden decymetr sześcienny? ['są równe']\n",
      "Orzeł w godle Polski ma głowę zwróconą w swoją prawą czy lewą stronę? ['w prawą']\n",
      "Kornel Makuszyński powołał do życia Koziołka Matołka przed czy po II wojnie światowej? ['przed II wojną światową']\n",
      "Węzeł AV i SA występują w mózgu czy sercu? ['w sercu']\n",
      "Sonata to utwór instrumentalny czy wokalny? ['instrumentalna']\n",
      "Listy św. Pawła, św. Piotra znajdują się w Starym czy Nowym Testamencie? ['w Nowym']\n",
      "Warszawska dzielnica Praga leży na lewym czy prawym brzegu Wisły? ['na prawym']\n",
      "Kugiel to jedna z tradycyjnych potraw kuchni żydowskiej, czy tę potrawę przygotowuje kugler? ['nie']\n",
      "Przylądek Akcjum znajduje się w Afryce czy Europie? ['w Europie']\n",
      "Rozrusznik serca, stent – to endo- czy egzoprotezy? ['endoprotezy']\n"
     ]
    }
   ],
   "source": [
    "for q, answers in qa_groups[QuestionType.SELECT]:\n",
    "    if all(answer.lower() not in q.lower() for answer in answers):\n",
    "        print(q, answers)"
   ]
  },
  {
   "cell_type": "code",
   "execution_count": 36,
   "metadata": {},
   "outputs": [
    {
     "name": "stdout",
     "output_type": "stream",
     "text": [
      "Które miasto jest stolicą Meksyku? ['Meksyk']\n",
      "Który rozbiór Polski nastąpił w 1772 roku? ['pierwszy', '1']\n",
      "Którą wielką literą alfabetu oznacza się stałą grawitacji Newtona? ['G']\n",
      "Który wyraz w zdaniu „ten dom jest wysoki” jest przymiotnikiem? ['wysoki']\n",
      "Którą literę w alfabecie Morse'a oznaczają trzy kropki? ['S']\n"
     ]
    }
   ],
   "source": [
    "for q, answers in qa_groups[QuestionType.UNKNOWN]:\n",
    "    if q.startswith(\"Któr\") and any(answer.lower() in q.lower() for answer in answers):\n",
    "        print(q, answers)"
   ]
  },
  {
   "attachments": {},
   "cell_type": "markdown",
   "metadata": {},
   "source": [
    "# Experiments"
   ]
  },
  {
   "attachments": {},
   "cell_type": "markdown",
   "metadata": {},
   "source": [
    "### YES_NO"
   ]
  },
  {
   "cell_type": "code",
   "execution_count": 82,
   "metadata": {},
   "outputs": [],
   "source": [
    "from collections import Counter"
   ]
  },
  {
   "cell_type": "code",
   "execution_count": 83,
   "metadata": {},
   "outputs": [
    {
     "data": {
      "text/plain": [
       "[('Czy ameba ma kształt?', ['nie', 'ma zmienny'])]"
      ]
     },
     "execution_count": 83,
     "metadata": {},
     "output_type": "execute_result"
    }
   ],
   "source": [
    "[(q, answers) for (q, answers) in qa_groups[QuestionType.YES_NO] if len(answers) > 1]"
   ]
  },
  {
   "cell_type": "code",
   "execution_count": 84,
   "metadata": {},
   "outputs": [
    {
     "data": {
      "text/plain": [
       "Counter({'tak': 185, 'nie': 106, 'wokół głowy': 1})"
      ]
     },
     "execution_count": 84,
     "metadata": {},
     "output_type": "execute_result"
    }
   ],
   "source": [
    "yes_no_counter = Counter([answers[0] for (q, answers) in qa_groups[QuestionType.YES_NO]])\n",
    "yes_no_counter"
   ]
  },
  {
   "cell_type": "code",
   "execution_count": 85,
   "metadata": {},
   "outputs": [
    {
     "data": {
      "text/plain": [
       "0.6335616438356164"
      ]
     },
     "execution_count": 85,
     "metadata": {},
     "output_type": "execute_result"
    }
   ],
   "source": [
    "yes_no_counter[\"tak\"] / len(qa_groups[QuestionType.YES_NO])"
   ]
  },
  {
   "cell_type": "code",
   "execution_count": 86,
   "metadata": {},
   "outputs": [
    {
     "data": {
      "text/plain": [
       "0.05285714285714286"
      ]
     },
     "execution_count": 86,
     "metadata": {},
     "output_type": "execute_result"
    }
   ],
   "source": [
    "yes_no_counter[\"tak\"] / len(questions_answers)"
   ]
  },
  {
   "cell_type": "code",
   "execution_count": 293,
   "metadata": {},
   "outputs": [
    {
     "data": {
      "text/plain": [
       "0.06885714285714285"
      ]
     },
     "execution_count": 293,
     "metadata": {},
     "output_type": "execute_result"
    }
   ],
   "source": [
    "(185 + 56) / len(questions_answers)"
   ]
  },
  {
   "attachments": {},
   "cell_type": "markdown",
   "metadata": {},
   "source": [
    "### SELECT"
   ]
  },
  {
   "cell_type": "code",
   "execution_count": 88,
   "metadata": {},
   "outputs": [],
   "source": [
    "import re"
   ]
  },
  {
   "cell_type": "code",
   "execution_count": 87,
   "metadata": {},
   "outputs": [
    {
     "data": {
      "text/plain": [
       "[('Hakownica to broń sieczna czy palna?', ['palna', 'Londyn']),\n",
       " ('Utlenianie to przyjmowanie czy oddawanie elektronów?',\n",
       "  ['oddawanie', 'Którym słowem określano damy dworskie?']),\n",
       " ('Markiza de Pompadour była faworytą Ludwika XV czy XVI?', ['XV', '15']),\n",
       " ('Premiera „Dziadów” w reżyserii Wyspiańskiego miała miejsce w XIX czy XX wieku?',\n",
       "  ['w XX', '20'])]"
      ]
     },
     "execution_count": 87,
     "metadata": {},
     "output_type": "execute_result"
    }
   ],
   "source": [
    "[(q, answers) for (q, answers) in qa_groups[QuestionType.SELECT] if len(answers) > 1]"
   ]
  },
  {
   "cell_type": "code",
   "execution_count": 112,
   "metadata": {},
   "outputs": [
    {
     "data": {
      "text/plain": [
       "231"
      ]
     },
     "execution_count": 112,
     "metadata": {},
     "output_type": "execute_result"
    }
   ],
   "source": [
    "len(qa_groups[QuestionType.SELECT])"
   ]
  },
  {
   "cell_type": "code",
   "execution_count": 113,
   "metadata": {},
   "outputs": [],
   "source": [
    "pattern = re.compile(\"(.*?) to (.*?)(?:, (.*?))* czy (.*?)\\?\")"
   ]
  },
  {
   "cell_type": "code",
   "execution_count": 171,
   "metadata": {},
   "outputs": [
    {
     "data": {
      "text/plain": [
       "114"
      ]
     },
     "execution_count": 171,
     "metadata": {},
     "output_type": "execute_result"
    }
   ],
   "source": [
    "matched = [qa for qa in qa_groups[QuestionType.SELECT] if pattern.match(qa[0])]\n",
    "len(matched)"
   ]
  },
  {
   "cell_type": "code",
   "execution_count": 192,
   "metadata": {},
   "outputs": [
    {
     "data": {
      "text/plain": [
       "'komórki glonów'"
      ]
     },
     "execution_count": 192,
     "metadata": {},
     "output_type": "execute_result"
    }
   ],
   "source": [
    "\" \".join(opts[0].split()[-len(opts[-1].split()):])"
   ]
  },
  {
   "cell_type": "code",
   "execution_count": 206,
   "metadata": {},
   "outputs": [],
   "source": [
    "def tokenize(word):\n",
    "    return filter(None, [\n",
    "        re.search(\"\\w*\", t)[0]\n",
    "        for t in word.lower().split()\n",
    "    ])"
   ]
  },
  {
   "cell_type": "code",
   "execution_count": 207,
   "metadata": {},
   "outputs": [],
   "source": [
    "import requests"
   ]
  },
  {
   "cell_type": "code",
   "execution_count": 208,
   "metadata": {},
   "outputs": [],
   "source": [
    "SOLR_URL = \"http://localhost:8983/solr/dialogs/query\""
   ]
  },
  {
   "cell_type": "code",
   "execution_count": 286,
   "metadata": {},
   "outputs": [],
   "source": [
    "def select_counts(q):\n",
    "    description, *opts = pattern.findall(q)[0]\n",
    "    if len(opts[-1].split()) == 1:\n",
    "        description = \" \".join([description] + opts[0].split()[:-1])\n",
    "        opts[0] = opts[0].split()[-1]\n",
    "    counts = []\n",
    "    description_query = \" OR \".join([f\"content_txt_pl:{t}\" for t in tokenize(description)])\n",
    "    for opt in filter(None, opts):\n",
    "        opt_query = \" OR \".join([f\"content_txt_pl:{t}\" for t in tokenize(opt)])\n",
    "        solr_query = f'({description_query}) AND ({opt_query})'\n",
    "        r = requests.get(\n",
    "            SOLR_URL,\n",
    "            json={\"query\": solr_query}\n",
    "        )\n",
    "        response = r.json()\n",
    "        counts.append((response[\"response\"][\"numFound\"], opt))\n",
    "    counts = sorted(counts, reverse=True)\n",
    "    return counts"
   ]
  },
  {
   "cell_type": "code",
   "execution_count": 290,
   "metadata": {},
   "outputs": [],
   "source": [
    "def select2_counts(q):\n",
    "    description, *opts = pattern.findall(q)[0]\n",
    "    if len(opts[-1].split()) == 1:\n",
    "        description = \" \".join([description] + opts[0].split()[:-1])\n",
    "        opts[0] = opts[0].split()[-1]\n",
    "    counts = []\n",
    "    description_query = \" OR \".join([f\"title_txt_pl:{t}\" for t in tokenize(description)])\n",
    "    for opt in filter(None, opts):\n",
    "        opt_query = \" OR \".join([f\"content_txt_pl:{t}\" for t in tokenize(opt)])\n",
    "        solr_query = f'({description_query}) AND ({opt_query})'\n",
    "        r = requests.get(\n",
    "            SOLR_URL,\n",
    "            json={\"query\": solr_query}\n",
    "        )\n",
    "        response = r.json()\n",
    "        counts.append((response[\"response\"][\"numFound\"], opt))\n",
    "    counts = sorted(counts, reverse=True)\n",
    "    return counts"
   ]
  },
  {
   "cell_type": "code",
   "execution_count": 289,
   "metadata": {},
   "outputs": [
    {
     "name": "stdout",
     "output_type": "stream",
     "text": [
      "(content_txt_pl:tuja OR content_txt_pl:roślina) AND (content_txt_pl:liściasta)\n",
      "Tuja roślina\n"
     ]
    }
   ],
   "source": [
    "q = \"Tuja to roślina iglasta czy liściasta?\"\n",
    "description, *opts = pattern.findall(q)[0]\n",
    "if len(opts[-1].split()) == 1:\n",
    "    description = \" \".join([description] + opts[0].split()[:-1])\n",
    "    opts[0] = opts[0].split()[-1]\n",
    "counts = []\n",
    "description_query = \" OR \".join([f\"content_txt_pl:{t}\" for t in tokenize(description)])\n",
    "for opt in filter(None, opts):\n",
    "    opt_query = \" OR \".join([f\"content_txt_pl:{t}\" for t in tokenize(opt)])\n",
    "    solr_query = f'({description_query}) AND ({opt_query})'\n",
    "    r = requests.get(\n",
    "        SOLR_URL,\n",
    "        json={\"query\": solr_query}\n",
    "    )\n",
    "    response = r.json()\n",
    "    counts.append((response[\"response\"][\"numFound\"], opt))\n",
    "counts = sorted(counts, reverse=True)\n",
    "print(solr_query)\n",
    "print(description)"
   ]
  },
  {
   "cell_type": "code",
   "execution_count": 277,
   "metadata": {},
   "outputs": [],
   "source": [
    "from tqdm import tqdm"
   ]
  },
  {
   "cell_type": "code",
   "execution_count": null,
   "metadata": {},
   "outputs": [],
   "source": [
    "q_counts = [\n",
    "    select2_counts(q)\n",
    "    for (q, _) in tqdm(matched)\n",
    "]"
   ]
  },
  {
   "cell_type": "code",
   "execution_count": 292,
   "metadata": {},
   "outputs": [
    {
     "name": "stdout",
     "output_type": "stream",
     "text": [
      "Punkt przecięcia osi w układzie współrzędnych to punkt zero czy linia odcięcia? ['punkt zero'] linia odcięcia [(2365, 'linia odcięcia'), (2012, 'punkt zero')]\n",
      "Baron to tytuł wyższy czy niższy niż hrabia? ['niższy'] tytuł wyższy [(69, 'tytuł wyższy'), (26, 'niższy niż hrabia')]\n",
      "Marmury Elgina to świątynia w Atenach czy zbiór starożytnych rzeźb greckich? ['zbiór starożytnych rzeźb greckich'] świątynia w Atenach [(7, 'świątynia w Atenach'), (2, 'zbiór starożytnych rzeźb greckich')]\n",
      "Średniowieczne gęśle to instrument szarpany czy dęty? ['szarpany'] dęty [(15, 'dęty'), (9, 'szarpany')]\n",
      "Miesiąc miodowy to okres przed czy po ślubie? ['przed ślubem'] po ślubie [(4, 'po ślubie'), (4, 'okres przed')]\n",
      "Dybuk to dusza zmarłego grzesznika wstępująca do ciała żywego czy duch w domostwie domowym? ['dusza zmarłego grzesznika wstępująca do ciała żywego'] duch w domostwie domowym [(4, 'duch w domostwie domowym'), (2, 'dusza zmarłego grzesznika wstępująca do ciała żywego')]\n",
      "Diablotka to ostro przyprawiona zupa rybna czy placek z ciasta francuskiego? ['placek'] placek z ciasta francuskiego [(1, 'placek z ciasta francuskiego'), (0, 'ostro przyprawiona zupa rybna')]\n",
      "Synogarlice to odmiana gołębi czy sikorek? ['gołębi'] sikorek [(0, 'sikorek'), (0, 'gołębi')]\n",
      "Ju-jitsu to starojapoński styl walki wręcz czy przy pomocy kijów bambusowych? ['wręcz'] starojapoński styl walki wręcz [(6, 'starojapoński styl walki wręcz'), (1, 'przy pomocy kijów bambusowych')]\n",
      "Izotopy to atomy o tej samej liczbie masowej czy atomowej? ['atomowej'] masowej [(25, 'masowej'), (20, 'atomowej')]\n",
      "Władca Omanu to sułtan, emir czy król? ['sułtan'] król [(95, 'król'), (10, 'sułtan'), (1, 'emir')]\n",
      "Kirys to nazwa broni siecznej, palnej czy części zbroi rycerskiej? ['części zbroi'] części zbroi rycerskiej [(1, 'części zbroi rycerskiej'), (0, 'palnej'), (0, 'nazwa broni siecznej')]\n",
      "W architekturze islamu bab to okno czy brama? ['brama'] okno [(788, 'okno'), (733, 'brama')]\n",
      "Grań to ostra krawędź stoku górskiego czy przełęcz górska? ['ostra krawędź stoku górskiego'] przełęcz górska [(41, 'przełęcz górska'), (19, 'ostra krawędź stoku górskiego')]\n",
      "Utlenianie to przyjmowanie czy oddawanie elektronów? ['oddawanie', 'Którym słowem określano damy dworskie?'] oddawanie elektronów [(2, 'oddawanie elektronów'), (0, 'przyjmowanie')]\n",
      "Przemysław Niemiec i Rafał Majka to polscy kolarze czy żużlowcy? ['kolarze'] żużlowcy [(91, 'żużlowcy'), (11, 'kolarze')]\n",
      "Konformista to człowiek bezkrytycznie podporządkowujący się normom czy też sprzeciwiający się im? ['podporządkowujący się normom'] też sprzeciwiający się im [(0, 'też sprzeciwiający się im'), (0, 'człowiek bezkrytycznie podporządkowujący się normom')]\n",
      "Jeżowiec jadalny to zwierzę czy roślina? ['zwierzę'] roślina [(15, 'roślina'), (3, 'zwierzę')]\n",
      "Chinook to wiatr gorący czy zimny? ['gorący'] zimny [(6, 'zimny'), (0, 'gorący')]\n",
      "Buszel to anglosaska jednostka powierzchni, objętości czy promieniotwórczości? ['objętości'] powierzchni [(9, 'powierzchni'), (7, 'objętości'), (0, 'promieniotwórczości')]\n",
      "Brit Awards to nagrody filmowe, muzyczne czy teatralne? ['muzyczne'] filmowe [(281, 'filmowe'), (107, 'muzyczne'), (11, 'teatralne')]\n",
      "ASEAN to organizacja skupiająca państwa Afryki czy Azji? ['Azji'] Afryki [(29, 'Afryki'), (0, 'Azji')]\n",
      "Groszek ptysiowy to roślina czy wypiek? ['wypiek'] roślina [(18, 'roślina'), (1, 'wypiek')]\n",
      "Leukocyty to białe krwinki czy czerwone? ['białe'] czerwone [(62, 'czerwone'), (1, 'krwinki')]\n",
      "Muffin to element ubioru, rodzaj gry czy ciastko? ['ciastko'] rodzaj gry [(7, 'rodzaj gry'), (1, 'ciastko'), (0, 'ubioru')]\n",
      "Iryd to stop metali czy pierwiastek? ['pierwiastek'] metali [(20, 'metali'), (0, 'pierwiastek')]\n",
      "Klezmer to potoczne określenie muzyka czy wędrownego aktora? ['muzyka'] potoczne określenie muzyka [(4, 'potoczne określenie muzyka'), (0, 'wędrownego aktora')]\n",
      "Co to jest dzięcielina z „Pana Tadeusza”: bielizna, roślina czy instrument muzyczny? ['roślina'] instrument muzyczny [(23953, 'instrument muzyczny'), (13971, 'roślina'), (170, 'jest dzięcielina z „Pana Tadeusza”: bielizna')]\n",
      "Czy chablis to wino białe czy czerwone? ['białe'] czerwone [(15, 'czerwone'), (12, 'białe')]\n",
      "Górnik Bulandra, kowalczyk Karlik, wojak Zeflik – to postaci z baśni Gustawa Morcinka czy braci Grimm? ['Gustawa Morcinka'] braci Grimm [(19, 'braci Grimm'), (2, 'postaci z baśni Gustawa Morcinka')]\n",
      "Enduro to rajd samochodowy czy motocyklowy? ['motocyklowy'] samochodowy [(168, 'samochodowy'), (3, 'motocyklowy')]\n",
      "Aerostat to urządzenie lżejsze czy cięższe od powietrza? ['lżejsze'] cięższe od powietrza [(1, 'cięższe od powietrza'), (0, 'urządzenie lżejsze')]\n",
      "Psy gończe to gwiazdozbiór nieba północnego czy południowego? ['północnego'] południowego [(58, 'południowego'), (50, 'północnego')]\n",
      "Czy papier to wynalazek europejski czy azjatycki? ['azjatycki'] europejski [(4, 'europejski'), (0, 'azjatycki')]\n",
      "Birbant to inaczej hulaka czy skąpiec? ['hulaka'] skąpiec [(0, 'skąpiec'), (0, 'hulaka')]\n",
      "Laminat to tworzywo jedno- czy wielowarstwowe? ['wielowarstwowe'] jedno- [(18, 'jedno-'), (0, 'wielowarstwowe')]\n",
      "Karpaty to góry fałdowe, zrębowe czy wulkaniczne? ['fałdowe'] wulkaniczne [(66, 'wulkaniczne'), (10, 'zrębowe'), (6, 'fałdowe')]\n",
      "Kurtuazyjny styl to takt i uprzejmość czy złośliwości? ['takt i uprzejmość'] złośliwości [(0, 'złośliwości'), (0, 'uprzejmość')]\n",
      "Belle époque to okres przed czy po I wojnie światowej? ['przed'] po I wojnie światowej [(29, 'po I wojnie światowej'), (12, 'okres przed')]\n",
      "Jurta to namiot ludów koczowniczych Azji czy Indian? ['Azji'] Indian [(0, 'Indian'), (0, 'Azji')]\n",
      "Pippin, Sam i Merry to hobbici czy elfy? ['hobbici'] elfy [(1, 'elfy'), (0, 'hobbici')]\n",
      "Czy czad to tlenek czy dwutlenek węgla? ['tlenek węgla'] tlenek [(0, 'tlenek'), (0, 'dwutlenek węgla')]\n",
      "Piaf to prawdziwe nazwisko czy pseudonim słynnej śpiewaczki? ['pseudonim'] pseudonim słynnej śpiewaczki [(2, 'pseudonim słynnej śpiewaczki'), (0, 'prawdziwe nazwisko')]\n",
      "Na wielomasztowym żaglowcu fokmaszt to maszt z przodu, w środku czy z tyłu statku? ['z przodu'] w środku [(13, 'w środku'), (7, 'maszt z przodu'), (6, 'z tyłu statku')]\n",
      "Czy szerszenie to rodzaj dużych os, czy dużych pszczół? ['os'] dużych pszczół [(3, 'dużych pszczół'), (2, 'rodzaj dużych os,')]\n",
      "Kugiel to jedna z tradycyjnych potraw kuchni żydowskiej, czy tę potrawę przygotowuje kugler? ['nie'] tę potrawę przygotowuje kugler [(0, 'tę potrawę przygotowuje kugler'), (0, 'jedna z tradycyjnych potraw kuchni żydowskiej,')]\n",
      "Mikołaj Kossak to ojciec czy dziadek Marii Pawlikowskiej-Jasnorzewskiej? ['dziadek'] ojciec [(364, 'ojciec'), (7, 'dziadek Marii Pawlikowskiej-Jasnorzewskiej')]\n",
      "Anchois to francuskie określenie potrawy z ryb, ślimaków czy żabich udek? ['z ryb'] francuskie określenie potrawy z ryb [(1, 'francuskie określenie potrawy z ryb'), (0, 'żabich udek'), (0, 'ślimaków')]\n",
      "Czy trąd to choroba przenoszona przez bakterie czy wirusy? ['przez bakterie'] wirusy [(24, 'wirusy'), (17, 'bakterie')]\n",
      "Słupek to organ rozrodczy męski czy żeński? ['męski'] żeński [(2, 'żeński'), (1, 'męski')]\n",
      "Rozrusznik serca, stent – to endo- czy egzoprotezy? ['endoprotezy'] endo- [(0, 'endo-'), (0, 'egzoprotezy')]\n"
     ]
    },
    {
     "data": {
      "text/plain": [
       "63"
      ]
     },
     "execution_count": 292,
     "metadata": {},
     "output_type": "execute_result"
    }
   ],
   "source": [
    "answer_match = 0\n",
    "for (q, answers), counts in zip(matched, q_counts):\n",
    "    # counts = select_counts(q)\n",
    "    a = counts[0][1]\n",
    "    if match(a, answers):\n",
    "        answer_match += 1\n",
    "    else:\n",
    "        print(q, answers, a, counts)\n",
    "answer_match"
   ]
  },
  {
   "cell_type": "code",
   "execution_count": null,
   "metadata": {},
   "outputs": [],
   "source": [
    "q_counts = [\n",
    "    select_counts(q)\n",
    "    for (q, _) in tqdm(matched)\n",
    "]"
   ]
  },
  {
   "cell_type": "code",
   "execution_count": 288,
   "metadata": {},
   "outputs": [
    {
     "name": "stdout",
     "output_type": "stream",
     "text": [
      "Punkt przecięcia osi w układzie współrzędnych to punkt zero czy linia odcięcia? ['punkt zero'] linia odcięcia [(1070196, 'linia odcięcia'), (1069161, 'punkt zero')]\n",
      "Baron to tytuł wyższy czy niższy niż hrabia? ['niższy'] tytuł wyższy [(89197, 'tytuł wyższy'), (39389, 'niższy niż hrabia')]\n",
      "Czy sombrero to kapelusz, danie czy taniec? ['kapelusz'] danie [(84143, 'danie'), (2122, 'taniec'), (525, 'kapelusz')]\n",
      "Marmury Elgina to świątynia w Atenach czy zbiór starożytnych rzeźb greckich? ['zbiór starożytnych rzeźb greckich'] świątynia w Atenach [(1067149, 'świątynia w Atenach'), (32315, 'zbiór starożytnych rzeźb greckich')]\n",
      "Średniowieczne gęśle to instrument szarpany czy dęty? ['szarpany'] dęty [(7512, 'dęty'), (7403, 'szarpany')]\n",
      "Miesiąc miodowy to okres przed czy po ślubie? ['przed ślubem'] okres przed [(53915, 'okres przed'), (14838, 'po ślubie')]\n",
      "Świekier to dawna polska nazwa ojca żony czy ojca męża? ['ojca męża'] dawna polska nazwa ojca żony [(386283, 'dawna polska nazwa ojca żony'), (200134, 'ojca męża')]\n",
      "Dybuk to dusza zmarłego grzesznika wstępująca do ciała żywego czy duch w domostwie domowym? ['dusza zmarłego grzesznika wstępująca do ciała żywego'] duch w domostwie domowym [(1067276, 'duch w domostwie domowym'), (149693, 'dusza zmarłego grzesznika wstępująca do ciała żywego')]\n",
      "Diablotka to ostro przyprawiona zupa rybna czy placek z ciasta francuskiego? ['placek'] placek z ciasta francuskiego [(35116, 'placek z ciasta francuskiego'), (4126, 'ostro przyprawiona zupa rybna')]\n",
      "Ju-jitsu to starojapoński styl walki wręcz czy przy pomocy kijów bambusowych? ['wręcz'] starojapoński styl walki wręcz [(39804, 'starojapoński styl walki wręcz'), (18315, 'przy pomocy kijów bambusowych')]\n",
      "Tuja to roślina iglasta czy liściasta? ['iglasta'] liściasta [(14641, 'liściasta'), (14489, 'iglasta')]\n",
      "Izotopy to atomy o tej samej liczbie masowej czy atomowej? ['atomowej'] masowej [(293250, 'masowej'), (291976, 'atomowej')]\n",
      "Berdysz to rodzaj piki, miecza czy topora bojowego? ['topora bojowego'] rodzaj piki [(38198, 'rodzaj piki'), (4830, 'topora bojowego'), (1658, 'miecza')]\n",
      "Amazonka rudawa to gatunek mrówki czy pszczoły? ['mrówki'] pszczoły [(48924, 'pszczoły'), (48920, 'mrówki')]\n",
      "Jarmuż to tradycyjne danie ukraińskie, roślina czy część ubrania chasydów? ['roślina'] tradycyjne danie ukraińskie [(105891, 'tradycyjne danie ukraińskie'), (94865, 'część ubrania chasydów'), (13976, 'roślina')]\n",
      "Władca Omanu to sułtan, emir czy król? ['sułtan'] król [(26267, 'król'), (7255, 'sułtan'), (6823, 'emir')]\n",
      "Kirys to nazwa broni siecznej, palnej czy części zbroi rycerskiej? ['części zbroi'] części zbroi rycerskiej [(112086, 'części zbroi rycerskiej'), (96107, 'nazwa broni siecznej'), (544, 'palnej')]\n",
      "Utlenianie to przyjmowanie czy oddawanie elektronów? ['oddawanie', 'Którym słowem określano damy dworskie?'] przyjmowanie [(6359, 'przyjmowanie'), (2764, 'oddawanie elektronów')]\n",
      "Konformista to człowiek bezkrytycznie podporządkowujący się normom czy też sprzeciwiający się im? ['podporządkowujący się normom'] też sprzeciwiający się im [(89434, 'też sprzeciwiający się im'), (23756, 'człowiek bezkrytycznie podporządkowujący się normom')]\n",
      "Jeżowiec jadalny to zwierzę czy roślina? ['zwierzę'] roślina [(14239, 'roślina'), (7340, 'zwierzę')]\n",
      "Wirus AH1N1 to wirus grypy czy ospy? ['grypy'] ospy [(906, 'ospy'), (863, 'grypy')]\n",
      "Buszel to anglosaska jednostka powierzchni, objętości czy promieniotwórczości? ['objętości'] powierzchni [(103307, 'powierzchni'), (35845, 'objętości'), (34766, 'promieniotwórczości')]\n",
      "Kłącze to podziemny czy nadziemny pęd rośliny? ['podziemny'] nadziemny pęd rośliny [(14497, 'nadziemny pęd rośliny'), (3237, 'podziemny')]\n",
      "Szwadron to pododdział piechoty czy kawalerii? ['kawalerii'] piechoty [(12423, 'piechoty'), (5491, 'kawalerii')]\n",
      "ASEAN to organizacja skupiająca państwa Afryki czy Azji? ['Azji'] Afryki [(62131, 'Afryki'), (51379, 'Azji')]\n",
      "Groszek ptysiowy to roślina czy wypiek? ['wypiek'] roślina [(14042, 'roślina'), (204, 'wypiek')]\n",
      "Leukocyty to białe krwinki czy czerwone? ['białe'] czerwone [(31118, 'czerwone'), (17345, 'krwinki')]\n",
      "Muffin to element ubioru, rodzaj gry czy ciastko? ['ciastko'] rodzaj gry [(73181, 'rodzaj gry'), (13818, 'ubioru'), (13559, 'ciastko')]\n",
      "Oryks to antylopa, pies czy kot? ['antylopa'] pies [(2765, 'pies'), (1335, 'kot'), (151, 'antylopa')]\n",
      "Tumulus to chmura czy kurhan? ['kurhan'] chmura [(874, 'chmura'), (308, 'kurhan')]\n",
      "Ildefransy to owce, krowy czy konie? ['owce'] konie [(3229, 'konie'), (910, 'owce'), (406, 'krowy')]\n",
      "Turandot to księżniczka chińska czy książę tatrzański? ['księżniczka chińska'] książę tatrzański [(20870, 'książę tatrzański'), (9823, 'księżniczka chińska')]\n",
      "Iryd to stop metali czy pierwiastek? ['pierwiastek'] metali [(6691, 'metali'), (3324, 'pierwiastek')]\n",
      "Klezmer to potoczne określenie muzyka czy wędrownego aktora? ['muzyka'] potoczne określenie muzyka [(38430, 'potoczne określenie muzyka'), (15053, 'wędrownego aktora')]\n",
      "Co to jest dzięcielina z „Pana Tadeusza”: bielizna, roślina czy instrument muzyczny? ['roślina'] instrument muzyczny [(23953, 'instrument muzyczny'), (13971, 'roślina'), (170, 'jest dzięcielina z „Pana Tadeusza”: bielizna')]\n",
      "Górnik Bulandra, kowalczyk Karlik, wojak Zeflik – to postaci z baśni Gustawa Morcinka czy braci Grimm? ['Gustawa Morcinka'] braci Grimm [(50404, 'braci Grimm'), (24730, 'postaci z baśni Gustawa Morcinka')]\n",
      "Serwantka to rodzaj szafy czy stołu? ['szafy'] stołu [(38853, 'stołu'), (38145, 'szafy')]\n",
      "Enduro to rajd samochodowy czy motocyklowy? ['motocyklowy'] samochodowy [(6241, 'samochodowy'), (2159, 'motocyklowy')]\n",
      "Aerostat to urządzenie lżejsze czy cięższe od powietrza? ['lżejsze'] cięższe od powietrza [(311171, 'cięższe od powietrza'), (13946, 'urządzenie lżejsze')]\n",
      "Czy papier to wynalazek europejski czy azjatycki? ['azjatycki'] europejski [(20925, 'europejski'), (5727, 'azjatycki')]\n",
      "„Pancernik Potiomkin” to film niemy czy dźwiękowy? ['niemy'] dźwiękowy [(34902, 'dźwiękowy'), (34116, 'niemy')]\n",
      "Birbant to inaczej hulaka czy skąpiec? ['hulaka'] skąpiec [(15368, 'skąpiec'), (15346, 'hulaka')]\n",
      "Karpaty to góry fałdowe, zrębowe czy wulkaniczne? ['fałdowe'] wulkaniczne [(27154, 'wulkaniczne'), (26653, 'zrębowe'), (26327, 'fałdowe')]\n",
      "Kurtuazyjny styl to takt i uprzejmość czy złośliwości? ['takt i uprzejmość'] złośliwości [(20602, 'złośliwości'), (20555, 'uprzejmość')]\n",
      "Robert Zimmermann to prawdziwe nazwisko Stinga czy Boba Dylana? ['Boba Dylana'] prawdziwe nazwisko Stinga [(24777, 'prawdziwe nazwisko Stinga'), (10611, 'Boba Dylana')]\n",
      "Belle époque to okres przed czy po I wojnie światowej? ['przed'] po I wojnie światowej [(74876, 'po I wojnie światowej'), (45759, 'okres przed')]\n",
      "Jurta to namiot ludów koczowniczych Azji czy Indian? ['Azji'] Indian [(6767, 'Indian'), (6739, 'Azji')]\n",
      "Pippin, Sam i Merry to hobbici czy elfy? ['hobbici'] elfy [(68916, 'elfy'), (68635, 'hobbici')]\n",
      "Pamflet to utwór pochwalny czy szyderczy? ['szyderczy'] pochwalny [(26590, 'pochwalny'), (26535, 'szyderczy')]\n",
      "Chile to państwo w przeważającej mierze górzyste czy nizinne? ['górzyste'] nizinne [(1068339, 'nizinne'), (1068323, 'górzyste')]\n",
      "Konwergencja to podobieństwo czy przeciwieństwo? ['podobieństwo'] przeciwieństwo [(3204, 'przeciwieństwo'), (1372, 'podobieństwo')]\n",
      "Sonata to utwór instrumentalny czy wokalny? ['instrumentalna'] wokalny [(27569, 'wokalny'), (27154, 'instrumentalny')]\n",
      "Piaf to prawdziwe nazwisko czy pseudonim słynnej śpiewaczki? ['pseudonim'] prawdziwe nazwisko [(16097, 'prawdziwe nazwisko'), (13697, 'pseudonim słynnej śpiewaczki')]\n",
      "NHL to zawodowa liga hokeja czy koszykówki? ['hokeja'] koszykówki [(43588, 'koszykówki'), (43445, 'hokeja')]\n",
      "Logorea to słowotok czy milczenie? ['słowotok'] milczenie [(323, 'milczenie'), (4, 'słowotok')]\n",
      "Na wielomasztowym żaglowcu fokmaszt to maszt z przodu, w środku czy z tyłu statku? ['z przodu'] w środku [(1067654, 'w środku'), (10979, 'z tyłu statku'), (2974, 'maszt z przodu')]\n",
      "Czy szerszenie to rodzaj dużych os, czy dużych pszczół? ['os'] rodzaj dużych os, [(126368, 'rodzaj dużych os,'), (73730, 'dużych pszczół')]\n",
      "Kugiel to jedna z tradycyjnych potraw kuchni żydowskiej, czy tę potrawę przygotowuje kugler? ['nie'] jedna z tradycyjnych potraw kuchni żydowskiej, [(33748, 'jedna z tradycyjnych potraw kuchni żydowskiej,'), (3530, 'tę potrawę przygotowuje kugler')]\n",
      "Mikołaj Kossak to ojciec czy dziadek Marii Pawlikowskiej-Jasnorzewskiej? ['dziadek'] ojciec [(201103, 'ojciec'), (11115, 'dziadek Marii Pawlikowskiej-Jasnorzewskiej')]\n",
      "Cannelloni to włoski makaron czy pizza? ['makaron'] pizza [(21492, 'pizza'), (21442, 'makaron')]\n",
      "Anchois to francuskie określenie potrawy z ryb, ślimaków czy żabich udek? ['z ryb'] francuskie określenie potrawy z ryb [(56713, 'francuskie określenie potrawy z ryb'), (611, 'ślimaków'), (281, 'żabich udek')]\n",
      "Czy żarłacz ludojad to tygrys czy rekin? ['rekin'] tygrys [(564, 'tygrys'), (298, 'rekin')]\n",
      "Czy gnomon to zegar słoneczny czy duch opiekujący się kopalniami? ['zegar słoneczny'] duch opiekujący się kopalniami [(7212, 'duch opiekujący się kopalniami'), (2983, 'zegar słoneczny')]\n",
      "Karacena to broń czy zbroja? ['zbroja'] broń [(11766, 'broń'), (393, 'zbroja')]\n",
      "Rozrusznik serca, stent – to endo- czy egzoprotezy? ['endoprotezy'] endo- [(4767, 'endo-'), (4740, 'egzoprotezy')]\n"
     ]
    },
    {
     "data": {
      "text/plain": [
       "49"
      ]
     },
     "execution_count": 288,
     "metadata": {},
     "output_type": "execute_result"
    }
   ],
   "source": [
    "answer_match = 0\n",
    "for (q, answers), counts in zip(matched, q_counts):\n",
    "    # counts = select_counts(q)\n",
    "    a = counts[0][1]\n",
    "    if match(a, answers):\n",
    "        answer_match += 1\n",
    "    else:\n",
    "        print(q, answers, a, counts)\n",
    "answer_match"
   ]
  },
  {
   "cell_type": "code",
   "execution_count": 283,
   "metadata": {},
   "outputs": [
    {
     "name": "stdout",
     "output_type": "stream",
     "text": [
      "Punkt przecięcia osi w układzie współrzędnych to punkt zero czy linia odcięcia? ['punkt zero'] linia odcięcia [(31263, 'linia odcięcia'), (25492, 'punkt zero')]\n",
      "Baron to tytuł wyższy czy niższy niż hrabia? ['niższy'] tytuł wyższy [(558, 'tytuł wyższy'), (449, 'niższy niż hrabia')]\n",
      "Ktoś „nie w ciemię bity” to ktoś sprytny czy naiwny? ['sprytny'] naiwny [(173, 'naiwny'), (126, 'sprytny')]\n",
      "Marmury Elgina to świątynia w Atenach czy zbiór starożytnych rzeźb greckich? ['zbiór starożytnych rzeźb greckich'] świątynia w Atenach [(588, 'świątynia w Atenach'), (152, 'zbiór starożytnych rzeźb greckich')]\n",
      "Średniowieczne gęśle to instrument szarpany czy dęty? ['szarpany'] dęty [(238, 'dęty'), (83, 'szarpany')]\n",
      "Miesiąc miodowy to okres przed czy po ślubie? ['przed ślubem'] okres przed [(1122, 'okres przed'), (160, 'po ślubie')]\n",
      "Dybuk to dusza zmarłego grzesznika wstępująca do ciała żywego czy duch w domostwie domowym? ['dusza zmarłego grzesznika wstępująca do ciała żywego'] duch w domostwie domowym [(15, 'duch w domostwie domowym'), (6, 'dusza zmarłego grzesznika wstępująca do ciała żywego')]\n",
      "Diablotka to ostro przyprawiona zupa rybna czy placek z ciasta francuskiego? ['placek'] placek z ciasta francuskiego [(1, 'placek z ciasta francuskiego'), (0, 'ostro przyprawiona zupa rybna')]\n",
      "Ju-jitsu to starojapoński styl walki wręcz czy przy pomocy kijów bambusowych? ['wręcz'] starojapoński styl walki wręcz [(27, 'starojapoński styl walki wręcz'), (7, 'przy pomocy kijów bambusowych')]\n",
      "Tuja to roślina iglasta czy liściasta? ['iglasta'] liściasta [(223, 'liściasta'), (133, 'iglasta')]\n",
      "Izotopy to atomy o tej samej liczbie masowej czy atomowej? ['atomowej'] masowej [(1116, 'masowej'), (710, 'atomowej')]\n",
      "Władca Omanu to sułtan, emir czy król? ['sułtan'] król [(2357, 'król'), (185, 'sułtan'), (57, 'emir')]\n",
      "Kirys to nazwa broni siecznej, palnej czy części zbroi rycerskiej? ['części zbroi'] części zbroi rycerskiej [(15, 'części zbroi rycerskiej'), (7, 'nazwa broni siecznej'), (1, 'palnej')]\n",
      "Grań to ostra krawędź stoku górskiego czy przełęcz górska? ['ostra krawędź stoku górskiego'] przełęcz górska [(1382, 'przełęcz górska'), (872, 'ostra krawędź stoku górskiego')]\n",
      "Utlenianie to przyjmowanie czy oddawanie elektronów? ['oddawanie', 'Którym słowem określano damy dworskie?'] oddawanie elektronów [(33, 'oddawanie elektronów'), (7, 'przyjmowanie')]\n",
      "Przemysław Niemiec i Rafał Majka to polscy kolarze czy żużlowcy? ['kolarze'] żużlowcy [(860, 'żużlowcy'), (697, 'kolarze')]\n",
      "Konformista to człowiek bezkrytycznie podporządkowujący się normom czy też sprzeciwiający się im? ['podporządkowujący się normom'] też sprzeciwiający się im [(1, 'też sprzeciwiający się im'), (0, 'człowiek bezkrytycznie podporządkowujący się normom')]\n",
      "Jeżowiec jadalny to zwierzę czy roślina? ['zwierzę'] roślina [(233, 'roślina'), (31, 'zwierzę')]\n",
      "Chinook to wiatr gorący czy zimny? ['gorący'] zimny [(55, 'zimny'), (55, 'gorący')]\n",
      "Buszel to anglosaska jednostka powierzchni, objętości czy promieniotwórczości? ['objętości'] powierzchni [(1801, 'powierzchni'), (115, 'objętości'), (1, 'promieniotwórczości')]\n",
      "Kłącze to podziemny czy nadziemny pęd rośliny? ['podziemny'] nadziemny pęd rośliny [(173, 'nadziemny pęd rośliny'), (24, 'podziemny')]\n",
      "Szwadron to pododdział piechoty czy kawalerii? ['kawalerii'] piechoty [(788, 'piechoty'), (576, 'kawalerii')]\n",
      "Brit Awards to nagrody filmowe, muzyczne czy teatralne? ['muzyczne'] filmowe [(3438, 'filmowe'), (1714, 'muzyczne'), (1035, 'teatralne')]\n",
      "ASEAN to organizacja skupiająca państwa Afryki czy Azji? ['Azji'] Afryki [(888, 'Afryki'), (0, 'Azji')]\n",
      "Groszek ptysiowy to roślina czy wypiek? ['wypiek'] roślina [(27, 'roślina'), (2, 'wypiek')]\n",
      "Leukocyty to białe krwinki czy czerwone? ['białe'] czerwone [(2602, 'czerwone'), (24, 'krwinki')]\n",
      "Tuńczyk to ryba morska czy słodkowodna? ['morska'] słodkowodna [(1180, 'słodkowodna'), (1152, 'morska')]\n",
      "Muffin to element ubioru, rodzaj gry czy ciastko? ['ciastko'] rodzaj gry [(1590, 'rodzaj gry'), (55, 'ubioru'), (2, 'ciastko')]\n",
      "Iryd to stop metali czy pierwiastek? ['pierwiastek'] metali [(223, 'metali'), (54, 'pierwiastek')]\n",
      "Klezmer to potoczne określenie muzyka czy wędrownego aktora? ['muzyka'] potoczne określenie muzyka [(16, 'potoczne określenie muzyka'), (2, 'wędrownego aktora')]\n",
      "Co to jest dzięcielina z „Pana Tadeusza”: bielizna, roślina czy instrument muzyczny? ['roślina'] instrument muzyczny [(23953, 'instrument muzyczny'), (13971, 'roślina'), (170, 'jest dzięcielina z „Pana Tadeusza”: bielizna')]\n",
      "Czy chablis to wino białe czy czerwone? ['białe'] czerwone [(139, 'czerwone'), (132, 'białe')]\n",
      "Górnik Bulandra, kowalczyk Karlik, wojak Zeflik – to postaci z baśni Gustawa Morcinka czy braci Grimm? ['Gustawa Morcinka'] braci Grimm [(220, 'braci Grimm'), (52, 'postaci z baśni Gustawa Morcinka')]\n",
      "Serwantka to rodzaj szafy czy stołu? ['szafy'] stołu [(57, 'stołu'), (7, 'szafy')]\n",
      "Enduro to rajd samochodowy czy motocyklowy? ['motocyklowy'] samochodowy [(353, 'samochodowy'), (41, 'motocyklowy')]\n",
      "Aerostat to urządzenie lżejsze czy cięższe od powietrza? ['lżejsze'] cięższe od powietrza [(10, 'cięższe od powietrza'), (3, 'urządzenie lżejsze')]\n",
      "Psy gończe to gwiazdozbiór nieba północnego czy południowego? ['północnego'] południowego [(362, 'południowego'), (347, 'północnego')]\n",
      "Czy papier to wynalazek europejski czy azjatycki? ['azjatycki'] europejski [(66, 'europejski'), (1, 'azjatycki')]\n",
      "„Pancernik Potiomkin” to film niemy czy dźwiękowy? ['niemy'] dźwiękowy [(1068, 'dźwiękowy'), (675, 'niemy')]\n",
      "Birbant to inaczej hulaka czy skąpiec? ['hulaka'] skąpiec [(1, 'skąpiec'), (1, 'hulaka')]\n",
      "Laminat to tworzywo jedno- czy wielowarstwowe? ['wielowarstwowe'] jedno- [(977, 'jedno-'), (2, 'wielowarstwowe')]\n",
      "Karpaty to góry fałdowe, zrębowe czy wulkaniczne? ['fałdowe'] wulkaniczne [(307, 'wulkaniczne'), (47, 'zrębowe'), (31, 'fałdowe')]\n",
      "Robert Zimmermann to prawdziwe nazwisko Stinga czy Boba Dylana? ['Boba Dylana'] prawdziwe nazwisko Stinga [(233, 'prawdziwe nazwisko Stinga'), (197, 'Boba Dylana')]\n",
      "Belle époque to okres przed czy po I wojnie światowej? ['przed'] po I wojnie światowej [(113, 'po I wojnie światowej'), (58, 'okres przed')]\n",
      "Jurta to namiot ludów koczowniczych Azji czy Indian? ['Azji'] Indian [(1, 'Indian'), (0, 'Azji')]\n",
      "Pippin, Sam i Merry to hobbici czy elfy? ['hobbici'] elfy [(31, 'elfy'), (1, 'hobbici')]\n",
      "Czy czad to tlenek czy dwutlenek węgla? ['tlenek węgla'] tlenek [(3, 'tlenek'), (3, 'dwutlenek węgla')]\n",
      "Pamflet to utwór pochwalny czy szyderczy? ['szyderczy'] pochwalny [(21, 'pochwalny'), (2, 'szyderczy')]\n",
      "Chile to państwo w przeważającej mierze górzyste czy nizinne? ['górzyste'] nizinne [(1030, 'nizinne'), (782, 'górzyste')]\n",
      "Piaf to prawdziwe nazwisko czy pseudonim słynnej śpiewaczki? ['pseudonim'] pseudonim słynnej śpiewaczki [(4, 'pseudonim słynnej śpiewaczki'), (1, 'prawdziwe nazwisko')]\n",
      "NHL to zawodowa liga hokeja czy koszykówki? ['hokeja'] koszykówki [(692, 'koszykówki'), (629, 'hokeja')]\n",
      "Na wielomasztowym żaglowcu fokmaszt to maszt z przodu, w środku czy z tyłu statku? ['z przodu'] w środku [(345, 'w środku'), (137, 'z tyłu statku'), (66, 'maszt z przodu')]\n",
      "Czy szerszenie to rodzaj dużych os, czy dużych pszczół? ['os'] rodzaj dużych os, [(11, 'rodzaj dużych os,'), (10, 'dużych pszczół')]\n",
      "Kugiel to jedna z tradycyjnych potraw kuchni żydowskiej, czy tę potrawę przygotowuje kugler? ['nie'] jedna z tradycyjnych potraw kuchni żydowskiej, [(2, 'jedna z tradycyjnych potraw kuchni żydowskiej,'), (1, 'tę potrawę przygotowuje kugler')]\n",
      "Mikołaj Kossak to ojciec czy dziadek Marii Pawlikowskiej-Jasnorzewskiej? ['dziadek'] ojciec [(2022, 'ojciec'), (58, 'dziadek Marii Pawlikowskiej-Jasnorzewskiej')]\n",
      "Anchois to francuskie określenie potrawy z ryb, ślimaków czy żabich udek? ['z ryb'] francuskie określenie potrawy z ryb [(4, 'francuskie określenie potrawy z ryb'), (0, 'żabich udek'), (0, 'ślimaków')]\n",
      "Czy trąd to choroba przenoszona przez bakterie czy wirusy? ['przez bakterie'] wirusy [(249, 'wirusy'), (214, 'bakterie')]\n",
      "Rozrusznik serca, stent – to endo- czy egzoprotezy? ['endoprotezy'] endo- [(0, 'endo-'), (0, 'egzoprotezy')]\n"
     ]
    },
    {
     "data": {
      "text/plain": [
       "56"
      ]
     },
     "execution_count": 283,
     "metadata": {},
     "output_type": "execute_result"
    }
   ],
   "source": [
    "answer_match = 0\n",
    "for (q, answers), counts in zip(matched, q_counts):\n",
    "    # counts = select_counts(q)\n",
    "    a = counts[0][1]\n",
    "    if match(a, answers):\n",
    "        answer_match += 1\n",
    "    else:\n",
    "        print(q, answers, a, counts)\n",
    "answer_match"
   ]
  },
  {
   "cell_type": "code",
   "execution_count": 268,
   "metadata": {},
   "outputs": [
    {
     "name": "stdout",
     "output_type": "stream",
     "text": [
      "Baron to tytuł wyższy czy niższy niż hrabia? ['niższy'] tytuł wyższy [(0, 'tytuł wyższy'), (0, 'niższy niż hrabia')]\n",
      "Ktoś „nie w ciemię bity” to ktoś sprytny czy naiwny? ['sprytny'] naiwny [(173, 'naiwny'), (126, 'sprytny')]\n",
      "Marmury Elgina to świątynia w Atenach czy zbiór starożytnych rzeźb greckich? ['zbiór starożytnych rzeźb greckich'] świątynia w Atenach [(0, 'świątynia w Atenach'), (0, 'zbiór starożytnych rzeźb greckich')]\n",
      "Średniowieczne gęśle to instrument szarpany czy dęty? ['szarpany'] dęty [(238, 'dęty'), (83, 'szarpany')]\n",
      "Miesiąc miodowy to okres przed czy po ślubie? ['przed ślubem'] okres przed [(1122, 'okres przed'), (160, 'po ślubie')]\n",
      "Diablotka to ostro przyprawiona zupa rybna czy placek z ciasta francuskiego? ['placek'] placek z ciasta francuskiego [(0, 'placek z ciasta francuskiego'), (0, 'ostro przyprawiona zupa rybna')]\n",
      "Ju-jitsu to starojapoński styl walki wręcz czy przy pomocy kijów bambusowych? ['wręcz'] starojapoński styl walki wręcz [(0, 'starojapoński styl walki wręcz'), (0, 'przy pomocy kijów bambusowych')]\n",
      "Tuja to roślina iglasta czy liściasta? ['iglasta'] liściasta [(223, 'liściasta'), (133, 'iglasta')]\n",
      "Izotopy to atomy o tej samej liczbie masowej czy atomowej? ['atomowej'] masowej [(1116, 'masowej'), (710, 'atomowej')]\n",
      "Berdysz to rodzaj piki, miecza czy topora bojowego? ['topora bojowego'] miecza [(2, 'miecza'), (0, 'topora bojowego'), (0, 'rodzaj piki')]\n",
      "Tonsura to szata czy sposób golenia głowy? ['sposób golenia głowy'] szata [(1, 'szata'), (0, 'sposób golenia głowy')]\n",
      "Władca Omanu to sułtan, emir czy król? ['sułtan'] król [(2357, 'król'), (185, 'sułtan'), (57, 'emir')]\n",
      "Kirys to nazwa broni siecznej, palnej czy części zbroi rycerskiej? ['części zbroi'] palnej [(1, 'palnej'), (0, 'nazwa broni siecznej'), (0, 'części zbroi rycerskiej')]\n",
      "Grań to ostra krawędź stoku górskiego czy przełęcz górska? ['ostra krawędź stoku górskiego'] przełęcz górska [(1, 'przełęcz górska'), (0, 'ostra krawędź stoku górskiego')]\n",
      "Utlenianie to przyjmowanie czy oddawanie elektronów? ['oddawanie', 'Którym słowem określano damy dworskie?'] przyjmowanie [(7, 'przyjmowanie'), (2, 'oddawanie elektronów')]\n",
      "Alkierz to mebel, broń czy część budynku? ['część budynku'] mebel [(0, 'mebel'), (0, 'część budynku'), (0, 'broń')]\n",
      "Przemysław Niemiec i Rafał Majka to polscy kolarze czy żużlowcy? ['kolarze'] żużlowcy [(860, 'żużlowcy'), (697, 'kolarze')]\n",
      "Konformista to człowiek bezkrytycznie podporządkowujący się normom czy też sprzeciwiający się im? ['podporządkowujący się normom'] też sprzeciwiający się im [(0, 'też sprzeciwiający się im'), (0, 'człowiek bezkrytycznie podporządkowujący się normom')]\n",
      "Jeżowiec jadalny to zwierzę czy roślina? ['zwierzę'] roślina [(233, 'roślina'), (31, 'zwierzę')]\n",
      "Czy pacynka to lalka zakładana na dłoń aktora czy sterowana sznurkami? ['zakładana na dłoń aktora'] sterowana sznurkami [(0, 'sterowana sznurkami'), (0, 'lalka zakładana na dłoń aktora')]\n",
      "Chinook to wiatr gorący czy zimny? ['gorący'] zimny [(55, 'zimny'), (55, 'gorący')]\n",
      "Buszel to anglosaska jednostka powierzchni, objętości czy promieniotwórczości? ['objętości'] powierzchni [(1801, 'powierzchni'), (115, 'objętości'), (1, 'promieniotwórczości')]\n",
      "Strudel to potrawa mięsna czy ciasto z owocami? ['ciasto z owocami'] potrawa mięsna [(0, 'potrawa mięsna'), (0, 'ciasto z owocami')]\n",
      "Szwadron to pododdział piechoty czy kawalerii? ['kawalerii'] piechoty [(788, 'piechoty'), (576, 'kawalerii')]\n",
      "Brit Awards to nagrody filmowe, muzyczne czy teatralne? ['muzyczne'] filmowe [(3438, 'filmowe'), (1714, 'muzyczne'), (1035, 'teatralne')]\n",
      "ASEAN to organizacja skupiająca państwa Afryki czy Azji? ['Azji'] Afryki [(888, 'Afryki'), (678, 'Azji')]\n",
      "Groszek ptysiowy to roślina czy wypiek? ['wypiek'] roślina [(27, 'roślina'), (2, 'wypiek')]\n",
      "Leukocyty to białe krwinki czy czerwone? ['białe'] czerwone [(2602, 'czerwone'), (24, 'krwinki')]\n",
      "Tuńczyk to ryba morska czy słodkowodna? ['morska'] słodkowodna [(1180, 'słodkowodna'), (1152, 'morska')]\n",
      "Muffin to element ubioru, rodzaj gry czy ciastko? ['ciastko'] ubioru [(55, 'ubioru'), (6, 'rodzaj gry'), (2, 'ciastko')]\n",
      "Iryd to stop metali czy pierwiastek? ['pierwiastek'] metali [(223, 'metali'), (54, 'pierwiastek')]\n",
      "Klezmer to potoczne określenie muzyka czy wędrownego aktora? ['muzyka'] wędrownego aktora [(0, 'wędrownego aktora'), (0, 'potoczne określenie muzyka')]\n",
      "Czy chablis to wino białe czy czerwone? ['białe'] czerwone [(139, 'czerwone'), (132, 'białe')]\n",
      "Górnik Bulandra, kowalczyk Karlik, wojak Zeflik – to postaci z baśni Gustawa Morcinka czy braci Grimm? ['Gustawa Morcinka'] postaci z baśni Gustawa Morcinka [(0, 'postaci z baśni Gustawa Morcinka'), (0, 'braci Grimm')]\n",
      "Serwantka to rodzaj szafy czy stołu? ['szafy'] stołu [(57, 'stołu'), (7, 'szafy')]\n",
      "Enduro to rajd samochodowy czy motocyklowy? ['motocyklowy'] samochodowy [(353, 'samochodowy'), (41, 'motocyklowy')]\n",
      "Aerostat to urządzenie lżejsze czy cięższe od powietrza? ['lżejsze'] cięższe od powietrza [(1, 'cięższe od powietrza'), (0, 'urządzenie lżejsze')]\n",
      "Psy gończe to gwiazdozbiór nieba północnego czy południowego? ['północnego'] południowego [(362, 'południowego'), (347, 'północnego')]\n",
      "Czy papier to wynalazek europejski czy azjatycki? ['azjatycki'] europejski [(66, 'europejski'), (1, 'azjatycki')]\n",
      "„Pancernik Potiomkin” to film niemy czy dźwiękowy? ['niemy'] dźwiękowy [(1068, 'dźwiękowy'), (675, 'niemy')]\n",
      "Birbant to inaczej hulaka czy skąpiec? ['hulaka'] skąpiec [(1, 'skąpiec'), (1, 'hulaka')]\n",
      "Laminat to tworzywo jedno- czy wielowarstwowe? ['wielowarstwowe'] jedno- [(977, 'jedno-'), (2, 'wielowarstwowe')]\n",
      "Karpaty to góry fałdowe, zrębowe czy wulkaniczne? ['fałdowe'] wulkaniczne [(307, 'wulkaniczne'), (47, 'zrębowe'), (31, 'fałdowe')]\n",
      "Belle époque to okres przed czy po I wojnie światowej? ['przed'] okres przed [(58, 'okres przed'), (47, 'po I wojnie światowej')]\n",
      "Pippin, Sam i Merry to hobbici czy elfy? ['hobbici'] elfy [(31, 'elfy'), (1, 'hobbici')]\n",
      "Czy czad to tlenek czy dwutlenek węgla? ['tlenek węgla'] tlenek [(3, 'tlenek'), (1, 'dwutlenek węgla')]\n",
      "Pamflet to utwór pochwalny czy szyderczy? ['szyderczy'] pochwalny [(21, 'pochwalny'), (2, 'szyderczy')]\n",
      "Chile to państwo w przeważającej mierze górzyste czy nizinne? ['górzyste'] nizinne [(1030, 'nizinne'), (782, 'górzyste')]\n",
      "Piaf to prawdziwe nazwisko czy pseudonim słynnej śpiewaczki? ['pseudonim'] pseudonim słynnej śpiewaczki [(0, 'pseudonim słynnej śpiewaczki'), (0, 'prawdziwe nazwisko')]\n",
      "NHL to zawodowa liga hokeja czy koszykówki? ['hokeja'] koszykówki [(692, 'koszykówki'), (629, 'hokeja')]\n",
      "Na wielomasztowym żaglowcu fokmaszt to maszt z przodu, w środku czy z tyłu statku? ['z przodu'] z tyłu statku [(0, 'z tyłu statku'), (0, 'w środku'), (0, 'maszt z przodu')]\n",
      "Czy szerszenie to rodzaj dużych os, czy dużych pszczół? ['os'] rodzaj dużych os, [(0, 'rodzaj dużych os,'), (0, 'dużych pszczół')]\n",
      "Kugiel to jedna z tradycyjnych potraw kuchni żydowskiej, czy tę potrawę przygotowuje kugler? ['nie'] tę potrawę przygotowuje kugler [(0, 'tę potrawę przygotowuje kugler'), (0, 'jedna z tradycyjnych potraw kuchni żydowskiej,')]\n",
      "Mikołaj Kossak to ojciec czy dziadek Marii Pawlikowskiej-Jasnorzewskiej? ['dziadek'] ojciec [(2022, 'ojciec'), (0, 'dziadek Marii Pawlikowskiej-Jasnorzewskiej')]\n",
      "Anchois to francuskie określenie potrawy z ryb, ślimaków czy żabich udek? ['z ryb'] żabich udek [(0, 'żabich udek'), (0, 'ślimaków'), (0, 'francuskie określenie potrawy z ryb')]\n",
      "Hajduk to wierzchnie okrycie z Kaszub czy staropolski taniec? ['staropolski taniec'] wierzchnie okrycie z Kaszub [(0, 'wierzchnie okrycie z Kaszub'), (0, 'staropolski taniec')]\n",
      "Czy trąd to choroba przenoszona przez bakterie czy wirusy? ['przez bakterie'] wirusy [(249, 'wirusy'), (214, 'bakterie')]\n",
      "Rozrusznik serca, stent – to endo- czy egzoprotezy? ['endoprotezy'] endo- [(0, 'endo-'), (0, 'egzoprotezy')]\n"
     ]
    },
    {
     "data": {
      "text/plain": [
       "56"
      ]
     },
     "execution_count": 268,
     "metadata": {},
     "output_type": "execute_result"
    }
   ],
   "source": [
    "answer_match = 0\n",
    "for (q, answers), counts in zip(matched, q_counts):\n",
    "    # counts = select_counts(q)\n",
    "    a = counts[0][1]\n",
    "    if match(a, answers):\n",
    "        answer_match += 1\n",
    "    else:\n",
    "        print(q, answers, a, counts)\n",
    "answer_match"
   ]
  },
  {
   "cell_type": "code",
   "execution_count": 253,
   "metadata": {},
   "outputs": [
    {
     "name": "stdout",
     "output_type": "stream",
     "text": [
      "[(5, 'punkt zero'), (1, 'linia odcięcia')] ('Punkt przecięcia osi w układzie współrzędnych to punkt zero czy linia odcięcia?', ['punkt zero'])\n",
      "[(0, 'tytuł wyższy'), (0, 'niższy niż hrabia')] ('Baron to tytuł wyższy czy niższy niż hrabia?', ['niższy'])\n",
      "[(173, 'naiwny'), (126, 'ktoś sprytny')] ('Ktoś „nie w ciemię bity” to ktoś sprytny czy naiwny?', ['sprytny'])\n",
      "[(3, 'kapelusz'), (1, 'taniec'), (1, 'danie')] ('Czy sombrero to kapelusz, danie czy taniec?', ['kapelusz'])\n",
      "[(0, 'świątynia w Atenach'), (0, 'zbiór starożytnych rzeźb greckich')] ('Marmury Elgina to świątynia w Atenach czy zbiór starożytnych rzeźb greckich?', ['zbiór starożytnych rzeźb greckich'])\n",
      "[(21, 'związek chemiczny'), (4, 'pierwiastek')] ('Wapno palone to związek chemiczny czy pierwiastek?', ['związek chemiczny'])\n",
      "[(3, 'dęty'), (0, 'instrument szarpany')] ('Średniowieczne gęśle to instrument szarpany czy dęty?', ['szarpany'])\n",
      "[(1122, 'okres przed'), (160, 'po ślubie')] ('Miesiąc miodowy to okres przed czy po ślubie?', ['przed ślubem'])\n",
      "[(8, 'palna'), (0, 'broń sieczna')] ('Hakownica to broń sieczna czy palna?', ['palna', 'Londyn'])\n",
      "[(0, 'ojca męża'), (0, 'dawna polska nazwa ojca żony')] ('Świekier to dawna polska nazwa ojca żony czy ojca męża?', ['ojca męża'])\n",
      "[(0, 'dusza zmarłego grzesznika wstępująca do ciała żywego'), (0, 'duch w domostwie domowym')] ('Dybuk to dusza zmarłego grzesznika wstępująca do ciała żywego czy duch w domostwie domowym?', ['dusza zmarłego grzesznika wstępująca do ciała żywego'])\n",
      "[(10, 'broń'), (0, 'sprzęt alpejski')] ('Hakownica to sprzęt alpejski czy broń?', ['broń'])\n",
      "[(0, 'placek z ciasta francuskiego'), (0, 'ostro przyprawiona zupa rybna')] ('Diablotka to ostro przyprawiona zupa rybna czy placek z ciasta francuskiego?', ['placek'])\n",
      "[(0, 'sikorek'), (0, 'odmiana gołębi')] ('Synogarlice to odmiana gołębi czy sikorek?', ['gołębi'])\n",
      "[(0, 'starojapoński styl walki wręcz'), (0, 'przy pomocy kijów bambusowych')] ('Ju-jitsu to starojapoński styl walki wręcz czy przy pomocy kijów bambusowych?', ['wręcz'])\n",
      "[(1, 'roślina iglasta'), (0, 'liściasta')] ('Tuja to roślina iglasta czy liściasta?', ['iglasta'])\n",
      "[(66, 'atomowej'), (0, 'atomy o tej samej liczbie masowej')] ('Izotopy to atomy o tej samej liczbie masowej czy atomowej?', ['atomowej'])\n",
      "[(533, 'ustawodawcza'), (127, 'władza wykonawcza')] ('Rada Ministrów to władza wykonawcza czy ustawodawcza?', ['wykonawcza'])\n",
      "[(2, 'miecza'), (0, 'topora bojowego'), (0, 'rodzaj piki')] ('Berdysz to rodzaj piki, miecza czy topora bojowego?', ['topora bojowego'])\n",
      "[(1, 'utwór pochwalny'), (0, 'szyderczy')] ('Panegiryk to utwór pochwalny czy szyderczy?', ['pochwalny'])\n",
      "[(1, 'szata'), (0, 'sposób golenia głowy')] ('Tonsura to szata czy sposób golenia głowy?', ['sposób golenia głowy'])\n",
      "[(3, 'gatunek mrówki'), (0, 'pszczoły')] ('Amazonka rudawa to gatunek mrówki czy pszczoły?', ['mrówki'])\n",
      "[(3, 'roślina'), (0, 'tradycyjne danie ukraińskie'), (0, 'część ubrania chasydów')] ('Jarmuż to tradycyjne danie ukraińskie, roślina czy część ubrania chasydów?', ['roślina'])\n",
      "[(2357, 'król'), (185, 'sułtan'), (57, 'emir')] ('Władca Omanu to sułtan, emir czy król?', ['sułtan'])\n",
      "[(179, 'fresk'), (34, 'akwarela')] ('Dzieło Michała Anioła „Sąd Ostateczny” to fresk czy akwarela?', ['fresk'])\n",
      "[(0, '„Nocy i dni”'), (0, 'bohaterowie „Nad Niemnem”')] ('Niechcicowie to bohaterowie „Nad Niemnem” czy „Nocy i dni”?', ['„Nocy i dni”'])\n",
      "[(1, 'palnej'), (0, 'nazwa broni siecznej'), (0, 'części zbroi rycerskiej')] ('Kirys to nazwa broni siecznej, palnej czy części zbroi rycerskiej?', ['części zbroi'])\n",
      "[(2323, 'brama'), (2047, 'okno')] ('W architekturze islamu bab to okno czy brama?', ['brama'])\n",
      "[(1, 'przełęcz górska'), (0, 'ostra krawędź stoku górskiego')] ('Grań to ostra krawędź stoku górskiego czy przełęcz górska?', ['ostra krawędź stoku górskiego'])\n",
      "[(7, 'przyjmowanie'), (2, 'oddawanie elektronów')] ('Utlenianie to przyjmowanie czy oddawanie elektronów?', ['oddawanie', 'Którym słowem określano damy dworskie?'])\n",
      "[(0, 'mebel'), (0, 'część budynku'), (0, 'broń')] ('Alkierz to mebel, broń czy część budynku?', ['część budynku'])\n",
      "[(72, 'żużlowcy'), (23, 'polscy kolarze')] ('Przemysław Niemiec i Rafał Majka to polscy kolarze czy żużlowcy?', ['kolarze'])\n",
      "[(0, 'ktoś młody i niedoświadczony'), (0, 'drobny przestępca')] ('Żółtodziób to drobny przestępca czy ktoś młody i niedoświadczony?', ['ktoś młody i niedoświadczony'])\n",
      "[(0, 'też sprzeciwiający się im'), (0, 'człowiek bezkrytycznie podporządkowujący się normom')] ('Konformista to człowiek bezkrytycznie podporządkowujący się normom czy też sprzeciwiający się im?', ['podporządkowujący się normom'])\n",
      "[(0, 'roślina zielna'), (0, 'enzym produkowany przez wątrobę')] ('Estragon to roślina zielna czy enzym produkowany przez wątrobę?', ['roślina zielna'])\n",
      "[(233, 'roślina'), (31, 'zwierzę')] ('Jeżowiec jadalny to zwierzę czy roślina?', ['zwierzę'])\n",
      "[(11, 'zaniżona'), (0, 'cena zawyżona')] ('Cena paskarska to cena zawyżona czy zaniżona?', ['zawyżona'])\n",
      "[(0, 'zabieg stomatologiczny'), (0, 'kardiologiczny')] ('Koronaroplastyka to zabieg stomatologiczny czy kardiologiczny?', ['kardiologiczny'])\n",
      "[(35, 'wirus grypy'), (20, 'ospy')] ('Wirus AH1N1 to wirus grypy czy ospy?', ['grypy'])\n",
      "[(68, 'pozarządowa'), (6, 'organizacja rządowa')] ('Amnesty International to organizacja rządowa czy pozarządowa?', ['pozarządowa'])\n",
      "[(0, 'osoba hodująca ryby w akwarium'), (0, 'malarz farbami akwarelowymi')] ('Akwarysta to osoba hodująca ryby w akwarium czy malarz farbami akwarelowymi?', ['osoba hodująca ryby w akwarium'])\n",
      "[(0, 'odmiana kapusty'), (0, 'dyni')] ('Brukselka to odmiana kapusty czy dyni?', ['kapusty'])\n",
      "[(0, 'sterowana sznurkami'), (0, 'lalka zakładana na dłoń aktora')] ('Czy pacynka to lalka zakładana na dłoń aktora czy sterowana sznurkami?', ['zakładana na dłoń aktora'])\n",
      "[(1, 'zimny'), (0, 'wiatr gorący')] ('Chinook to wiatr gorący czy zimny?', ['gorący'])\n",
      "[(1, 'objętości'), (0, 'promieniotwórczości'), (0, 'anglosaska jednostka powierzchni')] ('Buszel to anglosaska jednostka powierzchni, objętości czy promieniotwórczości?', ['objętości'])\n",
      "[(0, 'potrawa mięsna'), (0, 'ciasto z owocami')] ('Strudel to potrawa mięsna czy ciasto z owocami?', ['ciasto z owocami'])\n",
      "[(24, 'podziemny'), (0, 'nadziemny pęd rośliny')] ('Kłącze to podziemny czy nadziemny pęd rośliny?', ['podziemny'])\n",
      "[(478, 'kawalerii'), (3, 'pododdział piechoty')] ('Szwadron to pododdział piechoty czy kawalerii?', ['kawalerii'])\n",
      "[(12, 'ptaka,'), (0, 'królika'), (0, 'gatunek myszy')] ('Mysikrólik to gatunek myszy, ptaka, czy królika?', ['ptaka'])\n",
      "[(231, 'muzyczne'), (27, 'nagrody filmowe'), (25, 'teatralne')] ('Brit Awards to nagrody filmowe, muzyczne czy teatralne?', ['muzyczne'])\n",
      "[(15, 'Azji'), (0, 'organizacja skupiająca państwa Afryki')] ('ASEAN to organizacja skupiająca państwa Afryki czy Azji?', ['Azji'])\n",
      "[(27, 'roślina'), (2, 'wypiek')] ('Groszek ptysiowy to roślina czy wypiek?', ['wypiek'])\n",
      "[(9, 'czerwone'), (1, 'białe krwinki')] ('Leukocyty to białe krwinki czy czerwone?', ['białe'])\n",
      "[(0, 'roślina'), (0, 'regionalna wędlina')] ('Kindziuk to regionalna wędlina czy roślina?', ['wędlina'])\n",
      "[(1, 'ryba morska'), (0, 'słodkowodna')] ('Tuńczyk to ryba morska czy słodkowodna?', ['morska'])\n",
      "[(2, 'ciastko'), (0, 'rodzaj gry'), (0, 'element ubioru')] ('Muffin to element ubioru, rodzaj gry czy ciastko?', ['ciastko'])\n",
      "[(6, 'antylopa'), (1, 'pies'), (0, 'kot')] ('Oryks to antylopa, pies czy kot?', ['antylopa'])\n",
      "[(3, 'kurhan'), (0, 'chmura')] ('Tumulus to chmura czy kurhan?', ['kurhan'])\n",
      "[(1, 'hiszpańskiej'), (0, 'nazwa mafii włoskiej')] ('Camorra to nazwa mafii włoskiej czy hiszpańskiej?', ['włoskiej'])\n",
      "[(0, 'owce'), (0, 'krowy'), (0, 'konie')] ('Ildefransy to owce, krowy czy konie?', ['owce'])\n",
      "[(1, 'księżniczka chińska'), (0, 'książę tatrzański')] ('Turandot to księżniczka chińska czy książę tatrzański?', ['księżniczka chińska'])\n",
      "[(0, 'ryby drapieżne'), (0, 'roślinożerne')] ('Czy barakudy to ryby drapieżne czy roślinożerne?', ['drapieżne'])\n",
      "[(0, 'uzdrowisko czeskie'), (0, 'słowackie'), (0, 'austriackie')] ('Podiebrady to uzdrowisko czeskie, słowackie czy austriackie?', ['czeskie'])\n",
      "[(8, 'pierwiastek'), (0, 'stop metali')] ('Iryd to stop metali czy pierwiastek?', ['pierwiastek'])\n",
      "[(0, 'wędrownego aktora'), (0, 'potoczne określenie muzyka')] ('Klezmer to potoczne określenie muzyka czy wędrownego aktora?', ['muzyka'])\n",
      "[(13971, 'roślina'), (488, 'instrument muzyczny'), (0, 'jest dzięcielina z „Pana Tadeusza”: bielizna')] ('Co to jest dzięcielina z „Pana Tadeusza”: bielizna, roślina czy instrument muzyczny?', ['roślina'])\n",
      "[(0, 'wino białe'), (0, 'czerwone')] ('Czy chablis to wino białe czy czerwone?', ['białe'])\n",
      "[(0, 'postaci z baśni Gustawa Morcinka'), (0, 'braci Grimm')] ('Górnik Bulandra, kowalczyk Karlik, wojak Zeflik – to postaci z baśni Gustawa Morcinka czy braci Grimm?', ['Gustawa Morcinka'])\n",
      "[(4, 'chwastobójcze'), (0, 'środki owadobójcze')] ('Czy herbicydy to środki owadobójcze czy chwastobójcze?', ['chwastobójcze'])\n",
      "[(0, 'stołu'), (0, 'rodzaj szafy')] ('Serwantka to rodzaj szafy czy stołu?', ['szafy'])\n",
      "[(14, 'motocyklowy'), (3, 'rajd samochodowy')] ('Enduro to rajd samochodowy czy motocyklowy?', ['motocyklowy'])\n",
      "[(1, 'cięższe od powietrza'), (0, 'urządzenie lżejsze')] ('Aerostat to urządzenie lżejsze czy cięższe od powietrza?', ['lżejsze'])\n",
      "[(105, 'południowego'), (1, 'gwiazdozbiór nieba północnego')] ('Psy gończe to gwiazdozbiór nieba północnego czy południowego?', ['północnego'])\n",
      "[(1, 'azjatycki'), (0, 'wynalazek europejski')] ('Czy papier to wynalazek europejski czy azjatycki?', ['azjatycki'])\n",
      "[(1, 'film niemy'), (1, 'dźwiękowy')] ('„Pancernik Potiomkin” to film niemy czy dźwiękowy?', ['niemy'])\n",
      "[(7, 'Księga Rodzaju'), (0, 'Księga Wyjścia')] ('Genesis to Księga Rodzaju czy Księga Wyjścia?', ['Księga Rodzaju'])\n",
      "[(205, 'dziennik'), (133, 'tygodnik')] ('Francuski Libération to dziennik czy tygodnik?', ['dziennik'])\n",
      "[(1, 'skąpiec'), (0, 'inaczej hulaka')] ('Birbant to inaczej hulaka czy skąpiec?', ['hulaka'])\n",
      "[(7, 'tworzywo jedno-'), (1, 'wielowarstwowe')] ('Laminat to tworzywo jedno- czy wielowarstwowe?', ['wielowarstwowe'])\n",
      "[(21, 'wulkaniczne'), (7, 'zrębowe'), (5, 'góry fałdowe')] ('Karpaty to góry fałdowe, zrębowe czy wulkaniczne?', ['fałdowe'])\n",
      "[(1, 'złośliwości'), (0, 'takt i uprzejmość')] ('Kurtuazyjny styl to takt i uprzejmość czy złośliwości?', ['takt i uprzejmość'])\n",
      "[(8, 'Boba Dylana'), (0, 'prawdziwe nazwisko Stinga')] ('Robert Zimmermann to prawdziwe nazwisko Stinga czy Boba Dylana?', ['Boba Dylana'])\n",
      "[(58, 'okres przed'), (47, 'po I wojnie światowej')] ('Belle époque to okres przed czy po I wojnie światowej?', ['przed'])\n",
      "[(0, 'namiot ludów koczowniczych Azji'), (0, 'Indian')] ('Jurta to namiot ludów koczowniczych Azji czy Indian?', ['Azji'])\n",
      "[(31, 'elfy'), (1, 'hobbici')] ('Pippin, Sam i Merry to hobbici czy elfy?', ['hobbici'])\n",
      "[(3, 'tlenek'), (1, 'dwutlenek węgla')] ('Czy czad to tlenek czy dwutlenek węgla?', ['tlenek węgla'])\n",
      "[(97, 'żywy'), (1, 'człowiek spokojny')] ('Według klasyfikacji charakterów Hipokratesa sangwinik to człowiek spokojny czy żywy?', ['żywy'])\n",
      "[(0, 'teatr japoński'), (0, 'chiński')] ('Bunraku to teatr japoński czy chiński?', ['japoński'])\n",
      "[(1, 'szyderczy'), (0, 'utwór pochwalny')] ('Pamflet to utwór pochwalny czy szyderczy?', ['szyderczy'])\n",
      "[(3, 'nizinne'), (0, 'państwo w przeważającej mierze górzyste')] ('Chile to państwo w przeważającej mierze górzyste czy nizinne?', ['górzyste'])\n",
      "[(20, 'podobieństwo'), (0, 'przeciwieństwo')] ('Konwergencja to podobieństwo czy przeciwieństwo?', ['podobieństwo'])\n",
      "[(16, 'wokalny'), (3, 'utwór instrumentalny')] ('Sonata to utwór instrumentalny czy wokalny?', ['instrumentalna'])\n",
      "[(0, 'pseudonim słynnej śpiewaczki'), (0, 'prawdziwe nazwisko')] ('Piaf to prawdziwe nazwisko czy pseudonim słynnej śpiewaczki?', ['pseudonim'])\n",
      "[(6, 'koszykówki'), (2, 'zawodowa liga hokeja')] ('NHL to zawodowa liga hokeja czy koszykówki?', ['hokeja'])\n",
      "[(1, 'słowotok'), (0, 'milczenie')] ('Logorea to słowotok czy milczenie?', ['słowotok'])\n",
      "[(0, 'z tyłu statku'), (0, 'w środku'), (0, 'maszt z przodu')] ('Na wielomasztowym żaglowcu fokmaszt to maszt z przodu, w środku czy z tyłu statku?', ['z przodu'])\n",
      "[(57, 'gwiazda'), (9, 'planeta')] ('Proxima centauri to gwiazda czy planeta?', ['gwiazda'])\n",
      "[(0, 'rodzaj dużych os,'), (0, 'dużych pszczół')] ('Czy szerszenie to rodzaj dużych os, czy dużych pszczół?', ['os'])\n",
      "[(0, 'tę potrawę przygotowuje kugler'), (0, 'jedna z tradycyjnych potraw kuchni żydowskiej,')] ('Kugiel to jedna z tradycyjnych potraw kuchni żydowskiej, czy tę potrawę przygotowuje kugler?', ['nie'])\n",
      "[(2022, 'ojciec'), (0, 'dziadek Marii Pawlikowskiej-Jasnorzewskiej')] ('Mikołaj Kossak to ojciec czy dziadek Marii Pawlikowskiej-Jasnorzewskiej?', ['dziadek'])\n",
      "[(2, 'placki'), (1, 'pierogi')] ('Czy bliny to pierogi czy placki?', ['placki'])\n",
      "[(2, 'włoski makaron'), (0, 'pizza')] ('Cannelloni to włoski makaron czy pizza?', ['makaron'])\n",
      "[(0, 'żabich udek'), (0, 'ślimaków'), (0, 'francuskie określenie potrawy z ryb')] ('Anchois to francuskie określenie potrawy z ryb, ślimaków czy żabich udek?', ['z ryb'])\n",
      "[(222, 'pozarządowa'), (8, 'organizacja rządowa')] ('Czy Polska Akcja Humanitarna to organizacja rządowa czy pozarządowa?', ['pozarządowa'])\n",
      "[(0, 'wierzchnie okrycie z Kaszub'), (0, 'staropolski taniec')] ('Hajduk to wierzchnie okrycie z Kaszub czy staropolski taniec?', ['staropolski taniec'])\n",
      "[(0, 'wirusy'), (0, 'choroba przenoszona przez bakterie')] ('Czy trąd to choroba przenoszona przez bakterie czy wirusy?', ['przez bakterie'])\n",
      "[(32, 'rekin'), (4, 'tygrys')] ('Czy żarłacz ludojad to tygrys czy rekin?', ['rekin'])\n",
      "[(4, 'ruda żelaza'), (2, 'magnezu')] ('Magnetyt to ruda żelaza czy magnezu?', ['żelaza'])\n",
      "[(1, 'zegar słoneczny'), (0, 'duch opiekujący się kopalniami')] ('Czy gnomon to zegar słoneczny czy duch opiekujący się kopalniami?', ['zegar słoneczny'])\n",
      "[(36, 'żeński'), (0, 'organ rozrodczy męski')] ('Słupek to organ rozrodczy męski czy żeński?', ['męski'])\n",
      "[(2, 'zbroja'), (1, 'broń')] ('Karacena to broń czy zbroja?', ['zbroja'])\n",
      "[(0, 'endo-'), (0, 'egzoprotezy')] ('Rozrusznik serca, stent – to endo- czy egzoprotezy?', ['endoprotezy'])\n",
      "[(1, 'kapelusz'), (0, 'frak')] ('Kanotier to kapelusz czy frak?', ['kapelusz'])\n",
      "[(1, 'komórki glonów'), (0, 'odnóża świerszczy')] ('Urwistki to komórki glonów czy odnóża świerszczy?', ['komórki glonów'])\n"
     ]
    }
   ],
   "source": [
    "for counts, qa in zip(q_counts, matched):\n",
    "    print(counts, qa)"
   ]
  },
  {
   "cell_type": "code",
   "execution_count": 251,
   "metadata": {},
   "outputs": [
    {
     "name": "stderr",
     "output_type": "stream",
     "text": [
      "100%|██████████| 114/114 [00:15<00:00,  7.44it/s]\n"
     ]
    },
    {
     "data": {
      "text/plain": [
       "49"
      ]
     },
     "execution_count": 251,
     "metadata": {},
     "output_type": "execute_result"
    }
   ],
   "source": [
    "answer_match = 0\n",
    "for q, answers in tqdm(matched):\n",
    "    counts = select_counts(q)\n",
    "    a = counts[0][1]\n",
    "    if match(a, answers):\n",
    "        answer_match += 1\n",
    "answer_match"
   ]
  },
  {
   "cell_type": "code",
   "execution_count": 246,
   "metadata": {},
   "outputs": [
    {
     "name": "stderr",
     "output_type": "stream",
     "text": [
      "100%|██████████| 114/114 [00:11<00:00,  9.50it/s]\n"
     ]
    },
    {
     "data": {
      "text/plain": [
       "51"
      ]
     },
     "execution_count": 246,
     "metadata": {},
     "output_type": "execute_result"
    }
   ],
   "source": [
    "answer_match = 0\n",
    "for q, answers in tqdm(matched):\n",
    "    counts = select_counts(q)\n",
    "    a = counts[0][1]\n",
    "    if match(a, answers):\n",
    "        answer_match += 1\n",
    "answer_match"
   ]
  },
  {
   "cell_type": "code",
   "execution_count": 238,
   "metadata": {},
   "outputs": [
    {
     "name": "stderr",
     "output_type": "stream",
     "text": [
      "100%|██████████| 114/114 [00:11<00:00, 10.02it/s]\n"
     ]
    }
   ],
   "source": [
    "q_counts = [\n",
    "    select_counts(q)\n",
    "    for (q, _) in tqdm(matched)\n",
    "]"
   ]
  },
  {
   "cell_type": "code",
   "execution_count": 241,
   "metadata": {},
   "outputs": [
    {
     "data": {
      "text/plain": [
       "[(31263, 'linia odcięcia'), (25492, 'punkt zero')]"
      ]
     },
     "execution_count": 241,
     "metadata": {},
     "output_type": "execute_result"
    }
   ],
   "source": [
    "q_counts[0]"
   ]
  },
  {
   "cell_type": "code",
   "execution_count": 243,
   "metadata": {},
   "outputs": [
    {
     "name": "stderr",
     "output_type": "stream",
     "text": [
      "100%|██████████| 114/114 [00:30<00:00,  3.70it/s]\n"
     ]
    },
    {
     "data": {
      "text/plain": [
       "47"
      ]
     },
     "execution_count": 243,
     "metadata": {},
     "output_type": "execute_result"
    }
   ],
   "source": [
    "answer_match = 0\n",
    "for q, answers in tqdm(matched):\n",
    "    a = response_select(q)\n",
    "    if match(a, answers):\n",
    "        answer_match += 1\n",
    "answer_match"
   ]
  },
  {
   "cell_type": "code",
   "execution_count": 223,
   "metadata": {},
   "outputs": [
    {
     "name": "stderr",
     "output_type": "stream",
     "text": [
      "100%|██████████| 114/114 [00:00<00:00, 14309.89it/s]\n"
     ]
    },
    {
     "data": {
      "text/plain": [
       "61"
      ]
     },
     "execution_count": 223,
     "metadata": {},
     "output_type": "execute_result"
    }
   ],
   "source": [
    "answer_match = 0\n",
    "for q, answers in tqdm(matched):\n",
    "    description, *opts = pattern.findall(q)[0]\n",
    "    if len(opts[-1].split()) == 1:\n",
    "        opts[0] = opts[0].split()[-1]\n",
    "    a = opts[0]\n",
    "    if match(a, answers):\n",
    "        answer_match += 1\n",
    "answer_match"
   ]
  },
  {
   "cell_type": "code",
   "execution_count": 224,
   "metadata": {},
   "outputs": [
    {
     "data": {
      "text/plain": [
       "0.01742857142857143"
      ]
     },
     "execution_count": 224,
     "metadata": {},
     "output_type": "execute_result"
    }
   ],
   "source": [
    "answer_match / len(questions_answers)"
   ]
  },
  {
   "cell_type": "code",
   "execution_count": 216,
   "metadata": {},
   "outputs": [
    {
     "data": {
      "text/plain": [
       "True"
      ]
     },
     "execution_count": 216,
     "metadata": {},
     "output_type": "execute_result"
    }
   ],
   "source": [
    "\n",
    "match(response_select(q), answers)"
   ]
  },
  {
   "cell_type": "code",
   "execution_count": 204,
   "metadata": {},
   "outputs": [
    {
     "name": "stdout",
     "output_type": "stream",
     "text": [
      "Baron to tytuł wyższy czy niższy niż hrabia? ['niższy'] ['tytuł wyższy', '', 'niższy niż hrabia']\n",
      "Miesiąc miodowy to okres przed czy po ślubie? ['przed ślubem'] ['okres przed', '', 'po ślubie']\n",
      "Diablotka to ostro przyprawiona zupa rybna czy placek z ciasta francuskiego? ['placek'] ['ostro przyprawiona zupa rybna', '', 'placek z ciasta francuskiego']\n",
      "Ju-jitsu to starojapoński styl walki wręcz czy przy pomocy kijów bambusowych? ['wręcz'] ['starojapoński styl walki wręcz', '', 'przy pomocy kijów bambusowych']\n",
      "Kirys to nazwa broni siecznej, palnej czy części zbroi rycerskiej? ['części zbroi'] ['nazwa broni siecznej', 'palnej', 'części zbroi rycerskiej']\n",
      "Utlenianie to przyjmowanie czy oddawanie elektronów? ['oddawanie', 'Którym słowem określano damy dworskie?'] ['przyjmowanie', '', 'oddawanie elektronów']\n",
      "Konformista to człowiek bezkrytycznie podporządkowujący się normom czy też sprzeciwiający się im? ['podporządkowujący się normom'] ['człowiek bezkrytycznie podporządkowujący się normom', '', 'też sprzeciwiający się im']\n",
      "Leukocyty to białe krwinki czy czerwone? ['białe'] ['krwinki', '', 'czerwone']\n",
      "Klezmer to potoczne określenie muzyka czy wędrownego aktora? ['muzyka'] ['potoczne określenie muzyka', '', 'wędrownego aktora']\n",
      "Górnik Bulandra, kowalczyk Karlik, wojak Zeflik – to postaci z baśni Gustawa Morcinka czy braci Grimm? ['Gustawa Morcinka'] ['postaci z baśni Gustawa Morcinka', '', 'braci Grimm']\n",
      "Aerostat to urządzenie lżejsze czy cięższe od powietrza? ['lżejsze'] ['urządzenie lżejsze', '', 'cięższe od powietrza']\n",
      "Belle époque to okres przed czy po I wojnie światowej? ['przed'] ['okres przed', '', 'po I wojnie światowej']\n",
      "Piaf to prawdziwe nazwisko czy pseudonim słynnej śpiewaczki? ['pseudonim'] ['prawdziwe nazwisko', '', 'pseudonim słynnej śpiewaczki']\n",
      "Na wielomasztowym żaglowcu fokmaszt to maszt z przodu, w środku czy z tyłu statku? ['z przodu'] ['maszt z przodu', 'w środku', 'z tyłu statku']\n",
      "Czy szerszenie to rodzaj dużych os, czy dużych pszczół? ['os'] ['rodzaj dużych os,', '', 'dużych pszczół']\n",
      "Kugiel to jedna z tradycyjnych potraw kuchni żydowskiej, czy tę potrawę przygotowuje kugler? ['nie'] ['jedna z tradycyjnych potraw kuchni żydowskiej,', '', 'tę potrawę przygotowuje kugler']\n",
      "Mikołaj Kossak to ojciec czy dziadek Marii Pawlikowskiej-Jasnorzewskiej? ['dziadek'] ['ojciec', '', 'dziadek Marii Pawlikowskiej-Jasnorzewskiej']\n",
      "Anchois to francuskie określenie potrawy z ryb, ślimaków czy żabich udek? ['z ryb'] ['francuskie określenie potrawy z ryb', 'ślimaków', 'żabich udek']\n"
     ]
    },
    {
     "data": {
      "text/plain": [
       "(96, 61)"
      ]
     },
     "execution_count": 204,
     "metadata": {},
     "output_type": "execute_result"
    }
   ],
   "source": [
    "answer_match = 0\n",
    "first_match = 0\n",
    "for q, answers in matched:\n",
    "    description, *opts = pattern.findall(q)[0]\n",
    "    if len(opts[-1].split()) == 1:\n",
    "        opts[0] = opts[0].split()[-1]\n",
    "    # elif len(opts[0].split()) == 1:\n",
    "    #     opts[-1] = opts[-1].split()[0]\n",
    "    # opts[0] = \" \".join(opts[0].split()[-len(opts[-1].split()):])\n",
    "    if match(opts[0], answers):\n",
    "        first_match += 1\n",
    "    for opt in filter(None, opts): # remove empty\n",
    "        if match(opt, answers):\n",
    "            # print(opt, answers)\n",
    "            answer_match += 1\n",
    "            break\n",
    "    else:\n",
    "        print(q, answers, opts)\n",
    "answer_match, first_match"
   ]
  },
  {
   "cell_type": "code",
   "execution_count": 164,
   "metadata": {},
   "outputs": [],
   "source": [
    "\n",
    "description, *opts = pattern.findall([q for (q, _) in qa_groups[QuestionType.SELECT] if pattern.match(q)][10])[0]"
   ]
  },
  {
   "cell_type": "code",
   "execution_count": null,
   "metadata": {},
   "outputs": [],
   "source": [
    "def inspect(q):\n",
    "    "
   ]
  },
  {
   "cell_type": "code",
   "execution_count": 294,
   "metadata": {},
   "outputs": [
    {
     "data": {
      "text/plain": [
       "[('Jak nazywa się pierwsza litera alfabetu greckiego?', ['alfa']),\n",
       " ('Jak nazywa się dowolny odcinek łączący dwa punkty okręgu?', ['cięciwa']),\n",
       " ('Jak nazywa się pierwiastek o symbolu Bq?', ['becquerel']),\n",
       " ('Jak nazywał się sztywny kapelusz męski o zaokrąglonej główce i wąskim lekko uniesionym rondelku, modny w drugiej połowie XIX wieku?',\n",
       "  ['melonik']),\n",
       " ('Jak nazywa się wypukła albo wklęsła powierzchnia cieczy w pobliżu ścianek naczynia?',\n",
       "  ['menisk']),\n",
       " ('Jak nazywał się fizyk, który w 1876 r. wynalazł telefon?',\n",
       "  ['Aleksander Graham Bell']),\n",
       " ('Jak nazywa się wzgórze w Paryżu na którym wybudowano bazylikę Sacré-Cœur?',\n",
       "  ['Montmartre']),\n",
       " ('Jak nazywa się trucizna przyrządzona z korzenia szaleju?', ['cykuta']),\n",
       " ('Jak nazywa się stolica Kuby?', ['Hawana']),\n",
       " ('Jak nazywa się agent brytyjskiego wywiadu, bohater powieści Iana Fleminga?',\n",
       "  ['James Bond']),\n",
       " ('Jak nazywa się przyrząd do palenia i górny kieł dzika?', ['fajka']),\n",
       " ('Jak nazywa się potomek osadników portugalskich bądź hiszpańskich w Ameryce Południowej?',\n",
       "  ['Kreol']),\n",
       " ('Jak nazywała się mistrzyni Polski w narciarstwie alpejskim, zamordowana przez hitlerowców w 1941 za udział w ruchu oporu?',\n",
       "  ['Helena Marusarzówna']),\n",
       " ('Jak nazywał się grecki bóg, który nosił kaduceusz?', ['Hermes']),\n",
       " ('Jak nazywa się tradycyjna żydowska czapka?',\n",
       "  ['jarmułka', 'kipa', 'sztrajmł', 'sztrajmel', 'sztrejmł']),\n",
       " ('Jak nazywa się najwyższy szczyt Beskidu Sądeckiego?', ['Radziejowa']),\n",
       " ('Jak nazywał się przodownik chóru w starożytnym teatrze greckim?',\n",
       "  ['koryfeusz']),\n",
       " ('Jak nazywa się jednostka w lotnictwie licząca 2–3 eskadry?',\n",
       "  ['dywizjon', 'pułk lotniczy']),\n",
       " ('Jak nazywa się obchodzone 31 października święto w krajach anglosaskich?',\n",
       "  ['Halloween']),\n",
       " ('Jak nazywa się polski okręt bojowy, którym brał udział w II wojnie światowej, a od 40 lat znajduje się w Gdyni?',\n",
       "  ['Błyskawica']),\n",
       " ('Jak nazywa się elektroda połączona z ujemnym biegunem źródła prądu?',\n",
       "  ['katoda']),\n",
       " ('Jak nazywa się wieś, w której Adam Mickiewicz osadził akcję „Pana Tadeusza”?',\n",
       "  ['Soplicowo']),\n",
       " ('Jak nazywa się prezydent Ukrainy?', ['Wołodymyr Zełenski']),\n",
       " ('Jak nazywał się okręt podwodny kapitana Nemo?', ['Nautilus']),\n",
       " ('Jak nazywa się polski malarz XIX-wieczny, autor cyklu rysunków „Polonia”?',\n",
       "  ['Artur Grottger']),\n",
       " ('Jak nazywa się szczególny sąd, przed którym odpowiadają premier, prezydent i ministrowie?',\n",
       "  ['Trybunał Stanu']),\n",
       " ('Jak nazywa się mityczne zwierzę z jednym rogiem, symbol szczęścia i niewinności?',\n",
       "  ['jednorożec']),\n",
       " ('Jak nazywał się zespół, w którym występował Marek Grechuta?', ['Anawa']),\n",
       " ('Jak nazywał się pierwszy dzień każdego miesiąca w kalendarzu rzymskim?',\n",
       "  ['kalendy']),\n",
       " ('Jak nazywa się wyobrażenie martwego Jezusa spoczywającego na kolanach Maryi?',\n",
       "  ['pieta']),\n",
       " ('Jak nazywał się reżyser filmu „Obywatel Kane”?', ['Orson Welles']),\n",
       " ('Jak nazywa się drewniana nadbudówka na dziobie bądź rufie dawnych żaglowców?',\n",
       "  ['kasztel']),\n",
       " ('Jak nazywał się twórca Polskiej Akcji Humanitarnej?', ['Janina Ochojska']),\n",
       " ('Jak nazywa się aktor, który dwukrotnie wcielił się w postać barbarzyńcy Conana?',\n",
       "  ['Arnold Schwarzenegger']),\n",
       " ('Jak nazywa się osada w której mieszkali Lasse, Bosse, Anna i Olaf w książce Astrid Lindgren?',\n",
       "  ['Bullerbyn']),\n",
       " ('Jak nazywa się wirus wywołujący chorobę Heine-Medina?', ['polio']),\n",
       " ('Jak nazywa się najwyższy masyw górski Sudetów?', ['Karkonosze']),\n",
       " ('Jak nazywają się nieprzemakalne spodnie wędkarzy sięgające ud?',\n",
       "  ['wodery']),\n",
       " (\"Jak nazywa się litera alfabetu Morse'a oznaczana jako trzy kreski?\",\n",
       "  ['litera O']),\n",
       " ('Jak nazywał się węgierski architekt, wynalazca kostki do układania?',\n",
       "  ['Rubik']),\n",
       " ('Jak nazywa się dowództwo marynarki wojennej w Wielkiej Brytanii?',\n",
       "  ['Admiralicja']),\n",
       " ('Jak nazywa się wędzony ser owczy produkowany w Tatrach?', ['oscypek']),\n",
       " ('Jak nazywa się postawa zwątpienia, utrata wiary w powodzenie sprawy?',\n",
       "  ['defetyzm']),\n",
       " ('Jak nazywa się drapieżnik z rodziny psowatych o dużych uszach żyjący na Saharze?',\n",
       "  ['fenek']),\n",
       " ('Jak nazywał się egipski bóg z głową szakala?', ['Anubis']),\n",
       " ('Jak nazywamy osobę, która bezprawnie, samowolnie przywłaszcza sobie władzę albo stanowisko?',\n",
       "  ['uzurpator']),\n",
       " ('Jak nazywa się największy bezbarwny szlifowany diament na świecie, wydobyty w 1849 r. i przekazany królowej Wiktorii?',\n",
       "  ['Cullinan', 'Wielka Gwiazda Afryki']),\n",
       " ('Jak nazywa się nauka o bakteriach, wirusach i innych mikroorganizmach?',\n",
       "  ['mikrobiologia']),\n",
       " ('Jak nazywa się rodzina roślin, do której należą groch, fasola, łubin?',\n",
       "  ['motylkowate', 'bobowate']),\n",
       " ('Jak nazywał się dokument wydany w 1215 r. przez Jana bez Ziemi?',\n",
       "  ['Wielka Karta Swobód']),\n",
       " ('Jak nazywają się dwie liczby rzeczywiste, których wynik po dodaniu wynosi zero?',\n",
       "  ['liczby przeciwne']),\n",
       " ('Jak nazywa się lalka teatralna nakładana na dłoń i poruszana palcami aktora?',\n",
       "  ['pacynka']),\n",
       " ('Jak nazywa się rozrywkowa dzielnica Paryża, położona na najwyższym wzgórzu?',\n",
       "  ['Montmartre']),\n",
       " ('Jak nazywała się policja polityczna w III Rzeszy?', ['gestapo']),\n",
       " ('Jak nazywała się twierdza u ujścia Zbruczu do Dniestru, niedaleko Kamieńca Podolskiego?',\n",
       "  ['Okopy Św. Trójcy']),\n",
       " ('Jak nazywał się program gospodarczy proponowany przez Michaiła Gorbaczowa?',\n",
       "  ['pieriestrojka']),\n",
       " ('Jak nazywa się park romantyczny założony przez Helenę Radziwiłłową w 1776 r. niedaleko Nieborowa?',\n",
       "  ['Arkadia']),\n",
       " ('Jak nazywa się duży zbiornik do przewożenia paliwa?', ['cysterna']),\n",
       " ('Jak nazywa się autobus elektryczny zasilany z sieci zawieszonej nad drogą?',\n",
       "  ['trolejbus']),\n",
       " ('Jak nazywa się kąt między południkiem geograficznym a południkiem magnetycznym?',\n",
       "  ['deklinacja magnetyczna']),\n",
       " ('Jak nazywa się stolica Gruzji?', ['Tbilisi']),\n",
       " ('Jak nazywa się członek grupy Monty Python, grał w filmach Rybka zwana Wandą?',\n",
       "  ['John Cleese']),\n",
       " ('Jak nazywamy człowieka znajdującego przyjemność w zadawaniu bólu fizycznego?',\n",
       "  ['sadysta']),\n",
       " ('Jak nazywa się kanał łączący Morze Irlandzkie z Morzem Celtyckim?',\n",
       "  ['Kanał św. Jerzego']),\n",
       " ('Jak nazywa się należące do skleroprotein białko będące podstawowym budulcem włosów i paznokci?',\n",
       "  ['keratyna']),\n",
       " ('Jak nazywa się reżyser filmu „Bliskie spotkanie trzeciego stopnia”?',\n",
       "  ['Steven Spielberg']),\n",
       " ('Jak nazywała się polska organizacja wojskowa, której dowódcami byli generałowie Grot, Bór, Niedźwiadek?',\n",
       "  ['Armia Krajowa']),\n",
       " ('Jak nazywa się po staropolsku niewola u Turków lub Tatarów?', ['jasyr']),\n",
       " ('Jak nazywa się w brydżu karta o małej wartości?', ['blotka']),\n",
       " ('Jak nazywała się tytułowa Anna, bohaterka książki Lwa Tołstoja?',\n",
       "  ['Karenina']),\n",
       " ('Jak nazywa się przedstawicielstwo Watykanu przy rządzie jakiegoś państwa?',\n",
       "  ['nuncjatura']),\n",
       " ('Jak nazywa się najwyższe polskie odznaczenie, które w 2012 otrzymali Jerzy Buzek i Norman Davies?',\n",
       "  ['Order Orła Białego']),\n",
       " ('Jak nazywamy ostrosłup prosty którego podstawą jest figura foremna?',\n",
       "  ['prawidłowy', 'foremny']),\n",
       " ('Jak nazywa się urządzenie do zmiany biegów w rowerze?', ['przerzutka']),\n",
       " ('Jak nazywał się szwedzki przyrodnik, twórca klasyfikacji organizmów?',\n",
       "  ['Karol Linneusz']),\n",
       " ('Jak nazywa się popularna na Bliskim Wschodzie fajka wodna?', ['szisza']),\n",
       " ('Jak nazywał się klub sportowy, którego prezesem był Ryszard Ochódzki?',\n",
       "  ['Tęcza']),\n",
       " ('Jak nazywała się akcja przesiedlenia Ukraińców z 1947 r.?',\n",
       "  ['Akcja Wisła']),\n",
       " ('Jak nazywał się ojciec Ezawa i Jakuba?', ['Izaak']),\n",
       " ('Jak nazywa się ośrodek hodowli koni?', ['stadnina']),\n",
       " ('Jak nazywa się inaczej niezborność oka, wynikająca z niedoskonałości ukształtowania rogówki?',\n",
       "  ['astygmatyzm']),\n",
       " ('Jak nazywa się podanie rozpoczynające mecz siatkówki?', ['serwis']),\n",
       " ('Jak nazywał się autor „Anny Kareniny” i „Wojny i Pokoju”?',\n",
       "  ['Lew Tołstoj']),\n",
       " ('Jak nazywa się waga towaru wraz z opakowaniem?', ['brutto']),\n",
       " ('Jak nazywa się Polak, który w 1896 r. skonstruował szybowiec zwany lotnią?',\n",
       "  ['Czesław Tański']),\n",
       " ('Jak nazywa się najniższy stopień wojskowy?', ['szeregowy', 'szeregowiec']),\n",
       " ('Jak nazywał się zespół, w którym występował Michael Jackson wspólnie z braćmi?',\n",
       "  ['The Jackson 5']),\n",
       " ('Jak nazywa się liczba określająca stosunek długości obwodu okręgu do jego średnicy?',\n",
       "  ['pi']),\n",
       " ('Jak nazywa się pytanie, na które nie trzeba udzielać odpowiedzi, bo jest powszechnie znana?',\n",
       "  ['pytanie retoryczne']),\n",
       " ('Jak nazywała się fajka pokoju palona przez indiańskich wodzów?',\n",
       "  ['kalumet']),\n",
       " ('Jak nazywa się matka matki i ciasto?', ['babka']),\n",
       " ('Jak nazywał się jacht, na którym Henryk Jaskuła samotnie opłynął Ziemię?',\n",
       "  ['Dar Przemyśla']),\n",
       " ('Jak nazywa się postulat mówiący, że w atomie nie ma dwóch elektronów które by miały identyczne wszystkie cztery liczby kwantowe?',\n",
       "  ['zakaz Pauliego']),\n",
       " ('Jak nazywa się pismo sądowe zapewniające oskarżonemu bezpieczeństwo przyjazdu z zagranicy?',\n",
       "  ['glejt', 'list żelazny']),\n",
       " ('Jak nazywa się bohaterka gier komputerowych z serii Tomb Raider?',\n",
       "  ['Lara Croft']),\n",
       " ('Jak nazywa się rysunek złożony z przecinających się linii, umieszczany na banknotach?',\n",
       "  ['gilosz']),\n",
       " ('Jak nazywa się zagłębienie na powierzchni Księżyca wywołane uderzeniem meteorytu?',\n",
       "  ['krater']),\n",
       " ('Jak nazywała się dawna rezydencja cesarska w Pekinie?',\n",
       "  ['Zakazane Miasto']),\n",
       " ('Jak nazywał się pierwszy prezydent USA?',\n",
       "  ['George Washington', 'Jerzy Waszyngton']),\n",
       " ('Jak nazywa się na statku oficer zajmujący się sprawami gospodarczymi?',\n",
       "  ['ochmistrz']),\n",
       " ('Jak nazywała się podczas II wojny światowej część Polski bezpośrednio wcielona do III Rzeszy?',\n",
       "  ['Kraj Warty']),\n",
       " ('Jak nazywała się córka króla Kolchidy, żona Jazona?', ['Medea']),\n",
       " ('Jak nazywamy pierożki do wigilijnego barszczu?', ['uszka']),\n",
       " ('Jak nazywa się nauka zajmująca się badaniem herbów?', ['heraldyka']),\n",
       " ('Jak nazywał się książę siedmiogrodzki, który w sojuszu ze Szwedami najechał Polskę w 1657 r.?',\n",
       "  ['Jerzy II Rakoczy']),\n",
       " ('Jak nazywa się stolica Białorusi?', ['Mińsk']),\n",
       " ('Jak nazywa się ostatnia litera w greckim alfabecie?', ['omega']),\n",
       " ('Jak nazywa się połowa połówki?', ['ćwiartka', 'ćwierć']),\n",
       " ('Jak nazywa się brytyjska aktorka, która zagrała szefową wywiadu w serii filmów o Bondzie?',\n",
       "  ['Judi Dench']),\n",
       " ('Jak nazywa się jadalnia dla załogi na statku?', ['mesa']),\n",
       " ('Jak nazywamy fragment tekstu zaczynający się od nowego wiersza?',\n",
       "  ['akapit']),\n",
       " ('Jak nazywa się tradycyjny rosyjski zaprzęg z trzech koni w jednym rzędzie?',\n",
       "  ['trojka']),\n",
       " ('Jak nazywana jest samica jelenia?', ['łania']),\n",
       " ('Jak nazywa sie 12-stopniowa skala opisująca trzęsienia ziemi oprócz skali Richtera?',\n",
       "  ['skala Mercallego']),\n",
       " ('Jak nazywa się główny deptak Zakopanego?', ['Krupówki']),\n",
       " ('Jak nazywa się wiersz pozbawiony rymów?', ['biały']),\n",
       " ('Jak nazywa się kolektywne gospodarstwo rolne w Izraelu?', ['kibuc']),\n",
       " ('Jak nazywał się pan zamku, który poślubił tytułową Balladynę z powieści Słowackiego?',\n",
       "  ['Kirkor']),\n",
       " ('Jak nazywał się pancernik, który rozpoczął II wojnę światową?',\n",
       "  ['Schleswig-Holstein']),\n",
       " ('Jak nazywał się autor obrazu „Nocne przygody Jana Olbrachta”?',\n",
       "  ['Jan Matejko']),\n",
       " ('Jak nazywa się pisarz, autora „Dziennika pisanego nocą”?',\n",
       "  ['Gustaw Herling-Grudziński']),\n",
       " ('Jak nazywa się zakład zajmujący się wyprawianiem skór?', ['garbarnia']),\n",
       " ('Jak nazywa się konstrukcja zabezpieczająca konstrukcje mostu przed uderzeniami kry?',\n",
       "  ['izbica', 'lodołam']),\n",
       " ('Jak nazywa się most zwodzony w Londynie, wybudowany w XIX wieku?',\n",
       "  ['Tower Bridge']),\n",
       " ('Jak nazywał się skrzydlaty rumak Bellerofonta, na którym walczył z Chimerą?',\n",
       "  ['Pegaz']),\n",
       " ('Jak nazywa się kosmodrom w Kazachstanie?', ['Bajkonur']),\n",
       " ('Jak nazywa się dzień odpoczynku obchodzony przez Żydów?',\n",
       "  ['szabat', 'szabas']),\n",
       " ('Jak nazywa się detektyw, którego przygody po raz pierwszy zostały opisane w książce „Studium w szkarłacie”?',\n",
       "  ['Sherlock Holmes']),\n",
       " ('Jak nazywają się duże skupiska morskich ryb?', ['ławice']),\n",
       " ('Jak nazywamy artystę przedstawiającego sceny bitewne w malarstwie?',\n",
       "  ['batalista']),\n",
       " ('Jak nazywają się papierowe zwitki do zawijania loków?', ['papiloty']),\n",
       " ('Jak nazywa się niekonwencjonalna metoda leczenia polegająca na uciskaniu określonych punktów na ciele pacjenta?',\n",
       "  ['akupresura']),\n",
       " ('Jak nazywa się kobieta we frygijskiej czapce, symbol Francji?',\n",
       "  ['Marianna']),\n",
       " ('Jak nazywała się autorka powieści kryminalnych, twórczyni postaci Herkulesa Poirota?',\n",
       "  ['Agata Christie']),\n",
       " ('Jak nazywa się trzyminutowy okres walki w boksie zawodowym?', ['runda']),\n",
       " ('Jak nazywał się pierwszy przedstawiciel dynastii jagiellońskiej?',\n",
       "  ['Władysław Jagiełło']),\n",
       " ('Jak nazywa się piosenka śpiewana w celu uśpienia dziecka?', ['kołysanka']),\n",
       " ('Jak nazywa się tajemnicza istota nieznanego pochodzenia, człowiek śniegu?',\n",
       "  ['Yeti']),\n",
       " ('Jak nazywała się włoska odmiana westernu, której twórcą był Sergio Leone?',\n",
       "  ['spaghetti western']),\n",
       " ('Jak nazywa się największy gatunek pingwina?', ['pingwin cesarski']),\n",
       " ('Jak nazywa się jednostka natężenia dźwięku równa 1/10 bela?', ['decybel']),\n",
       " ('Jak nazywa się instrument muzyczny i ogon cietrzewia?', ['lira']),\n",
       " ('Jak nazywał się wielki turecki bęben?', ['taraban']),\n",
       " ('Jak nazywała się starożytna gwardia przyboczna cesarza rzymskiego?',\n",
       "  ['pretorianie']),\n",
       " ('Jak nazywa się pomnik przedstawiający posąg kobiety trzymającej płonącą pochodnię i tablicę z Deklaracją Niepodległości USA?',\n",
       "  ['Statua Wolności']),\n",
       " ('Jak nazywał się za czasów pryncypatu skarbiec cesarski?',\n",
       "  ['fiskus', 'fiscus']),\n",
       " ('Jak nazywa się aktorka, która dwukrotnie wcieliła się w postać Lary Croft?',\n",
       "  ['Angelina Jolie']),\n",
       " ('Jak nazywa się plac w Londynie, na którym znajduje się kolumna Nelsona?',\n",
       "  ['Trafalgar Square']),\n",
       " ('Jak nazywa się jednoczesny wystrzał z wielu karabinów lub armat?',\n",
       "  ['salwa']),\n",
       " ('Jak nazywa się miejsce, gdzie według Apokalipsy św. Jana ma odbyć się starcie sił dobra i zła?',\n",
       "  ['Har-Magedon', 'Armagedon']),\n",
       " ('Jak nazywa się najlepszy uczeń w klasie albo szkole?', ['prymus']),\n",
       " ('Jak nazywa się nauka o ssakach?', ['mammologia']),\n",
       " ('Jak nazywała się waluta Rosji przed wybuchem Rewolucji Październikowej?',\n",
       "  ['rubel']),\n",
       " ('Jak nazywa się największy stadion w Polsce?',\n",
       "  ['PGE Narodowy', 'Stadion Narodowy']),\n",
       " ('Jak nazywa się negatywna uchwała odnośnie działań rządu?',\n",
       "  ['wotum nieufności']),\n",
       " ('Jak nazywa się pęk kwiatów zawieszany na budynku na znak, że jego budowa jest na ukończeniu?',\n",
       "  ['wiecha']),\n",
       " ('Jak nazywa się mecz tenisa, w którym grają pary mieszane?', ['mikst']),\n",
       " ('Jak nazywają się linie na mapie łączące punkty o tej samej głębokości dna morskiego?',\n",
       "  ['izobaty']),\n",
       " ('Jak nazywa się elastyczna deska umożliwiająca wybicie przy skokach do wody?',\n",
       "  ['trampolina']),\n",
       " ('Jak nazywa się fachowiec od analizy pisma ręcznego?', ['grafolog']),\n",
       " ('Jak nazywa się polski okręt podwodny, który podczas II wojny światowej zniszczył 15 okrętów nieprzyjaciela?',\n",
       "  ['Dzik']),\n",
       " ('Jak nazywa się dwuosobowy zespół instrumentalny albo śpiewacki?', ['duet']),\n",
       " ('Jak nazywa się szybki obrót wykonywany na palcach jednej nogi?',\n",
       "  ['piruet']),\n",
       " ('Jak nazywa się podręcznik do podstawowej nauki czytania i pisania?',\n",
       "  ['elementarz']),\n",
       " ('Jak nazywa się zbiór wszystkich punktów płaszczyzny znajdujący się w jednakowej odległości od jednego punktu?',\n",
       "  ['okrąg']),\n",
       " ('Jak nazywa się dział matematyki zajmujący się figurami płaskimi?',\n",
       "  ['planimetria']),\n",
       " ('Jak nazywała się muza tańca, której atrybutem była lira?', ['Terpsychora']),\n",
       " ('Jak nazywa się konserwowanie mięsa przez nasycenie go saletrą i przyprawami?',\n",
       "  ['peklowanie']),\n",
       " ('Jak nazywa sie ozdobna szata wierzchnia nakładana na albę?', ['ornat']),\n",
       " ('Jak nazywa się wodny pająk budujący pod wodą tzw. dzwony?', ['topik']),\n",
       " ('Jak nazywamy operację odwrotną do różniczkowania?', ['całkowanie']),\n",
       " ('Jak nazywali się szlachetnie urodzeni rycerze w feudalnej Japonii?',\n",
       "  ['samurajowie']),\n",
       " ('Jak nazywała się wokalistka zespołu Hey?',\n",
       "  ['Kasia Nosowska', 'Katarzyna Nosowska']),\n",
       " ('Jak nazywa się usuwanie owłosienia w celach leczniczych lub kosmetycznych?',\n",
       "  ['depilacja']),\n",
       " ('Jak nazywa się ptak składający najmniejsze jaja?',\n",
       "  ['koliber', 'hawańczyk']),\n",
       " ('Jak nazywają się łyżwy do jazdy szybkiej? Słowo pochodzi od rosyjskiego łyżwiarza?',\n",
       "  ['panczeny']),\n",
       " ('Jak nazywa się autorka książek „Karlsson z dachu”, „Bracia Lwie Serce”?',\n",
       "  ['Astrid Lindgren']),\n",
       " ('Jak nazywa się chorobliwy lęk przed śmiercią?', ['tanatofobia']),\n",
       " ('Jak nazywa się roczny plan przewidywanych wydatków i przychodów państwa?',\n",
       "  ['budżet państwa']),\n",
       " ('Jak nazywa się dział zoologii zajmujący się badaniem pajęczaków?',\n",
       "  ['arachnologia']),\n",
       " ('Jak nazywał się wahadłowiec, który odbył ostatni lot kosmiczny?',\n",
       "  ['Atlantis']),\n",
       " ('Jak nazywały się piece do wytopu stali, znane w Egipcie już 3000 lat p.n.e.?',\n",
       "  ['dymarki']),\n",
       " ('Jak nazywa się wynagrodzenie żołnierza służby zasadniczej?', ['żołd']),\n",
       " ('Jak nazywa się największa jaszczurka?', ['waran']),\n",
       " ('Jak nazywa się żydowski cmentarz?', ['kirkut']),\n",
       " ('Jak nazywa się dawna polska srebrna moneta, warta dobrego żartu?',\n",
       "  ['tynf']),\n",
       " ('Jak nazywał się autor powieści „Wierna rzeka”?', ['Stefan Żeromski']),\n",
       " ('Jak nazywał się reżyser pierwszego polskiego w filmu w 3D: „Bitwa Warszawska”?',\n",
       "  ['Jerzy Hoffman']),\n",
       " ('Jak nazywał się właściciel cukierni, w której w latach 1905-12 działała grupa Zielony Balonik?',\n",
       "  ['Jan Apolinary Michalik']),\n",
       " ('Jak nazywał się Michał Anioł?', ['Buonarotti']),\n",
       " ('Jak nazywa się modyfikowany tlenek cyrkonu, imitujący diament?',\n",
       "  ['cyrkonia']),\n",
       " ('Jak nazywał się podróżnik i żołnierz, który dokonał podboju Madagaskaru?',\n",
       "  ['Maurycy Beniowski']),\n",
       " ('Jak nazywa się pustynny obszar na terenie Mongolii i Chin?',\n",
       "  ['Pustynia Gobi']),\n",
       " ('Jak nazywa się uruchomiony w 2013 roku największy na świecie radioteleskop w Chile?',\n",
       "  ['ALMA', 'Atacama Large Millimeter Array']),\n",
       " ('Jak nazywa się plac przed Zamkiem Królewskim w Warszawie?',\n",
       "  ['plac Zamkowy']),\n",
       " ('Jak nazywa się główny kościół diecezji, przy którym mieści się siedziba biskupa?',\n",
       "  ['katedra']),\n",
       " ('Jak nazywa się parlament Hiszpanii?', ['Kortezy']),\n",
       " ('Jak nazywa się największe jezioro w Armenii?', ['Sewan']),\n",
       " ('Jak nazywa się najniższa figura w kartach?', ['walet']),\n",
       " ('Jak nazywał się hiszpański malarz z XVII wieku, autor m.in. „Kuźni Wulkana”?',\n",
       "  ['Diego Velázquez']),\n",
       " ('Jak nazywał się dawny szlak handlowy między Chinami a Europą?',\n",
       "  ['Jedwabny Szlak']),\n",
       " ('Jak nazywał się włoski reżyser, autor filmu „Ukryte pragnienie”?',\n",
       "  ['Bernardo Bertolucci']),\n",
       " ('Jak nazywa się równoległobok, którego długości wszystkich boków są równe?',\n",
       "  ['kwadrat']),\n",
       " ('Jak nazywał się zmarły w 8. roku p.n.e. opiekun artystów, synonim patrona sztuki?',\n",
       "  ['Gajusz Mecenas']),\n",
       " ('Jak nazywa się francuska aktorka, która zagrała główną rolę w filmach „Trzy kolory: Niebieski” Krzysztofa Kieślowskiego oraz „Sponsoring”?',\n",
       "  ['Juliette Binoche']),\n",
       " ('Jak nazywał się mizantrop, główny bohater Świętoszka?', ['Orgon']),\n",
       " ('Jak nazywa się krótką łopatkę żołnierską?', ['saperka']),\n",
       " ('Jak nazywa się przewód łączący jamę bębenkową z gardłem?',\n",
       "  ['trąbka Eustachiusza']),\n",
       " ('Jak nazywa się nauka zajmująca się badaniem komórek?', ['cytologia']),\n",
       " ('Jak nazywał się amerykański pisarz, twórca postaci Jasona Bourne’a?',\n",
       "  ['Robert Ludlum']),\n",
       " ('Jak nazywa się jedna z największych zapór na świecie na rzece Kolorado?',\n",
       "  ['zapora Hoovera', 'tama Hoovera']),\n",
       " ('Jak nazywają się jadalne liście cebuli?', ['szczypior']),\n",
       " ('Jak nazywa się proces okresowego zrzucania skóry u płazów i gadów?',\n",
       "  ['linienie']),\n",
       " ('Jak nazywa się biały barwnik kory brzozowej?', ['betulina']),\n",
       " ('Jak nazywa się francuska pieśń rewolucyjna, hymn Francji?',\n",
       "  ['Marsylianka']),\n",
       " (\"Jak nazywa się ojczyzna d'Artagnana, kraina w południowo-zachodniej Francji?\",\n",
       "  ['Gaskonia']),\n",
       " ('Jak nazywa się wieś nad Wartą z pałacem Raczyńskich i skupiskiem starych dębów?',\n",
       "  ['Rogalin']),\n",
       " ('Jak nazywa się największy współczesny płaz?', ['salamandra olbrzymia']),\n",
       " ('Jak nazywa się zdolność poruszania przedmiotami bez dotykania ich?',\n",
       "  ['psychokineza']),\n",
       " ('Jak nazywa się artysta rzeźbiący w drewnie?', ['snycerz']),\n",
       " ('Jak nazywa się terytorium zarządzane przez dwa państwa?', ['kondominium']),\n",
       " ('Jak nazywa się największy europejski dziki ssak?', ['żubr']),\n",
       " ('Jak nazywają się równoleżniki o współrzędnych 23 stopnie 26 minut?',\n",
       "  ['zwrotniki']),\n",
       " ('Jak nazywa się miasto, w którym w XVIII wieku założono Covent Garden?',\n",
       "  ['Londyn']),\n",
       " ('Jak nazywa się choroba polegająca na złym widzeniu przy słabym świetle?',\n",
       "  ['kurza ślepota']),\n",
       " ('Jak nazywało się pismo wychodzące w pierwszej połowie XVIII wieku w Londynie?',\n",
       "  ['Spectator']),\n",
       " ('Jak nazywała się włoska waluta przed wprowadzeniem euro?', ['lir']),\n",
       " ('Jak nazywał się tytułowy pilot z powieści Stanisława Lema?',\n",
       "  ['Pirx', '1944']),\n",
       " ('Jak nazywa się wierzchnie okrycie w kształcie prostokątnego kawałka tkaniny z otworem na głowę, używane przez meksykańskie plemiona pasterskie?',\n",
       "  ['ponczo']),\n",
       " ('Jak nazywa się wypukłość na grzbiecie konia, za karkiem?', ['kłąb']),\n",
       " ('Jak nazywa się najgłębsze miejsce Oceanu Atlantyckiego?',\n",
       "  ['Rów Portoryko']),\n",
       " ('Jak nazywał się chór rewelersów, w którym występował Mieczysław Fogg?',\n",
       "  ['chór Dana']),\n",
       " ('Jak nazywa się typ roweru z dużym przednim kołem i małym tylnym?',\n",
       "  ['bicykl', 'welocyped']),\n",
       " ('Jak nazywa się zewnętrzna warstwa atmosfery Słońca?', ['korona słoneczna']),\n",
       " ('Jak nazywał się konstruktor pierwszego sztywnego sterowca?',\n",
       "  ['Ferdinand von Zeppelin']),\n",
       " ('Jak nazywały się hiszpańskie oddziały ochotnicze, które w II wojnie światowej wzięły udział po stronie nazistowskich Niemiec przeciwko ZSRR?',\n",
       "  ['Błękitna Dywizja']),\n",
       " ('Jak nazywa się rzymski bóg, któremu poświęcony był dąb, wilk i dzięcioł?',\n",
       "  ['Mars']),\n",
       " ('Jak nazywa się nauka o organizmach żywych?', ['biologia']),\n",
       " ('Jak nazywa się odgłos wydawany przez kurę?', ['gdakanie']),\n",
       " ('Jak nazywa się używany obecnie alfabet rosyjski?', ['grażdanka']),\n",
       " ('Jak nazywał się król z mitologii greckiej, którego dotyk zamieniał wszystko w złoto?',\n",
       "  ['Midas']),\n",
       " ('Jak nazywała się pierwsza w historii Indii kobieta pełniąca funkcję premiera?',\n",
       "  ['Indira Gandhi']),\n",
       " ('Jak nazywa się pieczęć sygnetowa papieża?', ['Pierścień Rybaka']),\n",
       " ('Jak nazywa się podstawowy interwał skali diatonicznej?', ['oktawa']),\n",
       " ('Jak nazywa się pszczela rodzina?', ['rój']),\n",
       " ('Jak nazywa się przyrząd do wykrywania drgań skorupy ziemskiej?',\n",
       "  ['sejsmograf']),\n",
       " ('Jak nazywał się młody kmieć, bohater Starej Baśni?', ['Doman']),\n",
       " ('Jak nazywa się dzieło zawierające spis rysunków i opisów herbów?',\n",
       "  ['herbarz']),\n",
       " ('Jak nazywa się dział kryminalistyki ustalający tożsamość na podstawie linii papilarnych?',\n",
       "  ['daktyloskopia']),\n",
       " ('Jak nazywa się przyrząd do gromadzenia ładunku elektrycznego, który w nazwie ma miasto rodzinne Rembrandta?',\n",
       "  ['butelka lejdejska']),\n",
       " ('Jak nazywa się rytualne japońskie samobójstwo?', ['seppuku', 'harakiri']),\n",
       " ('Jak nazywa się mimowolnie powtarzający się skurcz mięśni mimicznych twarzy?',\n",
       "  ['tik']),\n",
       " ('Jak nazywa się wykres prądów czynnościowych mózgu?',\n",
       "  ['EEG', 'elektroencefalogram']),\n",
       " ('Jak nazywa się poziome wyrobisko którego ujście znajduje się na stoku góry?',\n",
       "  ['sztolnia']),\n",
       " ('Jak nazywała się bogini, matka Eneasza?', ['Afrodyta']),\n",
       " ('Jak nazywa się amerykański reżyser filmowy, twórca filmów „Kill Bill”, „Bękarty wojny”, „Pulp fiction”?',\n",
       "  ['Quentin Tarantino']),\n",
       " ('Jak nazywa się wyraz utworzony przez przestawienie liter lub sylab innego wyrazu?',\n",
       "  ['anagram']),\n",
       " ('Jak nazywa się gra, w której za pomocą kuli strąca się słupki?',\n",
       "  ['kręgle']),\n",
       " ('Jak nazywa się wielokąt o najmniejszej liczbie boków?', ['trójkąt']),\n",
       " ('Jak nazywa się dyscyplina naukowa zajmująca się badaniem stanu i struktury ludności?',\n",
       "  ['demografia']),\n",
       " ('Jak nazywał się twórca arianizmu?', ['Ariusz']),\n",
       " ('Jak nazywa się urządzenie elektryczne które służy do przygotowywanie grzanek?',\n",
       "  ['toster']),\n",
       " ('Jak nazywa się ustrój, w którym władzę sprawują kapłani?', ['teokracja']),\n",
       " ('Jak nazywa się druga największa piramida w Gizie?', ['piramida Chefrena']),\n",
       " ('Jak nazywa się cienki placek z mąki i wody, specjał kuchni żydowskiej?',\n",
       "  ['maca']),\n",
       " ('Jak nazywały się córki Atlasa i Plejone, przeniesione później na nocne niebo?',\n",
       "  ['Plejady']),\n",
       " ('Jak nazywał się album, do którego zdjęcie wykonano na Abbey Road?',\n",
       "  ['Abbey Road']),\n",
       " ('Jak nazywają się cztery przednie zęby w szczęce i żuchwie?', ['siekacze']),\n",
       " ('Jak nazywał się Sejm z 1717 roku, podczas którego nie zabrał głosu żaden poseł?',\n",
       "  ['Sejm Niemy']),\n",
       " ('Jak nazywa się stolica Cypru?', ['Nikozja']),\n",
       " ('Jak nazywał się ostatni władca Azteków obalony przez Hiszpanów pod wodzą Corteza?',\n",
       "  ['Montezuma']),\n",
       " ('Jak nazywa się nauka zajmująca się leczeniem chorób zwierzęcych?',\n",
       "  ['weterynaria']),\n",
       " ('Jak nazywa się mięczak z rodziny głowonogów dziesięcioramiennych, którego wydzielina służy do wytwarzania sepii?',\n",
       "  ['mątwa']),\n",
       " ('Jak nazywa się zakład, w którym przerabia się ropę naftową?',\n",
       "  ['rafineria']),\n",
       " ('Jak nazywa się mechaniczny instrument muzyczny, w którym taśma uruchamia mechanizm młoteczkowy fortepianu?',\n",
       "  ['pianola']),\n",
       " ('Jak nazywała się francuska pisarka, towarzyszka życia Fryderyka Chopina?',\n",
       "  ['George Sand']),\n",
       " ('Jak nazywa się organizm zwierzęcy lub roślinny żyjący na koszt innego organizmu?',\n",
       "  ['pasożyt']),\n",
       " ('Jak nazywała się wyspa, na którą został zesłany Napoleon w 1814 r.?',\n",
       "  ['Elba']),\n",
       " ('Jak nazywa się ochrona prawna państwowych funkcjonariuszy?', ['immunitet']),\n",
       " ('Jak nazywa się pierwsza część modlitwy brewiarzowej?', ['Jutrznia']),\n",
       " ('Jak nazywamy ministra bez własnego resortu?', ['minister bez teki']),\n",
       " ('Jak nazywa się pojazd przystosowany do poruszania się na lądzie i wodzie?',\n",
       "  ['amfibia']),\n",
       " ('Jak nazywała się latająca wyspa w „Podróżach Guliwera”?', ['Laputa']),\n",
       " ('Jak nazywał się pułkownik niemieckiego sztabu generalnego, który dokonał zamachu na Hitlera?',\n",
       "  ['Stauffenberg']),\n",
       " ('Jak nazywa się scena w cyrku?', ['arena']),\n",
       " ('Jak nazywa się proces uznania kogoś błogosławionym w kościele katolickim?',\n",
       "  ['beatyfikacja']),\n",
       " ('Jak nazywa się najmniejszy oddział artyleryjski składający się z działa i jego obsługi?',\n",
       "  ['działon']),\n",
       " ('Jak nazywa się punkt orbity Księżyca znajdujący się najbliżej Ziemi?',\n",
       "  ['perigeum', 'perygeum']),\n",
       " ('Jak nazywa się przedsięwzięcie sanitarne mające na celu usunięcie gryzoni?',\n",
       "  ['deratyzacja']),\n",
       " ('Jak nazywa się mocne portugalskie wino od wyspy na Oceanie Atlantyckim?',\n",
       "  ['madera']),\n",
       " ('Jak nazywa się miękka czapka męska zakładana do snu?', ['szlafmyca']),\n",
       " ('Jak nazywał się dowódca obrony Westerplatte?', ['Henryk Sucharski']),\n",
       " ('Jak nazywa się uwarunkowany genetycznie brak albo niedobór melaniny?',\n",
       "  ['albinizm']),\n",
       " ('Jak nazywamy przedstawienie bez słów, gra aktorska wyrażana za pomocą mimiki?',\n",
       "  ['pantomima']),\n",
       " ('Jak nazywa się ciało niebieskie wysyłające cykliczne impulsy promieniowania?',\n",
       "  ['pulsar']),\n",
       " ('Jak nazywa się format zapisu optycznego wykorzystujący niebieski laser?',\n",
       "  ['Blu-ray']),\n",
       " ('Jak nazywa się niższa izba brytyjskiego parlamentu?', ['Izba Gmin']),\n",
       " ('Jak nazywa się lampa błyskowa aparatu?', ['flash', 'flesz']),\n",
       " ('Jak nazywa się 1/100 euro?', ['cent', 'eurocent']),\n",
       " ('Jak nazywa się cześć szkieletu chroniąca rdzeń kręgowy?', ['kręgosłup']),\n",
       " ('Jak nazywa się największy port w Europie?', ['Rotterdam']),\n",
       " ('Jak nazywa się miejscowość w województwie lubelskim słynna z hodowli koni czystej krwi arabskiej?',\n",
       "  ['Janów Podlaski']),\n",
       " ('Jak nazywa się astronom niemiecki, który skonstruował trzy prawa ruchu planet?',\n",
       "  ['Jan Kepler', 'Johannes Kepler']),\n",
       " ('Jak nazywał się adiutant Józefa Piłsudskiego?',\n",
       "  ['Bolesław Wieniawa-Długoszowski']),\n",
       " ('Jak nazywał się klub sportowy, którego prezesem był Ryszard Ochódzki w „Misiu”?',\n",
       "  ['„Tęcza”']),\n",
       " ('Jak nazywa się chorobliwy lęk wysokości?', ['akrofobia']),\n",
       " ('Jak nazywa się tlenek glinu, minerał najtwardszy po diamencie?',\n",
       "  ['korund']),\n",
       " ('Jak nazywa się najmniejszy ptak?', ['koliber']),\n",
       " ('Jak nazywa się honorowy stopień naukowy nadawany przez uczelnie?',\n",
       "  ['doktor honoris causa']),\n",
       " ('Jak nazywa się wodoszczelne, okrągłe okno na statku?', ['bulaj']),\n",
       " ('Jak nazywa się taktyka walki na morzu polegająca na sczepianiu okrętów i walce załóg?',\n",
       "  ['abordaż']),\n",
       " ('Jak nazywał się szwajcarski psychiatra, który wprowadził pojęcia introwersji i ekstrawersji?',\n",
       "  ['Karl Jung']),\n",
       " ('Jak nazywała się powstała w 1933 roku w Hiszpanii partia faszystowska?',\n",
       "  ['Falanga', 'Falanga Hiszpańska']),\n",
       " ('Jak nazywa się willa Szymanowskiego w Zakopanem?', ['Atma']),\n",
       " ('Jak nazywa się kodeks honorowy samurajów?', ['bushido']),\n",
       " ('Jak nazywano płatnego partnera do tańca w lokalach rozrywkowych?',\n",
       "  ['żigolo', 'fordanser']),\n",
       " ('Jak nazywał się niemiecki filozof, autor „Krytyki czystego rozumu”, zamieszkały w Królewcu?',\n",
       "  ['Immanuel Kant']),\n",
       " ('Jak nazywa się łańcuszek od zegarka kieszonkowego?', ['dewizka']),\n",
       " ('Jak nazywała się wyspa, na której hrabia Monte Christo odnalazł skarb?',\n",
       "  ['Monte Christo']),\n",
       " ('Jak nazywa się najwyższy szczyt Bieszczad?', ['Tarnica']),\n",
       " ('Jak nazywa się kierunek w teorii poznania, według którego głównym sposobem poznania jest intuicja?',\n",
       "  ['intuicjonizm']),\n",
       " ('Jak nazywała się wiedźma w „Ogniem i mieczem”?', ['Horpyna']),\n",
       " ('Jak nazywał się autor książki „Imię Róży”?', ['Umberto Eco']),\n",
       " ('Jak nazywa się kołnierzyk zapinany z tyłu, noszony przez duchownych?',\n",
       "  ['koloratka']),\n",
       " ('Jak nazywa się mauzoleum w Paryżu, w którym spoczywają m.in. Maria Skłodowska-Curie, Wolter, Victor Hugo?',\n",
       "  ['Panteon']),\n",
       " ('Jak nazywa się lampa elektroniczna zawierająca trzy elektrody?',\n",
       "  ['trioda']),\n",
       " ('Jak nazywa się indiańska łódź wydrążona z jednego kawałka drewna?',\n",
       "  ['piroga']),\n",
       " ('Jak nazywa się muzułmański duchowny nawołujący 5 razy w ciągu dnia do modlitwy?',\n",
       "  ['muezzin']),\n",
       " ('Jak nazywa się główny plac w Wenecji?', ['plac św. Marka']),\n",
       " ('Jak nazywa się silny narkotyk i główna bohaterka dramatu; słowo pochodzi z greki?',\n",
       "  ['heroina']),\n",
       " ('Jak nazywa się sojusz Australii, Nowej Zelandii i USA?',\n",
       "  ['ANZUS', 'Pakt Bezpieczeństwa Pacyfiku']),\n",
       " ('Jak nazywa się sala na Wawelu, w której strop zdobią kasetony z ludzkimi głowami?',\n",
       "  ['Sala Poselska', 'Sala pod Głowami']),\n",
       " ('Jak nazywa się platforma albo kosz umieszczony na szczycie masztu?',\n",
       "  ['bocianie gniazdo']),\n",
       " ('Jak nazywa się brazylijski styl muzyczny zawierający elementy samby?',\n",
       "  ['bossa nova']),\n",
       " (\"Jak nazywa się amerykańska aktorka, była partnerka Woody'ego Allena, która grała tytułową rolę w filmie Romana Polańskiego „Dziecko Rosemary”?\",\n",
       "  ['Mia Farrow']),\n",
       " ('Jak nazywa się najwyższy głos męski?', ['tenor']),\n",
       " ('Jak nazywa się honorowa asysta sztandarowa?', ['poczet sztandarowy']),\n",
       " ('Jak nazywa się miasto będące stolicą Tajlandii?', ['Bangkok']),\n",
       " ('Jak nazywała się cukiernia w Krakowie, w której w latach 1905–12 działał kabaret Zielony Balonik?',\n",
       "  ['Jama Michalikowa', 'Jama Michalika']),\n",
       " ('Jak nazywa się indeks największych spółek na warszawskiej giełdzie?',\n",
       "  ['WIG 20']),\n",
       " ('Jak nazywali się bohaterowie filmu pt. „Włóczęgi” z 1939 roku?',\n",
       "  ['Szczepko i Tońko', 'Szczepcio i Tońcio']),\n",
       " ('Jak nazywa się założyciel i lider zespołu Rolling Stones?',\n",
       "  ['Mick Jagger']),\n",
       " ('Jak nazywa się uroczysty wstęp do aktu prawnego?', ['preambuła']),\n",
       " ('Jak nazywały się radzieckie obozy pracy?', ['gułagi', 'łagry']),\n",
       " ('Jak nazywał się pierwszy dowódca elitarnej jednostki szturmowej GROM?',\n",
       "  ['Sławomir Petelicki']),\n",
       " ('Jak nazywał się ojciec królowej Elżbiety II?', ['Jerzy VI']),\n",
       " ('Jak nazywa się samolot przystosowany do startowania i lądowania na wodzie?',\n",
       "  ['hydroplan']),\n",
       " ('Jak nazywa się wtrącona w akcję scena, która zaburza chronologię?',\n",
       "  ['retrospekcja']),\n",
       " ('Jak nazywa się woda w stałym stanie skupienia?', ['lód']),\n",
       " ('Jak nazywa się australijski torbacz, którego ulubionym przysmakiem jest eukaliptus?',\n",
       "  ['koala']),\n",
       " ('Jak nazywa się czynność polegająca na łączeniu wapna palonego z wodą?',\n",
       "  ['gaszenie']),\n",
       " ('Jak nazywa się miasto w Szwajcarii i roślina pastewna?', ['lucerna']),\n",
       " ('Jak nazywa się film opowiadający o czasach zdobywania Dzikiego Zachodu?',\n",
       "  ['western']),\n",
       " ('Jak nazywa się drzewo iglaste rosnące głównie w Kalifornii i Oregonie?',\n",
       "  ['sekwoja']),\n",
       " ('Jak nazywa się dzień karnawału w którym jada się pączki?',\n",
       "  ['Tłusty Czwartek']),\n",
       " ('Jak nazywał się flagowy okręt admirała Nelsona w bitwie pod Trafalgarem?',\n",
       "  ['Victory']),\n",
       " ('Jak nazywa się drugie najgłębsze jezioro świata znajdujące się w Afryce?',\n",
       "  ['Tanganika']),\n",
       " ('Jak nazywała się lekka kawaleria założona przez Józefa Lisowskiego w początkach XVII wieku?',\n",
       "  ['lisowczycy', 'lisowczyki', 'straceńcy', 'chorągiew elearska']),\n",
       " ('Jak nazywa się meksykańska wódka z agawy?', ['tequilla']),\n",
       " ('Jak nazywał się podczas II wojny światowej niemiecki obóz jeniecki dla oficerów?',\n",
       "  ['oflag']),\n",
       " ('Jak nazywa się proces zmiany wysokości głosu u nastoletnich chłopców?',\n",
       "  ['mutacja']),\n",
       " ('Jak nazywa się polski zespół rockowy, w którym wokalistą był Artur Rojek?',\n",
       "  ['Myslovitz']),\n",
       " ('Jak nazywał się odtwórca roli Neo w „Matriksie”?', ['Keanu Reeves']),\n",
       " ('Jak nazywa się krzywa, która jest wykresem funkcji kwadratowej?',\n",
       "  ['parabola']),\n",
       " ('Jak nazywa się okres sprawowania funkcji przez papieża? Słowo pochodzi z łaciny.',\n",
       "  ['pontyfikat']),\n",
       " ('Jak nazywał się autor powieści „Martwe Dusze”?', ['Mikołaj Gogol']),\n",
       " ('Jak nazywa się reżyser filmów „Wall Street”, „The Doors”, „Urodzeni mordercy”?',\n",
       "  ['Oliver Stone']),\n",
       " ('Jak nazywa się wydział na uczelni wyższej obejmujący studia z języka i literatury Albionu?',\n",
       "  ['filologia angielska']),\n",
       " ('Jak nazywa się spotykany w zbożu niebiesko kwitnący chwast?', ['chaber']),\n",
       " ('Jak nazywa się aktorka, odtwórczyni roli Anny German w serialu TV?',\n",
       "  ['Joanna Moro']),\n",
       " ('Jak nazywa się prawnuk królowej Elżbiety, syn księcia Williama i księżnej Kate?',\n",
       "  ['Jerzy']),\n",
       " ('Jak nazywa się podstawowa jednostka temperatury w układzie SI?',\n",
       "  ['kelvin']),\n",
       " ('Jak nazywa się wynalazca piorunochronu?', ['Benjamin Franklin']),\n",
       " ('Jak nazywamy nagły, silny ból głowy?', ['migrena']),\n",
       " ('Jak nazywa się najstarsza część Talmudu?', ['Miszna']),\n",
       " ('Jak nazywa się w piosenkach powtarzający się po każdej zwrotce fragment tekstu i melodii?',\n",
       "  ['refren']),\n",
       " ('Jak nazywał się pisarz i filozof, autora powiastki „Kubuś Fatalista i jego pan”?',\n",
       "  ['Denis Diderot']),\n",
       " ('Jak nazywa się stolica Wenezueli?', ['Caracas']),\n",
       " ('Jak nazywa się waluta Kanady?', ['dolar kanadyjski']),\n",
       " ('Jak nazywa się dawna uprząż dla bydła, a także niewola?', ['jarzmo']),\n",
       " ('Jak nazywają się ziemniaki pokrojone w paski i smażone na oleju?',\n",
       "  ['frytki']),\n",
       " ('Jak nazywa się bożonarodzeniowa msza święta?', ['pasterka']),\n",
       " ('Jak nazywa się pieśń gondolierów?', ['barkarola']),\n",
       " ('Jak nazywa się nadzienie do pierogów albo naleśników? Słowo pochodzi z języka francuskiego.',\n",
       "  ['farsz']),\n",
       " ('Jak nazywamy obraz powstały po rozszczepieniu światła białego na składowe o różnych długościach?',\n",
       "  ['widmo optyczne']),\n",
       " ('Jak nazywa się tatrzańska przełęcz łącząca Zawrat i Krzyżne?',\n",
       "  ['Orla Perć']),\n",
       " ('Jak nazywał się XVIII- i XIX-wieczny malarz hiszpański obrazujący okrucieństwa wojny?',\n",
       "  ['Francisco Goya']),\n",
       " ('Jak nazywa się surowicza błona pokrywająca narządy jamy brzusznej?',\n",
       "  ['otrzewna']),\n",
       " ('Jak nazywa się indiańskie trofeum wojenne w postaci skóry zdartej z czaszki?',\n",
       "  ['skalp']),\n",
       " ('Jak nazywał się rzymski filozof, wychowawca Nerona?', ['Seneka Młodszy']),\n",
       " ('Jak nazywał się w dawnej Grecji wysmukły dzban z pionowymi uchwytami?',\n",
       "  ['amfora']),\n",
       " ('Jak nazywa się garbaty błazen, bohater opery Verdiego?', ['Rigoletto']),\n",
       " ('Jak nazywała się wieszczka wyroczni Apollina?', ['Pytia']),\n",
       " ('Jak nazywa się bilard bez łuz, a także zderzenie wielu samochodów?',\n",
       "  ['karambol']),\n",
       " ('Jak nazywamy ciało niebieskie krążące wokół planety po orbicie?',\n",
       "  ['satelita']),\n",
       " ('Jak nazywa się zewnętrzna warstwa półkul mózgowych?', ['kora mózgowa']),\n",
       " ('Jak nazywa się tor wyścigowy F1 w Lombardii?', ['Monza']),\n",
       " ('Jak nazywał się rosyjski fizjolog, który wprowadził termin odruchu warunkowego?',\n",
       "  ['Iwan Pawłow']),\n",
       " ('Jak nazywał się król Frygii o oślich uszach?', ['Midas']),\n",
       " ('Jak nazywa się stolica województwa świętokrzyskiego?', ['Kielce']),\n",
       " ('Jak nazywają się niebieskie ludziki z wieczorynki dla dzieci?', ['Smerfy']),\n",
       " ('Jak nazywa się tytułowy bohater powieści Daniela Defoe, który spędza wiele lat samotnie na bezludnej wyspie?',\n",
       "  ['Robinson Crusoe']),\n",
       " ('Jak nazywa się krótka alegoryczna opowieść i matematyczna krzywa stożkowa?',\n",
       "  ['parabola']),\n",
       " ('Jak nazywa się przedmiot do pomiaru długości i częstotliwości fali elektromagnetycznej?',\n",
       "  ['falomierz']),\n",
       " ('Jak nazywają się rdzenni mieszkańcy Papui Nowej Gwinei?', ['Papuasi']),\n",
       " ('Jak nazywa się program informacyjny nadawany na pierwszym programie codziennie o 19.30?',\n",
       "  ['„Wiadomości”']),\n",
       " ('Jak nazywa się drzewo z rodziny sosnowatych, które zrzuca igły na zimę?',\n",
       "  ['modrzew']),\n",
       " ('Jak nazywa się czterokrotny mistrz olimpijski w chodzie?',\n",
       "  ['Robert Korzeniowski']),\n",
       " ('Jak nazywa się znaczący wzrost wartości papierów wartościowych na giełdzie?',\n",
       "  ['hossa']),\n",
       " ('Jak nazywał się pas umocnień zbudowany po I wojnie światowej w północno-wschodniej Francji?',\n",
       "  ['Linia Maginota', 'linia Zygfryda']),\n",
       " ('Jak nazywa się półwysep oddzielający Zatokę Meksykańską od Morza Karaibskiego?',\n",
       "  ['Jukatan']),\n",
       " ('Jak nazywa się miasto, które według legendy mieli założyć Wars i Sawa?',\n",
       "  ['Warszawa']),\n",
       " ('Jak nazywa się najstarszy termoplastyczne tworzywo sztuczne, z którego wykonane są klisze fotograficzne?',\n",
       "  ['celuloid']),\n",
       " ('Jak nazywa się ręczne narzędzie do ścinania trawy i zboża?', ['sierp']),\n",
       " ('Jak nazywa się ostatnia litera alfabetu greckiego?', ['omega']),\n",
       " (\"Jak nazywa się tytułowy porucznik policji grany przez Telly'ego Savalasa?\",\n",
       "  ['Kojak']),\n",
       " ('Jak nazywa się melodia grana co godzinę z wieży Kościoła Mariackiego?',\n",
       "  ['hejnał']),\n",
       " ('Jak nazywał się egiptolog, który odnalazł grób Tutenchamona?',\n",
       "  ['Howard Carter']),\n",
       " ('Jak nazywa się maszyna do ścinania głów?', ['gilotyna']),\n",
       " ('Jak nazywa się postać rozwojowa owadów między larwą a postacią dojrzałą?',\n",
       "  ['poczwarka']),\n",
       " ('Jak nazywa się podstawowy węglowodór aromatyczny o wzorze C6H6?',\n",
       "  ['benzen']),\n",
       " ('Jak nazywał się niemiecki lekarz, który odkrył prątek gruźlicy?',\n",
       "  ['Robert Koch']),\n",
       " ('Jak nazywa się aktor grający główną rolę w filmie „Lot nad kukułczym gniazdem”?',\n",
       "  ['Jack Nicholson']),\n",
       " ('Jak nazywa się druga najdłuższa rzeka Europy po Wołdze?', ['Dunaj']),\n",
       " ('Jak nazywa się dziesiąta część procentu?', ['promil']),\n",
       " ('Jak nazywa się najmniejszy dzwon kościelny?', ['sygnaturka']),\n",
       " ('Jak nazywał się trzeci prezydent USA?', ['Thomas Jefferson']),\n",
       " ('Jak nazywa się największy dzwon na świecie?', ['Car Kołokoł']),\n",
       " ('Jak nazywa się najwyższy organ władzy ustawodawczej przewidziany przez Konstytucję 3 Maja?',\n",
       "  ['Straż Praw']),\n",
       " ('Jak nazywał się statek, którego dowódcą był Neil Armstrong?',\n",
       "  ['Apollo 11']),\n",
       " ('Jak nazywa się autorka powieści „Wichrowe Wzgórza”?',\n",
       "  ['Emily Bronte', 'Emily Brontë']),\n",
       " ('Jak nazywa się półpiętro, wydzielona górna część wysokiego pomieszczenia?',\n",
       "  ['antresola']),\n",
       " ('Jak nazywa się występowanie tego samego pierwiastka w różnych postaciach, o różnych właściwościach fizycznych?',\n",
       "  ['alotropia']),\n",
       " ('Jak nazywa się rezydencja pod Paryżem, której budowa została rozpoczęta przez Ludwika XIII?',\n",
       "  ['Wersal']),\n",
       " ('Jak nazywa się po polsku gwiazdozbiór Aquarius?', ['Wodnik']),\n",
       " ('Jak nazywa się wapń po łacinie?', ['calcium']),\n",
       " ('Jak nazywała się legendarna kraina złota w Ameryce Płd. poszukiwana przez hiszpańskich konkwistadorów?',\n",
       "  ['Eldorado', 'El Dorado']),\n",
       " ('Jak nazywał się książę Siedmiogrodu, który został królem Polski?',\n",
       "  ['Stefan Batory']),\n",
       " ('Jak nazywane były kapłanki strzegące świętego ognia?', ['westalki']),\n",
       " ('Jak nazywa się izba niższa parlamentu francuskiego?',\n",
       "  ['Zgromadzenie Narodowe']),\n",
       " ('Jak nazywa się stolica Irlandii?', ['Dublin']),\n",
       " ('Jak nazywa się huculski instrument dęty w postaci prostej rury?',\n",
       "  ['trombita', 'trembita', 'ligawka huculska']),\n",
       " ('Jak nazywał się najwyższy stopień wojskowy na Litwie i w Koronie?',\n",
       "  ['Hetman Wielki']),\n",
       " ('Jak nazywa się stop żelaza z węglem o zawartości węgla do 2%?', ['stal']),\n",
       " ('Jak nazywa się potocznie węglik wapnia, służący do produkcji acetylenu?',\n",
       "  ['karbid']),\n",
       " ('Jak nazywa się owalna płytka, na której malarz miesza farby podczas malowania?',\n",
       "  ['paleta']),\n",
       " ('Jak nazywał się staropolski ubiór męski, długa suknia noszona pod kontuszem?',\n",
       "  ['żupan']),\n",
       " ('Jak nazywa się największy prawobrzeżny dopływ Warty, który przepływa przez jezioro Gopło?',\n",
       "  ['Noteć']),\n",
       " ('Jak nazywa się w hinduizmie nauczyciel, mistrz, przewodnik?', ['guru']),\n",
       " ('Jak nazywają się amerykańskie nagrody nazywane telewizyjnymi Oscarami?',\n",
       "  ['Emmy']),\n",
       " ('Jak nazywa się pałeczka dyrygenta?', ['batuta']),\n",
       " ('Jak nazywa się pałeczka dyrygenta?', ['batuta']),\n",
       " ('Jak nazywa się polska aktorka, żona Stanisława Dygata?',\n",
       "  ['Kalina Jędrusik']),\n",
       " ('Jak nazywa się końcowy okres epoki kamienia?', ['neolit']),\n",
       " ('Jak nazywa się żydowski nagrobek?', ['macewa']),\n",
       " ('Jak nazywa się dawna broń myśliwska o długim drzewcu, obecnie używana jako sprzęt w lekkiej atletyce?',\n",
       "  ['oszczep']),\n",
       " ('Jak nazywał się instruktor w warszawskiej Szkole Podchorążych, przywódca spisku, który doprowadził do wybuchu Powstania Listopadowego?',\n",
       "  ['Piotr Wysocki']),\n",
       " ('Jak nazywa się podział jądra, w którym nie dochodzi do zmiany liczby chromosomów?',\n",
       "  ['mitoza']),\n",
       " ('Jak nazywa się państwo, przez które przepływa najdłuższa rzeka Azji – Jangcy?',\n",
       "  ['Chiny']),\n",
       " ('Jak nazywa się przewodniczący na modlitwie w meczecie?', ['imam']),\n",
       " ('Jak nazywał się zabójca prezydenta Narutowicza?',\n",
       "  ['Eligiusz Niewiadomski']),\n",
       " ('Jak nazywa się rzeczna dolina o wąskim dnie i stromych, skalistych zboczach?',\n",
       "  ['jar', 'kanion', 'wąwóz']),\n",
       " ('Jak nazywamy inaczej 50. rocznicę ślubu?', ['złote gody']),\n",
       " ('Jak nazywa się chybiony strzał, a także więzienie?', ['pudło']),\n",
       " ('Jak nazywa się polski reżyser, mąż Jadwigi Barańskiej?', ['Jerzy Antczak']),\n",
       " ('Jak nazywano rapier Gerwazego?', ['Scyzorykiem']),\n",
       " ('Jak nazywała się słynna królowa Babilonu, znana z wiszących ogrodów?',\n",
       "  ['Semiramida']),\n",
       " ('Jak nazywa się łańcuch górski leżący na granicy Francji i Hiszpanii?',\n",
       "  ['Pireneje']),\n",
       " ('Jak nazywa się rakieta świetlna zrzucana z samolotu na spadochronie w celu oświetlenia miejsca lądowania lub ostrzeliwania?',\n",
       "  ['flara']),\n",
       " ('Jak nazywa się rzemieślnik odlewający dzwony?', ['ludwisarz']),\n",
       " ('Jak nazywał się Wielki Mistrz pod Grunwaldem?', ['Ulrich von Jungingen']),\n",
       " ('Jak nazywa się największy żyjący współcześnie przedstawiciel rodziny kotów?',\n",
       "  ['tygrys']),\n",
       " ('Jak nazywał się reżyser filmów „Miś” i „Żona dla Australijczyka”?',\n",
       "  ['Stanisław Bareja']),\n",
       " ('Jak nazywa się dziedzina medycyny zajmująca się rozpoznawaniem i leczeniem uczuleń?',\n",
       "  ['alergologia']),\n",
       " ('Jak nazywa się dział piśmiennictwa chrześcijańskiego obejmujący żywoty świętych i legendy o nich? Nazwa pochodzi z greki.',\n",
       "  ['hagiografia']),\n",
       " ('Jak nazywa się amerykańska aktorka, siostra Warrena Beatty?',\n",
       "  ['Shirley MacLaine']),\n",
       " ('Jak nazywa się gryzoń i urządzenie sterujące do komputera?', ['mysz']),\n",
       " ('Jak nazywa się nauka zajmująca się językiem, kulturą i historią Czech?',\n",
       "  ['bohemistyka']),\n",
       " ('Jak nazywał się ojciec królowej Jadwigi?', ['Ludwik Andegaweński']),\n",
       " ('Jak nazywa się miejscowość uzdrowiskowa w kujawsko-pomorskim znana z zespołu „Tęcza”?',\n",
       "  ['w Ciechocinku']),\n",
       " ('Jak nazywa się aktor, który wcielał się w rolę Iron Mana?',\n",
       "  ['Robert Downey Junior']),\n",
       " ('Jak nazywał się angielski fizyk, który przeprowadził pierwszą sztuczną reakcją jądrową, za którą otrzymał Nagrodę Nobla?',\n",
       "  ['Ernest Rutherford']),\n",
       " ('Jak nazywały się pół-ludzie, pół-konie żyjące w lasach Tesali?',\n",
       "  ['centaury']),\n",
       " ('Jak nazywa się kopania w Katowicach, w której w grudniu 1981 roku zabito podczas strajku 9 górników?',\n",
       "  ['Wujek']),\n",
       " ('Jak nazywa się bierna, niekurczliwa część mięśnia przytwierdzająca go do kości?',\n",
       "  ['ścięgno']),\n",
       " ('Jak nazywa się kierunek filozoficzny, w którym najważniejsze jest doświadczenie?',\n",
       "  ['empiryzm']),\n",
       " ('Jak nazywamy prosty przyrząd diagnostyczny do osłuchiwania pacjenta w medycynie?',\n",
       "  ['stetoskop']),\n",
       " ('Jak nazywa się najwyższy szczyt Beskidu Śląskiego?', ['Skrzyczne']),\n",
       " ('Jak nazywa się polski piłkarz, który zdobył 4 bramki w jednym spotkaniu Ligi Mistrzów?',\n",
       "  ['Robert Lewandowski']),\n",
       " ('Jak nazywamy wojnę zakończoną pokojem w Toruniu w 1466 r.?',\n",
       "  ['wojna trzynastoletnia']),\n",
       " ('Jak nazywa się fotel z baldachimem noszony przez tragarzy?', ['lektyka']),\n",
       " ('Jak nazywa się ogół adwokatów?', ['palestra']),\n",
       " ('Jak nazywa się miasto filistyńskie, w którym zginął Samson?', ['Gaza']),\n",
       " ('Jak nazywały się wydzielone obszary dla ludności murzyńskiej w RPA?',\n",
       "  ['bantustany']),\n",
       " ('Jak nazywa się pomieszczenie pod posadzką kościoła, w którym chowano zmarłych?',\n",
       "  ['krypta']),\n",
       " ('Jak nazywa się taśma służąca do jeżdżenia konno po kole?', ['lonża']),\n",
       " ('Jak nazywała się kobieta będąca premier Izraela?', ['Golda Meir']),\n",
       " ('Jak nazywa się rzemieślnik, który pokrywa meble tkaniną?', ['tapicer']),\n",
       " ('Jak nazywał się pierwszy prezydent Autonomii Palestyńskiej?',\n",
       "  ['Jaser Arafat']),\n",
       " ('Jak nazywa się wyzwoliciel Ameryki Południowej spod zwierzchnictwa Hiszpanii?',\n",
       "  ['Simon Bolivar', 'Simón Bolívar']),\n",
       " ('Jak nazywa się melodia wygrywana przez mechanizm w zegarach?', ['kurant']),\n",
       " ('Jak nazywa się skrzydlaty koń, symbol poetyckiego natchnienia?', ['Pegaz']),\n",
       " ('Jak nazywał się pisarz i podróżnik, autor powieści „Kanada pachnąca żywicą” i „Ryby śpiewają w Ukajali”?',\n",
       "  ['Arkady Fiedler']),\n",
       " ('Jak nazywa się jedno ze wzgórz Rzymu, na którym mieści się siedziba prezydenta Republiki?',\n",
       "  ['Kwirynał']),\n",
       " ('Jak nazywa się grupa etniczna zamieszkująca okolice Prutu i Czeremosza?',\n",
       "  ['Hucułowie', 'Huculi']),\n",
       " ('Jak nazywał się dokument z 1807 r. regulujący ustrój Księstwa Warszawskiego?',\n",
       "  ['Konstytucja Księstwa Warszawskiego']),\n",
       " ('Jak nazywa się największa wyspy Japonii?', ['Honsiu']),\n",
       " ('Jak nazywał się polski hetman polny, dowódca w bitwach pod Trzcianą i Hamersztynem?',\n",
       "  ['Stanisław Koniecpolski']),\n",
       " ('Jak nazywał się przyjaciel Pana Wołodyjowskiego, który wraz z nim zginął w gruzach kamienieckiego zamku?',\n",
       "  ['Ketling', 'Hassling-Ketling of Elgin']),\n",
       " ('Jak nazywa się wąski pas lądu przy zatoce Maliakos, gdzie Grecy ponieśli klęskę z Persami?',\n",
       "  ['Termopile']),\n",
       " ('Jak nazywa się największe zwierzę z rodziny fokowatych?', ['słoń morski']),\n",
       " ('Jak nazywa się pogląd, według którego człowiek jest środkiem wszechświata?',\n",
       "  ['antropocentryzm']),\n",
       " ('Jak nazywa się miś z klapniętym uszkiem z popularnej dobranocki?',\n",
       "  ['Miś Uszatek']),\n",
       " ('Jak nazywa się dział astronomii zajmujący się badaniem powierzchni Księżyca?',\n",
       "  ['selenografia']),\n",
       " ('Jak nazywa się urządzenie w aparacie dozujące czas dostępu światła do elementu światłoczułego?',\n",
       "  ['migawka']),\n",
       " ('Jak nazywa się forma organizacji społeczeństwa, w której dominują kobiety?',\n",
       "  ['matriarchat']),\n",
       " ('Jak nazywa się pojedynek pomiędzy zwycięzcami ćwierćfinałów?',\n",
       "  ['półfinał']),\n",
       " ('Jak nazywa się tradycyjny strój górali szkockich, krótka spódniczka w kratę?',\n",
       "  ['kilt']),\n",
       " ('Jak nazywa się stolica Niemiec?', ['Berlin']),\n",
       " ('Jak nazywa się indiańska łódź o szkielecie z drewna, pokryta korą brzozową, pierwowzór kanadyjki?',\n",
       "  ['kanu', 'canoe']),\n",
       " ('Jak nazywa się bohater angielskich legend, obrońca biednych kryjący się w lasach Yorkshire?',\n",
       "  ['Robin Hood']),\n",
       " ('Jak nazywa się dział medycyny zajmujący się odpornością?', ['immunologia']),\n",
       " ('Jak nazywa się gra na wybieraniu pojedynczych patyczków z bezładnego stosu, tak by nie poruszyć innych?',\n",
       "  ['bierki']),\n",
       " ('Jak nazywał się ostatni król z dynastii Piastów?',\n",
       "  ['Kazimierz III Wielki']),\n",
       " ('Jak nazywa się miejsce w sądzie, gdzie siadają oskarżeni?',\n",
       "  ['ława oskarżonych']),\n",
       " ('Jak nazywa się spis spraw sądowych odbywających się tego samego dnia po sobie?',\n",
       "  ['wokanda']),\n",
       " ('Jak nazywa się kostka do gry w domino nie zawierająca żadnych kropek, z pustym polem?',\n",
       "  ['mydło']),\n",
       " ('Jak nazywa się działający do dziś najstarszy polski teatr?',\n",
       "  ['Teatr Narodowy w Warszawie']),\n",
       " ('Jak nazywał się twórca postaci Pana Kleksa?', ['Jan Brzechwa']),\n",
       " ('Jak nazywa się państwo w północnej Afryce, które ma stolicę w Trypolisie?',\n",
       "  ['Libia']),\n",
       " ('Jak nazywa się woltyżerka na siodle galopującego konia uprawiana na pokazie?',\n",
       "  ['dżygitówka']),\n",
       " ('Jak nazywał się angielski król o przydomku Lwie Serce?', ['Ryszard I']),\n",
       " ('Jak nazywa się tylna część statku?', ['rufa']),\n",
       " ('Jak nazywa się zwyczajowe prawo, według którego wdowę musi poślubić brat zmarłego?',\n",
       "  ['lewirat']),\n",
       " ('Jak nazywa się w lekkiej atletyce bieg rozstawny?', ['sztafeta']),\n",
       " ('Jak nazywa się krakowskie wzgórze ze Smoczą Jamą i Zamkiem Królewskim?',\n",
       "  ['Wawel']),\n",
       " ('Jak nazywają się kule do gry w bilard?', ['bile']),\n",
       " ('Jak nazywały się podziemne cmentarze w starożytnym Rzymie?', ['katakumby']),\n",
       " ('Jak nazywa się słodkie, mocne wino z doliny rzeki Douro w Portugalii?',\n",
       "  ['porto']),\n",
       " ('Jak nazywał się autor słów: „Wsi spokojna, wsi wesoła! Który głos twej chwale zdoła?”?',\n",
       "  ['Jan Kochanowski']),\n",
       " ('Jak nazywa się krótka łopatka używana w wojsku?', ['saperka']),\n",
       " ('Jak nazywał się polski farmaceuta który skonstruował lampę naftową?',\n",
       "  ['Ignacy Łukasiewicz']),\n",
       " ('Jak nazywają się członkowie zakonu założonego w 1155 r. na górze Karmel?',\n",
       "  ['karmelici']),\n",
       " ('Jak nazywa się okres godowy ryb?', ['tarło']),\n",
       " ('Jak nazywa się dział historii zajmujący się pieczęciami?', ['sfragistyka']),\n",
       " ('Jak nazywa się portret artysty wykonany przez niego samego?',\n",
       "  ['autoportret']),\n",
       " ('Jak nazywa się nić chirurgiczna z baraniego jelita?',\n",
       "  ['catgut', 'ketgut', 'katgut']),\n",
       " ('Jak nazywa się silnie zjonizowane powietrze w którym liczba wolnych elektronów jest równa liczbie kationów?',\n",
       "  ['plazma']),\n",
       " ('Jak nazywa się świecznik przeznaczony na jedną świecę, słowo pochodzi z niemieckiego?',\n",
       "  ['lichtarz']),\n",
       " ('Jak nazywa się karczma z ballady Adama Mickiewicza „Pani Twardowska”?',\n",
       "  ['Rzym']),\n",
       " ('Jak nazywa się gumowy worek wypełniany gorącą wodą, służący do miejscowego ogrzewania ciała?',\n",
       "  ['termofor']),\n",
       " ('Jak nazywała się bohaterka Pana Wołodyjowskiego, którą Zagłoba nazywał hajduczkiem?',\n",
       "  ['Basia']),\n",
       " ('Jak nazywa się flaga wskazująca przynależność państwową statku?',\n",
       "  ['bandera']),\n",
       " ('Jak nazywa się zdolność rośliny do zwracania się w stronę światła?',\n",
       "  ['fototropizm']),\n",
       " ('Jak nazywał się bliźniaczy brat Polluksa?', ['Kastor']),\n",
       " ('Jak nazywa się świątynia prawosławna?', ['cerkiew']),\n",
       " ('Jak nazywa się największa wyspa na Bałtyku?', ['Zelandia']),\n",
       " ('Jak nazywa się dział geometrii poświęcony badaniu figur przestrzennych?',\n",
       "  ['stereometria']),\n",
       " ('Jak nazywał się amerykański bejsbolista, mąż Marilyn Monroe?',\n",
       "  ['Joe DiMaggio']),\n",
       " ('Jak nazywa się autorka programu „Sprawa dla reportera”?',\n",
       "  ['Elżbieta Jaworowicz']),\n",
       " ('Jak nazywamy zespół muzyczny złożony z pięciu instrumentalistów?',\n",
       "  ['kwintet']),\n",
       " ('Jak nazywa się najmniejsza z czterech głównych wysp Japonii?', ['Sikoku']),\n",
       " ('Jak nazywa się geometryczne przekształcenie, w którym odległość pomiędzy każdą parą punktów nie ulega zmianie?',\n",
       "  ['izometria']),\n",
       " ('Jak nazywa się nakrycie głowy prawników, duchownych i profesorów?',\n",
       "  ['biret']),\n",
       " ('Jak nazywa się wyścig motocyklowy rozgrywany w trudnym terenie?',\n",
       "  ['motocross']),\n",
       " ('Jak nazywa się najmniejsza rzymska jednostka wojskowa, która liczyła początkowo 100 żołnierzy?',\n",
       "  ['centuria']),\n",
       " ('Jak nazywa się częstochowskie wzgórze, na którym stoi klasztor paulinów?',\n",
       "  ['Jasna Góra']),\n",
       " ('Jak nazywał się autor zbioru bajek w 12 tomach wydanego w XVII wieku?',\n",
       "  ['Jean de La Fontaine']),\n",
       " ('Jak nazywała się kura, która znosiła złote jajka?', ['kura samograjka']),\n",
       " ('Jak nazywał się jacht, na którym Teliga opłynął dookoła świat?', ['Opty']),\n",
       " ('Jak nazywa się zawarcie nowego związku małżeńskiego w trakcie trwania poprzedniego?',\n",
       "  ['bigamia']),\n",
       " ('Jak nazywała się dawna jednostka miary o zasięgu ramion dorosłego człowieka?',\n",
       "  ['sążeń']),\n",
       " ('Jak nazywa się największy w Polsce ślimak?', ['winniczek']),\n",
       " ('Jak nazywa się krzywa, jaką opisuje ustalony punkt okręgu toczącego się bez poślizgu na zewnątrz innego, nieruchomego okręgu?',\n",
       "  ['epicykloida']),\n",
       " ('Jak nazywa się zakład produkujący piwo?', ['browar']),\n",
       " ('Jak nazywał się w „Baśniach tysiąca i jednej nocy” skarbiec, do otwarcia którego było potrzebne hasło?',\n",
       "  ['sezam']),\n",
       " ('Jak nazywa się kwartet złożony z wiolonczeli, altówki i dwóch skrzypiec?',\n",
       "  ['kwartet smyczkowy']),\n",
       " ('Jak nazywa się dramat, w którym jedną z postaci jest Brabancjo?',\n",
       "  ['Otello']),\n",
       " ('Jak nazywa się aktor, odtwórca roli Bonda w trzech ostatnich filmach?',\n",
       "  ['Daniel Craig']),\n",
       " ('Jak nazywa się niewielka, dzika owca?', ['muflon']),\n",
       " ('Jak nazywa się ustawa zasadnicza ustalająca podstawy ustroju?',\n",
       "  ['konstytucja']),\n",
       " ('Jak nazywa się jedyny naturalny satelita Ziemi?', ['Księżyc']),\n",
       " ('Jak nazywało się państwo utworzone przez krzyżowców na terenie Palestyny i Syrii?',\n",
       "  ['Królestwo Jerozolimskie']),\n",
       " ('Jak nazywa się jednostka masy używana w obrocie kamieniami szlachetnymi?',\n",
       "  ['karat']),\n",
       " ('Jak nazywamy wielkość fizyczną opisującą miejsce zajmowane przez ciało w przestrzeni?',\n",
       "  ['objętość']),\n",
       " ('Jak nazywa się park miejski, który otacza najstarszą część Krakowa?',\n",
       "  ['Planty']),\n",
       " ('Jak nazywał się pierwszy balon skonstruowany przez braci Montgolfier?',\n",
       "  ['Ad Astra', 'Do Gwiazd']),\n",
       " ('Jak nazywa się pierwiastek chemiczny, którego nazwa brzmi tak samo jak imię dżentelmena włamywacza Lupina?',\n",
       "  ['arsen']),\n",
       " ('Jak nazywa się jaskinia we Francji, w której w 1940 r. odkryto na ścianach malowidła z neolitu?',\n",
       "  ['Lascaux']),\n",
       " ('Jak nazywała się paryska rezydencja będąca miejscem pobytu stronnictwa Wielkiej Emigracji skupionej wokół Adama Czartoryskiego?',\n",
       "  ['Hotel Lambert', 'Hôtel Lambert']),\n",
       " ('Jak nazywała się wyspa, w pobliżu której w 1905 r. flota japońska rozbiła rosyjską?',\n",
       "  ['Cuszima']),\n",
       " ('Jak nazywa się miejscowość w której mieści się szpital w serialu „Na dobre i na złe”?',\n",
       "  ['Leśna Góra']),\n",
       " ('Jak nazywa się stolica Rumunii?', ['Bukareszt']),\n",
       " ('Jak nazywa się smętna, ukraińska pieśń ludowa?', ['dumka']),\n",
       " ('Jak nazywa się zwolennik władzy królewskiej?',\n",
       "  ['monarchista', 'rojalista']),\n",
       " ('Jak nazywa się funkcja trygonometryczna, stosunek długości przyprostokątnej przyległej do długości przeciwprostokątnej?',\n",
       "  ['cosinus']),\n",
       " ('Jak nazywa się nauka badająca przestępczość jako zjawisko społeczne?',\n",
       "  ['kryminologia']),\n",
       " ('Jak nazywała się grecka muza, opiekunka historii?', ['Klio']),\n",
       " ('Jak nazywa się dziewiąty miesiąc kalendarza księżycowego muzułmanów, w którym obowiązuje post?',\n",
       "  ['Ramadan']),\n",
       " ('Jak nazywa się kompleks świątyń skalnych w Egipcie przeniesionych przed zalaniem wodą jeziora Nassera?',\n",
       "  ['Abu Simbel']),\n",
       " ('Jak nazywał się pierwszy sztuczny satelita umieszczony na orbicie Ziemi?',\n",
       "  ['Sputnik']),\n",
       " ('Jak nazywa się znak pieniężny wykonany z papieru?', ['banknot']),\n",
       " ('Jak nazywa się największa depresja na Ziemi?', ['Morze Martwe']),\n",
       " ('Jak nazywają się odgałęzienia tchawicy?', ['oskrzela']),\n",
       " ('Jak nazywa się jeden z trzech stanów skupienia oprócz stałego i ciekłego?',\n",
       "  ['gazowy']),\n",
       " ('Jak nazywała się partia, której członkowie spotykali się w klasztorze św. Jakuba w Paryżu?',\n",
       "  ['Jakobini']),\n",
       " ('Jak nazywamy przestępcę porywającego ludzi dla okupu?', ['kidnaper']),\n",
       " ('Jak nazywa się czynność usuwania pni po ściętych drzewach?',\n",
       "  ['karczowanie']),\n",
       " ('Jak nazywa się polski podróżnik, który nazwał najwyższy szczyt Australii Górą Kościuszki?',\n",
       "  ['Paweł Strzelecki']),\n",
       " ('Jak nazywał się nazista, który tłumił powstanie w getcie warszawskim?',\n",
       "  ['Jürgen Stroop']),\n",
       " ('Jak nazywała się matka Anny Jagiellonki, żony Stefana Batorego?',\n",
       "  ['Bona Sforza']),\n",
       " ('Jak nazywał się dowódca powstania w getcie warszawskim?',\n",
       "  ['Mordechaj Anielewicz']),\n",
       " ('Jak nazywa się podstawowa jednostka samorządu terytorialnego w Polsce?',\n",
       "  ['gmina']),\n",
       " ('Jak nazywa się bieg na krótkim dystansie?', ['sprint']),\n",
       " ('Jak nazywają się tradycyjne rosyjskie pierożki z mięsem?', ['pielmieni']),\n",
       " ('Jak nazywał się król Prus, inicjator I rozbioru Polski?',\n",
       "  ['Fryderyk II Wielki'])]"
      ]
     },
     "execution_count": 294,
     "metadata": {},
     "output_type": "execute_result"
    }
   ],
   "source": [
    "qa_groups[QuestionType.NAME]"
   ]
  },
  {
   "cell_type": "code",
   "execution_count": 165,
   "metadata": {},
   "outputs": [
    {
     "data": {
      "text/plain": [
       "'Dybuk'"
      ]
     },
     "execution_count": 165,
     "metadata": {},
     "output_type": "execute_result"
    }
   ],
   "source": [
    "description"
   ]
  },
  {
   "cell_type": "code",
   "execution_count": 167,
   "metadata": {},
   "outputs": [
    {
     "data": {
      "text/plain": [
       "['dusza zmarłego grzesznika wstępująca do ciała żywego',\n",
       " '',\n",
       " 'duch w domostwie domowym']"
      ]
     },
     "execution_count": 167,
     "metadata": {},
     "output_type": "execute_result"
    }
   ],
   "source": [
    "opts"
   ]
  },
  {
   "cell_type": "code",
   "execution_count": 143,
   "metadata": {},
   "outputs": [],
   "source": [
    "pattern2 = re.compile(\".* czy (.*?)\\?$\")"
   ]
  },
  {
   "cell_type": "code",
   "execution_count": 205,
   "metadata": {},
   "outputs": [
    {
     "data": {
      "text/plain": [
       "['Według przysłowia nos jest dla tabakiery czy tabakiera dla nosa?',\n",
       " 'Który zwrotnik przecina Meksyk – Raka czy Koziorożca?',\n",
       " 'Wyspy Zielonego Przylądka leżą bliżej Afryki czy Azji?',\n",
       " 'Czy utwór „Mikołaja Doświadczyńskiego przypadki” Ignacego Krasickiego napisany jest wierszem czy prozą?',\n",
       " 'Sahara Zachodnia posiada duże złoża miedzi, fosforytów czy uranu?',\n",
       " 'Co ile lat odradzał się z popiołów mityczny feniks – co 50, co 500 czy co 5000 lat?',\n",
       " 'Kto wcześniej był koronowany na króla Polski: Jagiełło czy Jadwiga?',\n",
       " 'Żeby odwiedzić miasto Azteków, trzeba pojechać do Meksyku, Boliwii czy Peru?',\n",
       " 'W której epoce żył św. Tomasz z Akwinu: w średniowieczu czy renesansie?',\n",
       " 'Która liczba jest większa: -1 czy -1,5?',\n",
       " 'Mianem X muzy określa się telewizję czy film?',\n",
       " 'Czy ptak o nazwie sekretarz jest drapieżny czy roślinożerny?',\n",
       " 'Powierzchnia boiska do badmintona jest większa czy mniejsza od boiska do tenisa?',\n",
       " 'John Glenn czy Walentyna Tierieszkowa – kto wcześniej był w kosmosie?',\n",
       " 'Gubałówka liczy więcej czy mniej niż 1000 m n.p.m.?',\n",
       " 'W polskim alfabecie jest więcej spółgłosek czy samogłosek?',\n",
       " 'Ser Camembert jest serem greckim czy francuskim?',\n",
       " 'Wąż boa jest dusicielem czy wężem jadowitym?',\n",
       " 'Który uniwerstytet jest starszy: Sorbona czy Uniwersytet Jagielloński?',\n",
       " 'Który film powstał wcześniej: „Człowiek z żelaza” czy „Człowiek z marmuru”?',\n",
       " 'Czy foki żyją tylko w morzach i oceanach czy także w jeziorach?',\n",
       " 'Który szczyt jest wyższy: Giewont czy Kasprowy Wierch?',\n",
       " 'Który instrument ma więcej strun: harfa czy wiolonczela?',\n",
       " 'Człowiek w gorącej wodzie kąpany jest porywczy czy raczej spokojny?',\n",
       " 'Kto pierwszy dopłynął do wybrzeży Ameryki Północnej – wikingowie, Fenicjanie czy Chińczycy?',\n",
       " 'W Nowej Zelandii obowiązuje ruch samochodowy lewostronny czy prawostronny?',\n",
       " 'Skrętnice żyją w środowisku lądowym czy wodnym?',\n",
       " 'Miasto Bonn należało do RFN czy do NRD?',\n",
       " 'Czy Safona z wyspy Lesbos była postacią historyczną czy mityczną?',\n",
       " 'Która kawa zawiera alkohol: po turecku czy po irlandzku?',\n",
       " 'Co jest dłuższe: mila morska czy kilometr?',\n",
       " 'Jak położona jest płetwa u waleni: pionowo czy poziomo?',\n",
       " 'Hajducy w wojsku polskim w XVI i XVII wieku walczyli pieszo czy konno?',\n",
       " 'Która konferencja szefów trzech mocarstw odbyła się wcześniej – w Jałcie czy w Poczdamie?',\n",
       " 'Paweł czy Gaweł – kto „był spokojny i nie wadził nikomu”?',\n",
       " 'Który ptak potrafi naśladować ludzką mowę: słowik czy gwarek?',\n",
       " 'Jak brzmi celownik imienia Pinokio: Pinokiu czy Pinokiowi?',\n",
       " 'Który zespół Pieśni i Tańca powstał wcześniej: „Śląsk” czy „Mazowsze”?',\n",
       " 'Szczypiorniści grają w piłkę nożną czy ręczną?',\n",
       " 'Która roślina osiąga większą wysokość: bambus czy trzcina cukrowa?',\n",
       " 'Czy trybun ludowy był w starożytnym Rzymie urzędnikiem broniącym plebsu czy ministrem spraw zagranicznych?',\n",
       " 'Ile wynosi średnia głębokość Bałtyku – więcej czy mniej niż 100 m?',\n",
       " 'Które tempo jest wolniejsze: andante czy adagio?',\n",
       " 'Mięśnie czworogłowe znajdują się na przedzie czy tyle uda?',\n",
       " 'Ile lat według Księgi Rodzaju żył Matuzalem, 699, 969 czy 999 lat?',\n",
       " 'Światowa federacja związków zawodowych powstała przed czy po II wojnie światowej?',\n",
       " 'Czy wykrzyknik jest odmienną czy nieodmienną częścią mowy?',\n",
       " 'W jaki sposób gramy na altówce – opierając ją o ramię czy o podłogę?',\n",
       " 'Kto stoi na czele Pakistanu – premier, prezydent czy król?',\n",
       " 'Czy ser cheddar jest serem twardym czy miękkim?',\n",
       " 'Czy autostrada A2 przecina Polskę ze wschodu na zachód czy z północy na południe?',\n",
       " 'Która soczewka silniej skupia promienie – o krótszej czy o dłuższej ogniskowej?',\n",
       " 'Kiedy powstał w Nowym Jorku wieżowiec Chryslera: przed I wojną światową czy po niej?',\n",
       " 'Irina, Masza, Natasza czy Olga – jak nie miała na imię jedna z sióstr Antoniego Czechowa?',\n",
       " 'Która planeta krąży w większej odległości od Słońca niż Ziemia – Mars czy Wenus?',\n",
       " 'Diego Velazquez był malarzem niderlandzkim czy hiszpańskim?',\n",
       " 'Polski jazzman Adam Makowicz jest trębaczem, pianistą czy skrzypkiem?',\n",
       " 'Która rzeka jest dłuższa: Amazonka czy Missisipi?',\n",
       " 'Kto jest głową państwa w Irlandii – premier, prezydent czy królowa?',\n",
       " 'Mierzeja Wiślana, Łebska czy Helska – która z nich oddziela Zatokę Pucką od otwartego morza?',\n",
       " 'Z której strony wieje bryza w dzień: od strony lądu czy od strony morza?',\n",
       " 'Czy polski Dywizjon 303 był dywizjonem bombowym czy myśliwskim?',\n",
       " 'Markiza de Pompadour była faworytą Ludwika XV czy XVI?',\n",
       " 'Tafta jest tkaniną jedwabną czy bawełnianą?',\n",
       " 'Białka są budulcem organizmów zwierzęcych, roślinnych czy jednych i drugich?',\n",
       " 'Z trzech rzek: Rodan, Sekwana czy Loara – która jest najdłuższa?',\n",
       " 'Która liczba jest większa: milion milionów czy tysiąc miliardów?',\n",
       " 'Który głos kobiecy jest niższy: alt czy kontralt?',\n",
       " 'Ile lat panowała w Polsce dynastia Jagiellonów: około 150, 180 czy 250 lat?',\n",
       " 'Wołyń leży na Litwie, Ukrainie czy Białorusi?',\n",
       " 'Który liczba jest większa: pierwiastek kwadratowy z 9 czy pierwiastek sześcienny z 27?',\n",
       " 'Który z braci Grabskich, Władysław czy Stanisław, był ministrem finansów?',\n",
       " 'Faworki pieczemy czy smażymy?',\n",
       " 'Czy osoba wyrażająca się kolokwialnie używa języka literackiego czy potocznego?',\n",
       " 'Który stopień jest wyższy: pułkownik czy komandor?',\n",
       " 'Ile Parków Narodowych mamy w Polsce – mniej czy więcej niż 20?',\n",
       " 'Synagoga jest miejscem modlitw protestantów, katolików czy Żydów?',\n",
       " 'Anna Jagiellonka dokończyła po śmierci Zygmunta Augusta którą inwestycję: most czy Kościół?',\n",
       " 'Cypr odzyskał niepodległość przed czy po II wojnie światowej?',\n",
       " 'Premiera „Dziadów” w reżyserii Wyspiańskiego miała miejsce w XIX czy XX wieku?',\n",
       " 'Glonojady są rybami czy ślimakami?',\n",
       " 'Film „Zemsta Sithów” opowiada o Rycerzach Okrągłego Stołu czy rycerzach Jedi?',\n",
       " 'Woda zamarzając zwiększa czy zmniejsza swoją objętość?',\n",
       " 'Co jest większe: litr czy jeden decymetr sześcienny?',\n",
       " 'Kompleks Edypa występuje u chłopców czy u dziewczynek?',\n",
       " 'Wielka Rafa Koralowa ciągnie wzdłuż zachodniego czy północno-wschodniego wybrzeża Australii?',\n",
       " 'Który rozmiar ubioru jest większy – S czy M?',\n",
       " 'Orzeł w godle Polski ma głowę zwróconą w swoją prawą czy lewą stronę?',\n",
       " 'Stewia jest rośliną słodką czy słoną w smaku?',\n",
       " 'Która doba jest dłuższa: doba gwiazdowa czy średnia doba słoneczna?',\n",
       " 'Czy św. Piotr pochodził z Galilei, czy Jordanii?',\n",
       " 'Skrót HDD oznacza rodzaj procesora czy dysk twardy komputera?',\n",
       " 'Kornel Makuszyński powołał do życia Koziołka Matołka przed czy po II wojnie światowej?',\n",
       " 'Sędzia z Pana Tadeusza był krewnym Sopliców czy Horeszków?',\n",
       " 'Hannibal żył przed Chrystusem czy po Chrystusie?',\n",
       " 'Laudację można wybić czy wygłosić',\n",
       " 'Węzeł AV i SA występują w mózgu czy sercu?',\n",
       " 'Stadion olimpijski we Wrocławiu powstał przed czy po II wojnie światowej?',\n",
       " 'Które środki płatnicze powstały wcześniej: monety czy banknoty?',\n",
       " 'Listy św. Pawła, św. Piotra znajdują się w Starym czy Nowym Testamencie?',\n",
       " 'Z ilu sylab składa się japońska forma poetycka Haiku: z 11, 15 czy z 17?',\n",
       " 'Warszawska dzielnica Praga leży na lewym czy prawym brzegu Wisły?',\n",
       " 'Pablo Picasso czy Vincent van Gogh – który z nich urodził się w Hiszpanii?',\n",
       " 'Halny powoduje wzrost temperatury czy jej spadek?',\n",
       " 'Czy biedronka (boża krówka) jest roślinożerna, czy jest drapieżnikiem?',\n",
       " 'Przy Australii leży wyspa Zelandia czy Nowa Zelandia?',\n",
       " 'Kwadrygę woźnica prowadził stojąc czy siedząc?',\n",
       " 'Na ilu wyspach położona jest Wenecja – około 50 czy na ponad stu?',\n",
       " 'Na jakiej tablicy rejestracyjnej numery są na żółtym tle: zwykłej, zabytkowej czy tymczasowej?',\n",
       " 'Która Ameryka (Północna czy Południowa) liczy więcej ludności?',\n",
       " '111 czy 112 – która z tych liczb dzieli się przez 3?',\n",
       " 'Czy pergamin wykonywano ze skór zwierzęcych czy z roślin?',\n",
       " 'Czy CNN jest stacją telewizyjną amerykańską czy brytyjską?',\n",
       " 'Przylądek Akcjum znajduje się w Afryce czy Europie?',\n",
       " 'Co jest większe: powierzchnia nowojorskiego Central Parku czy księstwa Monako?',\n",
       " 'Drożdże piekarskie zawierają martwe czy żywe grzyby?',\n",
       " 'Kim jest Masztalski, bohater dowcipów – Ślązakiem, Mazurem czy Kaszubem?']"
      ]
     },
     "execution_count": 205,
     "metadata": {},
     "output_type": "execute_result"
    }
   ],
   "source": [
    "[q for (q, _) in qa_groups[QuestionType.SELECT] if not pattern.match(q)]"
   ]
  },
  {
   "cell_type": "code",
   "execution_count": 146,
   "metadata": {},
   "outputs": [
    {
     "data": {
      "text/plain": [
       "['Laudację można wybić czy wygłosić']"
      ]
     },
     "execution_count": 146,
     "metadata": {},
     "output_type": "execute_result"
    }
   ],
   "source": [
    "[q for (q, _) in qa_groups[QuestionType.SELECT] if not pattern.match(q) and not pattern2.match(q)]"
   ]
  },
  {
   "cell_type": "code",
   "execution_count": null,
   "metadata": {},
   "outputs": [],
   "source": []
  },
  {
   "cell_type": "code",
   "execution_count": 126,
   "metadata": {},
   "outputs": [],
   "source": [
    "from spacy import displacy"
   ]
  },
  {
   "cell_type": "code",
   "execution_count": 127,
   "metadata": {},
   "outputs": [
    {
     "data": {
      "text/html": [
       "<span class=\"tex2jax_ignore\"><svg xmlns=\"http://www.w3.org/2000/svg\" xmlns:xlink=\"http://www.w3.org/1999/xlink\" xml:lang=\"pl\" id=\"5cc99c8ffca640aaa37437aa0c24a1e7-0\" class=\"displacy\" width=\"1275\" height=\"312.0\" direction=\"ltr\" style=\"max-width: none; height: 312.0px; color: #000000; background: #ffffff; font-family: Arial; direction: ltr\">\n",
       "<text class=\"displacy-token\" fill=\"currentColor\" text-anchor=\"middle\" y=\"222.0\">\n",
       "    <tspan class=\"displacy-word\" fill=\"currentColor\" x=\"50\">Który</tspan>\n",
       "    <tspan class=\"displacy-tag\" dy=\"2em\" fill=\"currentColor\" x=\"50\">DET</tspan>\n",
       "</text>\n",
       "\n",
       "<text class=\"displacy-token\" fill=\"currentColor\" text-anchor=\"middle\" y=\"222.0\">\n",
       "    <tspan class=\"displacy-word\" fill=\"currentColor\" x=\"225\">zwrotnik</tspan>\n",
       "    <tspan class=\"displacy-tag\" dy=\"2em\" fill=\"currentColor\" x=\"225\">NOUN</tspan>\n",
       "</text>\n",
       "\n",
       "<text class=\"displacy-token\" fill=\"currentColor\" text-anchor=\"middle\" y=\"222.0\">\n",
       "    <tspan class=\"displacy-word\" fill=\"currentColor\" x=\"400\">przecina</tspan>\n",
       "    <tspan class=\"displacy-tag\" dy=\"2em\" fill=\"currentColor\" x=\"400\">VERB</tspan>\n",
       "</text>\n",
       "\n",
       "<text class=\"displacy-token\" fill=\"currentColor\" text-anchor=\"middle\" y=\"222.0\">\n",
       "    <tspan class=\"displacy-word\" fill=\"currentColor\" x=\"575\">Meksyk –</tspan>\n",
       "    <tspan class=\"displacy-tag\" dy=\"2em\" fill=\"currentColor\" x=\"575\">PROPN</tspan>\n",
       "</text>\n",
       "\n",
       "<text class=\"displacy-token\" fill=\"currentColor\" text-anchor=\"middle\" y=\"222.0\">\n",
       "    <tspan class=\"displacy-word\" fill=\"currentColor\" x=\"750\">Raka</tspan>\n",
       "    <tspan class=\"displacy-tag\" dy=\"2em\" fill=\"currentColor\" x=\"750\">PROPN</tspan>\n",
       "</text>\n",
       "\n",
       "<text class=\"displacy-token\" fill=\"currentColor\" text-anchor=\"middle\" y=\"222.0\">\n",
       "    <tspan class=\"displacy-word\" fill=\"currentColor\" x=\"925\">czy</tspan>\n",
       "    <tspan class=\"displacy-tag\" dy=\"2em\" fill=\"currentColor\" x=\"925\">CCONJ</tspan>\n",
       "</text>\n",
       "\n",
       "<text class=\"displacy-token\" fill=\"currentColor\" text-anchor=\"middle\" y=\"222.0\">\n",
       "    <tspan class=\"displacy-word\" fill=\"currentColor\" x=\"1100\">Koziorożca?</tspan>\n",
       "    <tspan class=\"displacy-tag\" dy=\"2em\" fill=\"currentColor\" x=\"1100\">NOUN</tspan>\n",
       "</text>\n",
       "\n",
       "<g class=\"displacy-arrow\">\n",
       "    <path class=\"displacy-arc\" id=\"arrow-5cc99c8ffca640aaa37437aa0c24a1e7-0-0\" stroke-width=\"2px\" d=\"M70,177.0 C70,89.5 220.0,89.5 220.0,177.0\" fill=\"none\" stroke=\"currentColor\"/>\n",
       "    <text dy=\"1.25em\" style=\"font-size: 0.8em; letter-spacing: 1px\">\n",
       "        <textPath xlink:href=\"#arrow-5cc99c8ffca640aaa37437aa0c24a1e7-0-0\" class=\"displacy-label\" startOffset=\"50%\" side=\"left\" fill=\"currentColor\" text-anchor=\"middle\">det</textPath>\n",
       "    </text>\n",
       "    <path class=\"displacy-arrowhead\" d=\"M70,179.0 L62,167.0 78,167.0\" fill=\"currentColor\"/>\n",
       "</g>\n",
       "\n",
       "<g class=\"displacy-arrow\">\n",
       "    <path class=\"displacy-arc\" id=\"arrow-5cc99c8ffca640aaa37437aa0c24a1e7-0-1\" stroke-width=\"2px\" d=\"M245,177.0 C245,89.5 395.0,89.5 395.0,177.0\" fill=\"none\" stroke=\"currentColor\"/>\n",
       "    <text dy=\"1.25em\" style=\"font-size: 0.8em; letter-spacing: 1px\">\n",
       "        <textPath xlink:href=\"#arrow-5cc99c8ffca640aaa37437aa0c24a1e7-0-1\" class=\"displacy-label\" startOffset=\"50%\" side=\"left\" fill=\"currentColor\" text-anchor=\"middle\">nsubj</textPath>\n",
       "    </text>\n",
       "    <path class=\"displacy-arrowhead\" d=\"M245,179.0 L237,167.0 253,167.0\" fill=\"currentColor\"/>\n",
       "</g>\n",
       "\n",
       "<g class=\"displacy-arrow\">\n",
       "    <path class=\"displacy-arc\" id=\"arrow-5cc99c8ffca640aaa37437aa0c24a1e7-0-2\" stroke-width=\"2px\" d=\"M420,177.0 C420,89.5 570.0,89.5 570.0,177.0\" fill=\"none\" stroke=\"currentColor\"/>\n",
       "    <text dy=\"1.25em\" style=\"font-size: 0.8em; letter-spacing: 1px\">\n",
       "        <textPath xlink:href=\"#arrow-5cc99c8ffca640aaa37437aa0c24a1e7-0-2\" class=\"displacy-label\" startOffset=\"50%\" side=\"left\" fill=\"currentColor\" text-anchor=\"middle\">nsubj</textPath>\n",
       "    </text>\n",
       "    <path class=\"displacy-arrowhead\" d=\"M570.0,179.0 L578.0,167.0 562.0,167.0\" fill=\"currentColor\"/>\n",
       "</g>\n",
       "\n",
       "<g class=\"displacy-arrow\">\n",
       "    <path class=\"displacy-arc\" id=\"arrow-5cc99c8ffca640aaa37437aa0c24a1e7-0-3\" stroke-width=\"2px\" d=\"M595,177.0 C595,89.5 745.0,89.5 745.0,177.0\" fill=\"none\" stroke=\"currentColor\"/>\n",
       "    <text dy=\"1.25em\" style=\"font-size: 0.8em; letter-spacing: 1px\">\n",
       "        <textPath xlink:href=\"#arrow-5cc99c8ffca640aaa37437aa0c24a1e7-0-3\" class=\"displacy-label\" startOffset=\"50%\" side=\"left\" fill=\"currentColor\" text-anchor=\"middle\">appos</textPath>\n",
       "    </text>\n",
       "    <path class=\"displacy-arrowhead\" d=\"M745.0,179.0 L753.0,167.0 737.0,167.0\" fill=\"currentColor\"/>\n",
       "</g>\n",
       "\n",
       "<g class=\"displacy-arrow\">\n",
       "    <path class=\"displacy-arc\" id=\"arrow-5cc99c8ffca640aaa37437aa0c24a1e7-0-4\" stroke-width=\"2px\" d=\"M945,177.0 C945,89.5 1095.0,89.5 1095.0,177.0\" fill=\"none\" stroke=\"currentColor\"/>\n",
       "    <text dy=\"1.25em\" style=\"font-size: 0.8em; letter-spacing: 1px\">\n",
       "        <textPath xlink:href=\"#arrow-5cc99c8ffca640aaa37437aa0c24a1e7-0-4\" class=\"displacy-label\" startOffset=\"50%\" side=\"left\" fill=\"currentColor\" text-anchor=\"middle\">cc</textPath>\n",
       "    </text>\n",
       "    <path class=\"displacy-arrowhead\" d=\"M945,179.0 L937,167.0 953,167.0\" fill=\"currentColor\"/>\n",
       "</g>\n",
       "\n",
       "<g class=\"displacy-arrow\">\n",
       "    <path class=\"displacy-arc\" id=\"arrow-5cc99c8ffca640aaa37437aa0c24a1e7-0-5\" stroke-width=\"2px\" d=\"M770,177.0 C770,2.0 1100.0,2.0 1100.0,177.0\" fill=\"none\" stroke=\"currentColor\"/>\n",
       "    <text dy=\"1.25em\" style=\"font-size: 0.8em; letter-spacing: 1px\">\n",
       "        <textPath xlink:href=\"#arrow-5cc99c8ffca640aaa37437aa0c24a1e7-0-5\" class=\"displacy-label\" startOffset=\"50%\" side=\"left\" fill=\"currentColor\" text-anchor=\"middle\">conj</textPath>\n",
       "    </text>\n",
       "    <path class=\"displacy-arrowhead\" d=\"M1100.0,179.0 L1108.0,167.0 1092.0,167.0\" fill=\"currentColor\"/>\n",
       "</g>\n",
       "</svg></span>"
      ],
      "text/plain": [
       "<IPython.core.display.HTML object>"
      ]
     },
     "metadata": {},
     "output_type": "display_data"
    }
   ],
   "source": []
  },
  {
   "cell_type": "code",
   "execution_count": 125,
   "metadata": {},
   "outputs": [
    {
     "data": {
      "text/plain": [
       "[Który zwrotnik przecina Meksyk – Raka czy Koziorożca?]"
      ]
     },
     "execution_count": 125,
     "metadata": {},
     "output_type": "execute_result"
    }
   ],
   "source": [
    "list(a.sents)"
   ]
  },
  {
   "cell_type": "code",
   "execution_count": 115,
   "metadata": {},
   "outputs": [
    {
     "data": {
      "text/plain": [
       "114"
      ]
     },
     "execution_count": 115,
     "metadata": {},
     "output_type": "execute_result"
    }
   ],
   "source": [
    "len([q for (q, _) in qa_groups[QuestionType.SELECT] if pattern.match(q)])"
   ]
  },
  {
   "cell_type": "code",
   "execution_count": 105,
   "metadata": {},
   "outputs": [
    {
     "data": {
      "text/plain": [
       "('Punkt przecięcia osi w układzie współrzędnych to punkt zero czy linia odcięcia?',\n",
       " ['punkt zero'])"
      ]
     },
     "execution_count": 105,
     "metadata": {},
     "output_type": "execute_result"
    }
   ],
   "source": [
    "q, answers = qa_groups[QuestionType.SELECT][1]\n",
    "q, answers"
   ]
  },
  {
   "cell_type": "code",
   "execution_count": 102,
   "metadata": {},
   "outputs": [
    {
     "data": {
      "text/plain": [
       "True"
      ]
     },
     "execution_count": 102,
     "metadata": {},
     "output_type": "execute_result"
    }
   ],
   "source": [
    "match(\"tabakiera dla nosa\".lower(), map(str.lower, answers))"
   ]
  },
  {
   "cell_type": "code",
   "execution_count": 111,
   "metadata": {},
   "outputs": [
    {
     "data": {
      "text/plain": [
       "<re.Match object; span=(0, 79), match='Punkt przecięcia osi w układzie współrzędnych to >"
      ]
     },
     "execution_count": 111,
     "metadata": {},
     "output_type": "execute_result"
    }
   ],
   "source": []
  },
  {
   "cell_type": "code",
   "execution_count": 108,
   "metadata": {},
   "outputs": [
    {
     "data": {
      "text/plain": [
       "<re.Match object; span=(0, 79), match='Punkt przecięcia osi w układzie współrzędnych to >"
      ]
     },
     "execution_count": 108,
     "metadata": {},
     "output_type": "execute_result"
    }
   ],
   "source": [
    "re.match(pattern, q)"
   ]
  },
  {
   "cell_type": "code",
   "execution_count": 106,
   "metadata": {},
   "outputs": [
    {
     "data": {
      "text/plain": [
       "[('Punkt przecięcia osi w układzie współrzędnych',\n",
       "  'punkt zero',\n",
       "  '',\n",
       "  'linia odcięcia')]"
      ]
     },
     "execution_count": 106,
     "metadata": {},
     "output_type": "execute_result"
    }
   ],
   "source": [
    "re.findall(pattern, q)"
   ]
  },
  {
   "cell_type": "code",
   "execution_count": null,
   "metadata": {},
   "outputs": [],
   "source": []
  },
  {
   "cell_type": "code",
   "execution_count": 13,
   "metadata": {},
   "outputs": [],
   "source": [
    "from typing import Dict, Tuple\n",
    "\n",
    "import pandas as pd\n",
    "import requests\n",
    "\n",
    "SOLR_URL = \"http://localhost:8983/solr/dialogs/query\"\n",
    "\n",
    "\n",
    "def query_solr(query: str, language: str) -> Tuple[str, Dict]:\n",
    "    \"\"\"\n",
    "    Function to query the Solr database with a question\n",
    "\n",
    "    Parameters\n",
    "    ----------\n",
    "        query, str:\n",
    "            The question to be searched\n",
    "        language, str:\n",
    "            Question language abbreviation\n",
    "    \"\"\"\n",
    "    if query is None:\n",
    "        return None, None\n",
    "\n",
    "    solr_query = f\"content_txt_{language}: {query} OR \"\n",
    "    solr_query += \" OR \".join([f\"content_txt_{language}:{t}\" for t in query.split()])\n",
    "\n",
    "    r = requests.get(\n",
    "        SOLR_URL,\n",
    "        json={\"query\": solr_query, \"params\": {\"debugQuery\": True}}\n",
    "    )\n",
    "\n",
    "    if not r.ok:\n",
    "        return None, r.text\n",
    "    response = r.json()\n",
    "    docs = response[\"response\"][\"docs\"]\n",
    "    if not docs:\n",
    "        return None, response\n",
    "    info = {\n",
    "        \"solr_query\": solr_query,\n",
    "        \"response\": response,\n",
    "    }\n",
    "    return docs[0][f\"title_txt_{language}\"], info"
   ]
  },
  {
   "cell_type": "code",
   "execution_count": 14,
   "metadata": {},
   "outputs": [],
   "source": [
    "Q = \"Wapno palone to związek chemiczny czy pierwiastek?\""
   ]
  },
  {
   "cell_type": "code",
   "execution_count": 15,
   "metadata": {},
   "outputs": [],
   "source": [
    "for description, *opts in re.findall(\"(.*?) to (.*?) czy (.*?)\\?\", Q):\n",
    "    counts = []\n",
    "    for opt in opts:\n",
    "        q = description + \" to \" + opt\n",
    "        solr_query = f'content_txt_pl:\"{description}\" AND content_txt_pl:\"{opt}\"'\n",
    "        r = requests.get(\n",
    "            SOLR_URL,\n",
    "            json={\"query\": solr_query, \"params\": {\"debugQuery\": False}}\n",
    "        )\n",
    "        response = r.json()\n",
    "        docs = response[\"response\"][\"docs\"]\n",
    "        counts.append((len(docs), opt))"
   ]
  },
  {
   "cell_type": "code",
   "execution_count": 16,
   "metadata": {},
   "outputs": [
    {
     "data": {
      "text/plain": [
       "[(0, 'pierwiastek'), (5, 'związek chemiczny')]"
      ]
     },
     "execution_count": 16,
     "metadata": {},
     "output_type": "execute_result"
    }
   ],
   "source": [
    "sorted(counts)"
   ]
  },
  {
   "cell_type": "code",
   "execution_count": 18,
   "metadata": {},
   "outputs": [],
   "source": [
    "from tqdm import tqdm"
   ]
  },
  {
   "cell_type": "code",
   "execution_count": 27,
   "metadata": {},
   "outputs": [
    {
     "data": {
      "text/plain": [
       "'Jak nazywa się pierwsza litera alfabetu greckiego?\\talfa'"
      ]
     },
     "execution_count": 27,
     "metadata": {},
     "output_type": "execute_result"
    }
   ],
   "source": [
    "a.split(\"\\n\")[0]"
   ]
  },
  {
   "cell_type": "code",
   "execution_count": 50,
   "metadata": {},
   "outputs": [
    {
     "data": {
      "text/plain": [
       "[('Wapno palone', 'związek chemiczny', 'pierwiastek', 'związek chemiczny')]"
      ]
     },
     "execution_count": 50,
     "metadata": {},
     "output_type": "execute_result"
    }
   ],
   "source": [
    "re.findall(\"^(.*?) to (.*?) czy (.*?)\\?\\s*(.*?)$\", 'Wapno palone to związek chemiczny czy pierwiastek?\\tzwiązek chemiczny')"
   ]
  },
  {
   "cell_type": "code",
   "execution_count": 105,
   "metadata": {},
   "outputs": [],
   "source": [
    "with open(\"data/questions.tsv\", \"rt\") as f:\n",
    "    a = f.read()"
   ]
  },
  {
   "cell_type": "code",
   "execution_count": 72,
   "metadata": {},
   "outputs": [
    {
     "data": {
      "text/plain": [
       "[('Oryks', 'antylopa', 'pies', 'kot', 'antylopa')]"
      ]
     },
     "execution_count": 72,
     "metadata": {},
     "output_type": "execute_result"
    }
   ],
   "source": [
    "re.findall(\"^(.*?) to (.*?)(?:, (.*?))* czy (.*?)\\?\\s*(.*?)$\", \"Oryks to antylopa, pies czy kot?\tantylopa\")"
   ]
  },
  {
   "cell_type": "code",
   "execution_count": 70,
   "metadata": {},
   "outputs": [
    {
     "data": {
      "text/plain": [
       "'content_txt_pl:punkt OR content_txt_pl:przecięcia OR content_txt_pl:osi OR content_txt_pl:w OR content_txt_pl:układzie OR content_txt_pl:współrzędnych AND '"
      ]
     },
     "execution_count": 70,
     "metadata": {},
     "output_type": "execute_result"
    }
   ],
   "source": [
    "solr_query"
   ]
  },
  {
   "cell_type": "code",
   "execution_count": 100,
   "metadata": {},
   "outputs": [
    {
     "data": {
      "text/plain": [
       "[('Ktoś „nie w ciemię bity”', 'ktoś sprytny', '', 'naiwny')]"
      ]
     },
     "execution_count": 100,
     "metadata": {},
     "output_type": "execute_result"
    }
   ],
   "source": [
    "re.findall(\"(.*?) to (.*?)(?:, (.*?))* czy (.*?)\\?\", \"Ktoś „nie w ciemię bity” to ktoś sprytny czy naiwny?\")"
   ]
  },
  {
   "cell_type": "code",
   "execution_count": 85,
   "metadata": {},
   "outputs": [
    {
     "data": {
      "text/plain": [
       "'abc'"
      ]
     },
     "execution_count": 85,
     "metadata": {},
     "output_type": "execute_result"
    }
   ],
   "source": [
    "re.search(\"\\w*\", \"abc\")[0]"
   ]
  },
  {
   "cell_type": "code",
   "execution_count": 91,
   "metadata": {},
   "outputs": [],
   "source": [
    "def tokenize(word):\n",
    "    return filter(None, [\n",
    "        re.search(\"\\w*\", t)[0]\n",
    "        for t in word.lower().split()\n",
    "    ])"
   ]
  },
  {
   "cell_type": "code",
   "execution_count": 98,
   "metadata": {},
   "outputs": [
    {
     "data": {
      "text/plain": [
       "{'responseHeader': {'status': 0,\n",
       "  'QTime': 0,\n",
       "  'params': {'json': '{\"query\": \"content_txt_pl:diablotka AND content_txt_pl:ostro OR content_txt_pl:przyprawiona OR content_txt_pl:zupa OR content_txt_pl:rybna\", \"params\": {\"debugQuery\": false}}'}},\n",
       " 'response': {'numFound': 0, 'start': 0, 'numFoundExact': True, 'docs': []}}"
      ]
     },
     "execution_count": 98,
     "metadata": {},
     "output_type": "execute_result"
    }
   ],
   "source": [
    "response"
   ]
  },
  {
   "cell_type": "code",
   "execution_count": 107,
   "metadata": {},
   "outputs": [
    {
     "name": "stdout",
     "output_type": "stream",
     "text": [
      "Punkt przecięcia osi w układzie współrzędnych to punkt zero czy linia odcięcia?\tpunkt zero\n",
      "Baron to tytuł wyższy czy niższy niż hrabia?\tniższy\n",
      "Ktoś „nie w ciemię bity” to ktoś sprytny czy naiwny?\tsprytny\n",
      "Czy sombrero to kapelusz, danie czy taniec?\tkapelusz\n",
      "Marmury Elgina to świątynia w Atenach czy zbiór starożytnych rzeźb greckich?\tzbiór starożytnych rzeźb greckich\n",
      "Wapno palone to związek chemiczny czy pierwiastek?\tzwiązek chemiczny\n",
      "Średniowieczne gęśle to instrument szarpany czy dęty?\tszarpany\n",
      "Miesiąc miodowy to okres przed czy po ślubie?\tprzed ślubem\n",
      "Hakownica to broń sieczna czy palna?\tpalna\tLondyn\n",
      "Świekier to dawna polska nazwa ojca żony czy ojca męża?\tojca męża\n",
      "Dybuk to dusza zmarłego grzesznika wstępująca do ciała żywego czy duch w domostwie domowym?\tdusza zmarłego grzesznika wstępująca do ciała żywego\n",
      "Hakownica to sprzęt alpejski czy broń?\tbroń\n",
      "Diablotka to ostro przyprawiona zupa rybna czy placek z ciasta francuskiego?\tplacek\n",
      "Synogarlice to odmiana gołębi czy sikorek?\tgołębi\n",
      "Ju-jitsu to starojapoński styl walki wręcz czy przy pomocy kijów bambusowych?\twręcz\n",
      "Tuja to roślina iglasta czy liściasta?\tiglasta\n",
      "Izotopy to atomy o tej samej liczbie masowej czy atomowej?\tatomowej\n",
      "Rada Ministrów to władza wykonawcza czy ustawodawcza?\twykonawcza\n",
      "Berdysz to rodzaj piki, miecza czy topora bojowego?\ttopora bojowego\n",
      "Panegiryk to utwór pochwalny czy szyderczy?\tpochwalny\n",
      "Tonsura to szata czy sposób golenia głowy?\tsposób golenia głowy\n",
      "Amazonka rudawa to gatunek mrówki czy pszczoły?\tmrówki\n",
      "Jarmuż to tradycyjne danie ukraińskie, roślina czy część ubrania chasydów?\troślina\n",
      "Władca Omanu to sułtan, emir czy król?\tsułtan\n",
      "Dzieło Michała Anioła „Sąd Ostateczny” to fresk czy akwarela?\tfresk\n",
      "Niechcicowie to bohaterowie „Nad Niemnem” czy „Nocy i dni”?\t„Nocy i dni”\n",
      "Kirys to nazwa broni siecznej, palnej czy części zbroi rycerskiej?\tczęści zbroi\n",
      "W architekturze islamu bab to okno czy brama?\tbrama\n",
      "Grań to ostra krawędź stoku górskiego czy przełęcz górska?\tostra krawędź stoku górskiego\n",
      "Utlenianie to przyjmowanie czy oddawanie elektronów?\toddawanie\tKtórym słowem określano damy dworskie?\n",
      "Alkierz to mebel, broń czy część budynku?\tczęść budynku\n",
      "Przemysław Niemiec i Rafał Majka to polscy kolarze czy żużlowcy?\tkolarze\n",
      "Żółtodziób to drobny przestępca czy ktoś młody i niedoświadczony?\tktoś młody i niedoświadczony\n",
      "Konformista to człowiek bezkrytycznie podporządkowujący się normom czy też sprzeciwiający się im?\tpodporządkowujący się normom\n",
      "Estragon to roślina zielna czy enzym produkowany przez wątrobę?\troślina zielna\n",
      "Jeżowiec jadalny to zwierzę czy roślina?\tzwierzę\n",
      "Cena paskarska to cena zawyżona czy zaniżona?\tzawyżona\n",
      "Koronaroplastyka to zabieg stomatologiczny czy kardiologiczny?\tkardiologiczny\n",
      "Wirus AH1N1 to wirus grypy czy ospy?\tgrypy\n",
      "Amnesty International to organizacja rządowa czy pozarządowa?\tpozarządowa\n",
      "Akwarysta to osoba hodująca ryby w akwarium czy malarz farbami akwarelowymi?\tosoba hodująca ryby w akwarium\n",
      "Brukselka to odmiana kapusty czy dyni?\tkapusty\n",
      "Czy pacynka to lalka zakładana na dłoń aktora czy sterowana sznurkami?\tzakładana na dłoń aktora\n",
      "Chinook to wiatr gorący czy zimny?\tgorący\n",
      "Buszel to anglosaska jednostka powierzchni, objętości czy promieniotwórczości?\tobjętości\n",
      "Strudel to potrawa mięsna czy ciasto z owocami?\tciasto z owocami\n",
      "Kłącze to podziemny czy nadziemny pęd rośliny?\tpodziemny\n",
      "Szwadron to pododdział piechoty czy kawalerii?\tkawalerii\n",
      "Mysikrólik to gatunek myszy, ptaka, czy królika?\tptaka\n",
      "Brit Awards to nagrody filmowe, muzyczne czy teatralne?\tmuzyczne\n",
      "ASEAN to organizacja skupiająca państwa Afryki czy Azji?\tAzji\n",
      "Groszek ptysiowy to roślina czy wypiek?\twypiek\n",
      "Leukocyty to białe krwinki czy czerwone?\tbiałe\n",
      "Kindziuk to regionalna wędlina czy roślina?\twędlina\n",
      "Tuńczyk to ryba morska czy słodkowodna?\tmorska\n",
      "Muffin to element ubioru, rodzaj gry czy ciastko?\tciastko\n",
      "Oryks to antylopa, pies czy kot?\tantylopa\n",
      "Tumulus to chmura czy kurhan?\tkurhan\n",
      "Camorra to nazwa mafii włoskiej czy hiszpańskiej?\twłoskiej\n",
      "Ildefransy to owce, krowy czy konie?\towce\n",
      "Turandot to księżniczka chińska czy książę tatrzański?\tksiężniczka chińska\n",
      "Czy barakudy to ryby drapieżne czy roślinożerne?\tdrapieżne\n",
      "Podiebrady to uzdrowisko czeskie, słowackie czy austriackie?\tczeskie\n",
      "Iryd to stop metali czy pierwiastek?\tpierwiastek\n",
      "Klezmer to potoczne określenie muzyka czy wędrownego aktora?\tmuzyka\n",
      "Co to jest dzięcielina z „Pana Tadeusza”: bielizna, roślina czy instrument muzyczny?\troślina\n",
      "Czy chablis to wino białe czy czerwone?\tbiałe\n",
      "Górnik Bulandra, kowalczyk Karlik, wojak Zeflik – to postaci z baśni Gustawa Morcinka czy braci Grimm?\tGustawa Morcinka\n",
      "Czy herbicydy to środki owadobójcze czy chwastobójcze?\tchwastobójcze\n",
      "Serwantka to rodzaj szafy czy stołu?\tszafy\n",
      "Enduro to rajd samochodowy czy motocyklowy?\tmotocyklowy\n",
      "Aerostat to urządzenie lżejsze czy cięższe od powietrza?\tlżejsze\n",
      "Psy gończe to gwiazdozbiór nieba północnego czy południowego?\tpółnocnego\n",
      "Czy papier to wynalazek europejski czy azjatycki?\tazjatycki\n",
      "„Pancernik Potiomkin” to film niemy czy dźwiękowy?\tniemy\n",
      "Genesis to Księga Rodzaju czy Księga Wyjścia?\tKsięga Rodzaju\n",
      "Francuski Libération to dziennik czy tygodnik?\tdziennik\n",
      "Birbant to inaczej hulaka czy skąpiec?\thulaka\n",
      "Laminat to tworzywo jedno- czy wielowarstwowe?\twielowarstwowe\n",
      "Karpaty to góry fałdowe, zrębowe czy wulkaniczne?\tfałdowe\n",
      "Kurtuazyjny styl to takt i uprzejmość czy złośliwości?\ttakt i uprzejmość\n",
      "Robert Zimmermann to prawdziwe nazwisko Stinga czy Boba Dylana?\tBoba Dylana\n",
      "Belle époque to okres przed czy po I wojnie światowej?\tprzed\n",
      "Jurta to namiot ludów koczowniczych Azji czy Indian?\tAzji\n",
      "Pippin, Sam i Merry to hobbici czy elfy?\thobbici\n",
      "Czy czad to tlenek czy dwutlenek węgla?\ttlenek węgla\n",
      "Według klasyfikacji charakterów Hipokratesa sangwinik to człowiek spokojny czy żywy?\tżywy\n",
      "Bunraku to teatr japoński czy chiński?\tjapoński\n",
      "Pamflet to utwór pochwalny czy szyderczy?\tszyderczy\n",
      "Chile to państwo w przeważającej mierze górzyste czy nizinne?\tgórzyste\n",
      "Konwergencja to podobieństwo czy przeciwieństwo?\tpodobieństwo\n",
      "Sonata to utwór instrumentalny czy wokalny?\tinstrumentalna\n",
      "Piaf to prawdziwe nazwisko czy pseudonim słynnej śpiewaczki?\tpseudonim\n",
      "NHL to zawodowa liga hokeja czy koszykówki?\thokeja\n",
      "Logorea to słowotok czy milczenie?\tsłowotok\n",
      "Na wielomasztowym żaglowcu fokmaszt to maszt z przodu, w środku czy z tyłu statku?\tz przodu\n",
      "Proxima centauri to gwiazda czy planeta?\tgwiazda\n",
      "Czy szerszenie to rodzaj dużych os, czy dużych pszczół?\tos\n",
      "Kugiel to jedna z tradycyjnych potraw kuchni żydowskiej, czy tę potrawę przygotowuje kugler?\tnie\n",
      "Mikołaj Kossak to ojciec czy dziadek Marii Pawlikowskiej-Jasnorzewskiej?\tdziadek\n",
      "Czy bliny to pierogi czy placki?\tplacki\n",
      "Cannelloni to włoski makaron czy pizza?\tmakaron\n",
      "Anchois to francuskie określenie potrawy z ryb, ślimaków czy żabich udek?\tz ryb\n",
      "Czy Polska Akcja Humanitarna to organizacja rządowa czy pozarządowa?\tpozarządowa\n",
      "Hajduk to wierzchnie okrycie z Kaszub czy staropolski taniec?\tstaropolski taniec\n",
      "Czy trąd to choroba przenoszona przez bakterie czy wirusy?\tprzez bakterie\n",
      "Czy żarłacz ludojad to tygrys czy rekin?\trekin\n",
      "Magnetyt to ruda żelaza czy magnezu?\tżelaza\n",
      "Czy gnomon to zegar słoneczny czy duch opiekujący się kopalniami?\tzegar słoneczny\n",
      "Słupek to organ rozrodczy męski czy żeński?\tmęski\n",
      "Karacena to broń czy zbroja?\tzbroja\n",
      "Rozrusznik serca, stent – to endo- czy egzoprotezy?\tendoprotezy\n",
      "Kanotier to kapelusz czy frak?\tkapelusz\n",
      "Urwistki to komórki glonów czy odnóża świerszczy?\tkomórki glonów\n"
     ]
    }
   ],
   "source": [
    "for l in re.finditer(\"^(.*?) to (.*?)(?:, (.*?))* czy (.*?)\\?\\s*(.*?)$\", a, flags=re.MULTILINE):\n",
    "    print(l[0])"
   ]
  },
  {
   "cell_type": "code",
   "execution_count": null,
   "metadata": {},
   "outputs": [],
   "source": []
  },
  {
   "cell_type": "code",
   "execution_count": 104,
   "metadata": {},
   "outputs": [
    {
     "data": {
      "text/plain": [
       "<re.Match object; span=(241130, 241194), match='Urwistki to komórki glonów czy odnóża świerszczy?>"
      ]
     },
     "execution_count": 104,
     "metadata": {},
     "output_type": "execute_result"
    }
   ],
   "source": [
    "a"
   ]
  },
  {
   "cell_type": "code",
   "execution_count": 99,
   "metadata": {},
   "outputs": [
    {
     "name": "stdout",
     "output_type": "stream",
     "text": [
      "Punkt przecięcia osi w układzie współrzędnych to punkt zero [(247, 'punkt zero'), (66, 'linia odcięcia')]\n",
      "Baron to niższy [(495, 'tytuł wyższy'), (29, 'niższy niż hrabia')]\n",
      "Ktoś „nie w ciemię bity” to sprytny [(1931, 'ktoś sprytny'), (1, 'naiwny')]\n",
      "Czy sombrero to kapelusz [(3, 'kapelusz'), (1, 'taniec'), (1, 'danie')]\n",
      "Marmury Elgina to zbiór starożytnych rzeźb greckich [(1, 'świątynia w Atenach'), (0, 'zbiór starożytnych rzeźb greckich')]\n",
      "Wapno palone to związek chemiczny [(67, 'związek chemiczny'), (3, 'pierwiastek')]\n",
      "Średniowieczne gęśle to szarpany [(10, 'instrument szarpany'), (0, 'dęty')]\n",
      "Miesiąc miodowy to przed ślubem [(240, 'po ślubie'), (23, 'okres przed')]\n",
      "Hakownica to palna\tLondyn [(10, 'broń sieczna'), (8, 'palna')]\n",
      "Świekier to ojca męża [(0, 'ojca męża'), (0, 'dawna polska nazwa ojca żony')]\n",
      "Dybuk to dusza zmarłego grzesznika wstępująca do ciała żywego [(2, 'dusza zmarłego grzesznika wstępująca do ciała żywego'), (1, 'duch w domostwie domowym')]\n",
      "Hakownica to broń [(10, 'broń'), (1, 'sprzęt alpejski')]\n",
      "Diablotka to placek [(0, 'placek z ciasta francuskiego'), (0, 'ostro przyprawiona zupa rybna')]\n",
      "Synogarlice to gołębi [(0, 'sikorek'), (0, 'odmiana gołębi')]\n",
      "Ju-jitsu to wręcz [(229, 'przy pomocy kijów bambusowych'), (0, 'starojapoński styl walki wręcz')]\n",
      "Tuja to iglasta [(2, 'roślina iglasta'), (0, 'liściasta')]\n",
      "Izotopy to atomowej [(66, 'atomowej'), (37, 'atomy o tej samej liczbie masowej')]\n",
      "Rada Ministrów to wykonawcza [(989, 'władza wykonawcza'), (130, 'ustawodawcza')]\n",
      "Berdysz to topora bojowego [(4, 'topora bojowego'), (2, 'rodzaj piki'), (2, 'miecza')]\n",
      "Panegiryk to pochwalny [(18, 'utwór pochwalny'), (0, 'szyderczy')]\n",
      "Tonsura to sposób golenia głowy [(2, 'sposób golenia głowy'), (1, 'szata')]\n",
      "Amazonka rudawa to mrówki [(63, 'gatunek mrówki'), (0, 'pszczoły')]\n",
      "Jarmuż to roślina [(3, 'roślina'), (1, 'część ubrania chasydów'), (0, 'tradycyjne danie ukraińskie')]\n",
      "Władca Omanu to sułtan [(25, 'sułtan'), (3, 'król'), (1, 'emir')]\n",
      "Dzieło Michała Anioła „Sąd Ostateczny” to fresk [(20, 'fresk'), (0, 'akwarela')]\n",
      "Niechcicowie to „Nocy i dni” [(0, '„Nocy i dni”'), (0, 'bohaterowie „Nad Niemnem”')]\n",
      "Kirys to części zbroi [(7, 'części zbroi rycerskiej'), (4, 'nazwa broni siecznej'), (1, 'palnej')]\n",
      "W architekturze islamu bab to brama [(5, 'brama'), (3, 'okno')]\n",
      "Grań to ostra krawędź stoku górskiego [(1316, 'przełęcz górska'), (116, 'ostra krawędź stoku górskiego')]\n",
      "Utlenianie to oddawanie\tKtórym słowem określano damy dworskie? [(7, 'przyjmowanie'), (6, 'oddawanie elektronów')]\n",
      "Alkierz to część budynku [(12, 'część budynku'), (0, 'mebel'), (0, 'broń')]\n",
      "Przemysław Niemiec i Rafał Majka to kolarze [(80, 'polscy kolarze'), (0, 'żużlowcy')]\n",
      "Żółtodziób to ktoś młody i niedoświadczony [(28, 'ktoś młody i niedoświadczony'), (0, 'drobny przestępca')]\n",
      "Konformista to podporządkowujący się normom [(1, 'też sprzeciwiający się im'), (0, 'człowiek bezkrytycznie podporządkowujący się normom')]\n",
      "Estragon to roślina zielna [(3, 'roślina zielna'), (0, 'enzym produkowany przez wątrobę')]\n",
      "Jeżowiec jadalny to zwierzę [(230, 'roślina'), (27, 'zwierzę')]\n",
      "Cena paskarska to zawyżona [(0, 'zaniżona'), (0, 'cena zawyżona')]\n",
      "Koronaroplastyka to kardiologiczny [(1, 'zabieg stomatologiczny'), (0, 'kardiologiczny')]\n",
      "Wirus AH1N1 to grypy [(0, 'wirus grypy'), (0, 'ospy')]\n",
      "Amnesty International to pozarządowa [(609, 'organizacja rządowa'), (68, 'pozarządowa')]\n",
      "Akwarysta to osoba hodująca ryby w akwarium [(4, 'osoba hodująca ryby w akwarium'), (0, 'malarz farbami akwarelowymi')]\n",
      "Brukselka to kapusty [(1, 'odmiana kapusty'), (0, 'dyni')]\n",
      "Czy pacynka to zakładana na dłoń aktora [(7, 'lalka zakładana na dłoń aktora'), (0, 'sterowana sznurkami')]\n",
      "Chinook to gorący [(2, 'wiatr gorący'), (1, 'zimny')]\n",
      "Buszel to objętości [(1, 'objętości'), (1, 'anglosaska jednostka powierzchni'), (0, 'promieniotwórczości')]\n",
      "Strudel to ciasto z owocami [(3, 'ciasto z owocami'), (1, 'potrawa mięsna')]\n",
      "Kłącze to podziemny [(24, 'podziemny'), (11, 'nadziemny pęd rośliny')]\n",
      "Szwadron to kawalerii [(478, 'kawalerii'), (100, 'pododdział piechoty')]\n",
      "Mysikrólik to ptaka [(12, 'ptaka,'), (12, 'gatunek myszy'), (0, 'królika')]\n",
      "Brit Awards to muzyczne [(786, 'nagrody filmowe'), (211, 'muzyczne'), (24, 'teatralne')]\n",
      "ASEAN to Azji [(6, 'organizacja skupiająca państwa Afryki'), (0, 'Azji')]\n",
      "Groszek ptysiowy to wypiek [(2, 'wypiek'), (0, 'roślina')]\n",
      "Leukocyty to białe [(9, 'czerwone'), (5, 'białe krwinki')]\n",
      "Kindziuk to wędlina [(0, 'roślina'), (0, 'regionalna wędlina')]\n",
      "Tuńczyk to morska [(19, 'ryba morska'), (0, 'słodkowodna')]\n",
      "Muffin to ciastko [(2, 'ciastko'), (0, 'rodzaj gry'), (0, 'element ubioru')]\n",
      "Oryks to antylopa [(6, 'antylopa'), (1, 'pies'), (0, 'kot')]\n",
      "Tumulus to kurhan [(3, 'kurhan'), (0, 'chmura')]\n",
      "Camorra to włoskiej [(1, 'hiszpańskiej'), (0, 'nazwa mafii włoskiej')]\n",
      "Ildefransy to owce [(0, 'owce'), (0, 'krowy'), (0, 'konie')]\n",
      "Turandot to księżniczka chińska [(6, 'księżniczka chińska'), (0, 'książę tatrzański')]\n",
      "Czy barakudy to drapieżne [(3, 'ryby drapieżne'), (0, 'roślinożerne')]\n",
      "Podiebrady to czeskie [(0, 'uzdrowisko czeskie'), (0, 'słowackie'), (0, 'austriackie')]\n",
      "Iryd to pierwiastek [(8, 'pierwiastek'), (7, 'stop metali')]\n",
      "Klezmer to muzyka [(1, 'wędrownego aktora'), (0, 'potoczne określenie muzyka')]\n",
      "Co to roślina [(13971, 'roślina'), (3601, 'instrument muzyczny'), (170, 'jest dzięcielina z „Pana Tadeusza”: bielizna')]\n",
      "Czy chablis to białe [(2, 'wino białe'), (0, 'czerwone')]\n",
      "Górnik Bulandra, kowalczyk Karlik, wojak Zeflik – to Gustawa Morcinka [(0, 'postaci z baśni Gustawa Morcinka'), (0, 'braci Grimm')]\n",
      "Czy herbicydy to chwastobójcze [(20, 'środki owadobójcze'), (4, 'chwastobójcze')]\n",
      "Serwantka to szafy [(1, 'rodzaj szafy'), (0, 'stołu')]\n",
      "Enduro to motocyklowy [(19, 'rajd samochodowy'), (14, 'motocyklowy')]\n",
      "Aerostat to lżejsze [(2, 'urządzenie lżejsze'), (1, 'cięższe od powietrza')]\n",
      "Psy gończe to północnego [(208, 'gwiazdozbiór nieba północnego'), (15, 'południowego')]\n",
      "Czy papier to azjatycki [(10, 'wynalazek europejski'), (1, 'azjatycki')]\n",
      "„Pancernik Potiomkin” to niemy [(8, 'film niemy'), (1, 'dźwiękowy')]\n",
      "Genesis to Księga Rodzaju [(11, 'Księga Wyjścia'), (11, 'Księga Rodzaju')]\n",
      "Francuski Libération to dziennik [(3, 'dziennik'), (1, 'tygodnik')]\n",
      "Birbant to hulaka [(1, 'skąpiec'), (0, 'inaczej hulaka')]\n",
      "Laminat to wielowarstwowe [(7, 'tworzywo jedno-'), (1, 'wielowarstwowe')]\n",
      "Karpaty to fałdowe [(554, 'góry fałdowe'), (21, 'wulkaniczne'), (7, 'zrębowe')]\n",
      "Kurtuazyjny styl to takt i uprzejmość [(15, 'takt i uprzejmość'), (1, 'złośliwości')]\n",
      "Robert Zimmermann to Boba Dylana [(1, 'Boba Dylana'), (0, 'prawdziwe nazwisko Stinga')]\n",
      "Belle époque to przed [(20, 'po I wojnie światowej'), (4, 'okres przed')]\n",
      "Jurta to Azji [(3, 'namiot ludów koczowniczych Azji'), (0, 'Indian')]\n",
      "Pippin, Sam i Merry to hobbici [(1, 'hobbici'), (1, 'elfy')]\n",
      "Czy czad to tlenek węgla [(3, 'tlenek'), (1, 'dwutlenek węgla')]\n",
      "Według klasyfikacji charakterów Hipokratesa sangwinik to żywy [(1, 'człowiek spokojny'), (0, 'żywy')]\n",
      "Bunraku to japoński [(7, 'teatr japoński'), (0, 'chiński')]\n",
      "Pamflet to szyderczy [(17, 'utwór pochwalny'), (1, 'szyderczy')]\n",
      "Chile to górzyste [(102, 'państwo w przeważającej mierze górzyste'), (3, 'nizinne')]\n",
      "Konwergencja to podobieństwo [(20, 'podobieństwo'), (0, 'przeciwieństwo')]\n",
      "Sonata to instrumentalna [(109, 'utwór instrumentalny'), (16, 'wokalny')]\n",
      "Piaf to pseudonim [(2, 'pseudonim słynnej śpiewaczki'), (1, 'prawdziwe nazwisko')]\n",
      "NHL to hokeja [(106, 'zawodowa liga hokeja'), (6, 'koszykówki')]\n",
      "Logorea to słowotok [(1, 'słowotok'), (0, 'milczenie')]\n",
      "Na wielomasztowym żaglowcu fokmaszt to z przodu [(16, 'z tyłu statku'), (11, 'w środku'), (11, 'maszt z przodu')]\n",
      "Proxima centauri to gwiazda [(57, 'gwiazda'), (8, 'planeta')]\n",
      "Czy szerszenie to os [(7, 'dużych pszczół'), (2, 'rodzaj dużych os,')]\n",
      "Kugiel to nie [(4, 'tę potrawę przygotowuje kugler'), (0, 'jedna z tradycyjnych potraw kuchni żydowskiej,')]\n",
      "Mikołaj Kossak to dziadek [(43, 'ojciec'), (1, 'dziadek Marii Pawlikowskiej-Jasnorzewskiej')]\n",
      "Czy bliny to placki [(2, 'placki'), (1, 'pierogi')]\n",
      "Cannelloni to makaron [(2, 'włoski makaron'), (0, 'pizza')]\n",
      "Anchois to z ryb [(1, 'francuskie określenie potrawy z ryb'), (0, 'żabich udek'), (0, 'ślimaków')]\n",
      "Czy Polska Akcja Humanitarna to pozarządowa [(102, 'organizacja rządowa'), (14, 'pozarządowa')]\n",
      "Hajduk to staropolski taniec [(0, 'wierzchnie okrycie z Kaszub'), (0, 'staropolski taniec')]\n",
      "Czy trąd to przez bakterie [(22, 'choroba przenoszona przez bakterie'), (0, 'wirusy')]\n",
      "Czy żarłacz ludojad to rekin [(6, 'rekin'), (2, 'tygrys')]\n",
      "Magnetyt to żelaza [(5, 'ruda żelaza'), (2, 'magnezu')]\n",
      "Czy gnomon to zegar słoneczny [(1, 'zegar słoneczny'), (0, 'duch opiekujący się kopalniami')]\n",
      "Słupek to męski [(36, 'żeński'), (18, 'organ rozrodczy męski')]\n",
      "Karacena to zbroja [(2, 'zbroja'), (1, 'broń')]\n",
      "Rozrusznik serca, stent – to endoprotezy [(0, 'endo-'), (0, 'egzoprotezy')]\n",
      "Kanotier to kapelusz [(1, 'kapelusz'), (0, 'frak')]\n",
      "Urwistki to komórki glonów [(2, 'komórki glonów'), (0, 'odnóża świerszczy')]\n"
     ]
    }
   ],
   "source": [
    "for description, *opts, correct in re.findall(\"^(.*?) to (.*?)(?:, (.*?))* czy (.*?)\\?\\s*(.*?)$\", a, flags=re.MULTILINE):\n",
    "    counts = []\n",
    "    description_query = \" OR \".join([f\"content_txt_pl:{t}\" for t in tokenize(description)])\n",
    "    for opt in filter(None, opts):\n",
    "        opt_query = \" OR \".join([f\"content_txt_pl:{t}\" for t in tokenize(opt)])\n",
    "        solr_query = f\"{description_query} AND {opt_query}\"\n",
    "        r = requests.get(\n",
    "            SOLR_URL,\n",
    "            json={\"query\": solr_query}\n",
    "        )\n",
    "        response = r.json()\n",
    "        counts.append((response[\"response\"][\"numFound\"], opt))\n",
    "    print(description + \" to \" + correct, list(reversed(sorted(counts))))"
   ]
  },
  {
   "cell_type": "code",
   "execution_count": null,
   "metadata": {},
   "outputs": [],
   "source": []
  }
 ],
 "metadata": {
  "kernelspec": {
   "display_name": "Python 3",
   "language": "python",
   "name": "python3"
  },
  "language_info": {
   "codemirror_mode": {
    "name": "ipython",
    "version": 3
   },
   "file_extension": ".py",
   "mimetype": "text/x-python",
   "name": "python",
   "nbconvert_exporter": "python",
   "pygments_lexer": "ipython3",
   "version": "3.8.14"
  },
  "orig_nbformat": 4,
  "vscode": {
   "interpreter": {
    "hash": "8848a20b5b44982eb2c8b876239fce675c3a0c73a856527d1b7cef8d0bf8d2e9"
   }
  }
 },
 "nbformat": 4,
 "nbformat_minor": 2
}
